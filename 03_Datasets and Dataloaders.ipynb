{
 "cells": [
  {
   "cell_type": "markdown",
   "metadata": {
    "id": "SGK9KANc5LEI"
   },
   "source": [
    "## Datasets and Dataloaders\n",
    "https://pytorch.org/tutorials/beginner/introyt/introyt1_tutorial.html\n",
    "- pytorch의 tutorial 영상에 14:00분에 해당\n",
    "- 아래에, TorchVision에서 바로 다운로드할 수 있는 오픈 액세스 데이터 세트 중 하나를 사용하여 모델에서 사용할 수 있도록 이미지를 변환하는 방법과 DataLoader를 사용하여 데이터 배치를 모델에 공급하는 방법을 보여드리겠습니다.\n",
    "\n",
    "- 가장 먼저 해야 할 일은 들어오는 이미지를 PyTorch 텐서로 변환하는 것입니다.\n"
   ]
  },
  {
   "cell_type": "code",
   "execution_count": 1,
   "metadata": {
    "colab": {
     "base_uri": "https://localhost:8080/"
    },
    "executionInfo": {
     "elapsed": 390,
     "status": "ok",
     "timestamp": 1638344349928,
     "user": {
      "displayName": "변강원",
      "photoUrl": "https://lh3.googleusercontent.com/a/default-user=s64",
      "userId": "15296852938585433757"
     },
     "user_tz": -540
    },
    "id": "BaXDEoFv44NA",
    "outputId": "ed0c2f08-5ec4-448e-d49c-5755ea36145f"
   },
   "outputs": [
    {
     "name": "stderr",
     "output_type": "stream",
     "text": [
      "C:\\Users\\user\\miniconda3\\envs\\mmcv\\lib\\site-packages\\numpy\\_distributor_init.py:32: UserWarning: loaded more than 1 DLL from .libs:\n",
      "C:\\Users\\user\\miniconda3\\envs\\mmcv\\lib\\site-packages\\numpy\\.libs\\libopenblas.GK7GX5KEQ4F6UYO3P26ULGBQYHGQO7J4.gfortran-win_amd64.dll\n",
      "C:\\Users\\user\\miniconda3\\envs\\mmcv\\lib\\site-packages\\numpy\\.libs\\libopenblas.WCDJNK7YVMPZQ2ME2ZZHJJRJ3JIKNDB7.gfortran-win_amd64.dll\n",
      "  stacklevel=1)\n"
     ]
    },
    {
     "name": "stdout",
     "output_type": "stream",
     "text": [
      "Compose(\n",
      "    ToTensor()\n",
      "    Normalize(mean=(0.5, 0.5, 0.5), std=(0.5, 0.5, 0.5))\n",
      ")\n"
     ]
    }
   ],
   "source": [
    "import matplotlib.pyplot as plt\n",
    "%matplotlib inline\n",
    "\n",
    "import torch\n",
    "import torchvision\n",
    "import torchvision.transforms as transforms\n",
    "\n",
    "transform = transforms.Compose(\n",
    "    [transforms.ToTensor(),\n",
    "     transforms.Normalize((0.5, 0.5, 0.5), (0.5, 0.5, 0.5))])\n",
    "\n",
    "print(transform)"
   ]
  },
  {
   "cell_type": "markdown",
   "metadata": {
    "id": "WBVBVHog78QG"
   },
   "source": [
    "- 여기에서, 우리는 인풋을 명시적으로 2가지 변환을 수행했다.\n",
    "  - transforms.ToTensor() -> Pillow로 불러온 이미지들을 Pytorch tensors로 컨버트 했다.\n",
    "  - transforms.Normalize() -> 평균은 0이고, 표준편차는 0.5인 tensor로 값들을 조정했다. 게다가 activation 함수가 가장 강력한 gradients인 x = 0을 가질 경우, 우리의 데이터가 중앙에 있을 경우 빠르게 학습할 수 있다.\n",
    "\n",
    "- reflection과 rotation, centering, cropping를 포함해서, 다양한 변환들을 이용할 수 있다.\n",
    "- 다음으로, 우리는 CIFAR10 데이터 셋에 인스턴스를 만들 수 있다. 이 데이터 셋은 10개의 object 클레스와 32 x 32 크기의 이미지 데이터 셋이다.\n",
    "- 4개의 탈것(비행기, 자동차, 배, 트럭)과 6개의 동물(새, 고양이, 사슴, 개, 개구리, 말)로 구성되어져 있다."
   ]
  },
  {
   "cell_type": "code",
   "execution_count": 2,
   "metadata": {
    "colab": {
     "base_uri": "https://localhost:8080/",
     "height": 85,
     "referenced_widgets": [
      "a62fb52b74d149fdb18367b6e7521c69",
      "24dd594a5ccb4e9a9327ff60d61378e9",
      "8f3f2c7ab9a2431c968e22825b0b8368",
      "42e19a5f4cf542d4aa43d3c2f5f1f629",
      "53b48b708f404a9b990b47dd5de4dc60",
      "f5e51732afee444097dbbd5a2699c255",
      "742c644faecd4fb4bfda1638afcf3bbf",
      "82e167056650414698c0e3e8bfdfe444",
      "f8a54514ca2145e1b4578b37aa40a05b",
      "e636ddad4c754a228f9e8aefe4795a94",
      "a57c792b119e49ca80fa541f6cad2521"
     ]
    },
    "executionInfo": {
     "elapsed": 10731,
     "status": "ok",
     "timestamp": 1638345610559,
     "user": {
      "displayName": "변강원",
      "photoUrl": "https://lh3.googleusercontent.com/a/default-user=s64",
      "userId": "15296852938585433757"
     },
     "user_tz": -540
    },
    "id": "fIkgFjW67Q8a",
    "outputId": "bcadd203-20ee-4acf-a9bc-66267ec390d1"
   },
   "outputs": [
    {
     "name": "stdout",
     "output_type": "stream",
     "text": [
      "Files already downloaded and verified\n"
     ]
    }
   ],
   "source": [
    "## 데이터 셋 로드\n",
    "trainset = torchvision.datasets.CIFAR10(root = \"./data\", train = True,\n",
    "                                        download = True, transform = transform)"
   ]
  },
  {
   "cell_type": "markdown",
   "metadata": {
    "id": "mB8hJAOeAn1c"
   },
   "source": [
    "- 위의 셀을 실행하면 데이터 세트가 다운로드되는 데 약간의 시간이 걸릴 수 있습니다."
   ]
  },
  {
   "cell_type": "markdown",
   "metadata": {
    "id": "xKtuwHBAAscD"
   },
   "source": [
    "- 위의 예제 코드는 Pytorch의 Object 데이터 셋을 만드는 과정이다.\n",
    "\n",
    "- 다운로드 할 수 있는 데이터 셋(위 예제 코드에 CIFAR10 데이터 셋 처럼)들은 torch.utils.data.Dataset에 하위 분류 되어져 있다.\n",
    "\n",
    "- Torch Audio와 Torchtext, TorchVision에 다운로드 할 수 있는 데이터 셋들은 Pytorch에 데이터 셋 클레스들을 포함하고 있으며, torchvision.datasets.ImageFolder와 같은 라벨이된 이미지에 폴더를 읽어 데이터 셋 클레스들의 유틸을 사용할 수 있다.\n",
    "\n",
    "- 하위 분류되어져 있는 데이터 셋들 중 원하는 것을 만들 수 있습니다."
   ]
  },
  {
   "cell_type": "markdown",
   "metadata": {
    "id": "Fwz1KIv2GbHB"
   },
   "source": [
    "- 데이터 셋 인스턴스를 만들 때, 몇 가지 필요한 것들은 다음과 같습니다. :\n",
    "    - root : 다운 받은 데이터를 받을 파일 시스템 경로 입니다.\n",
    "    \n",
    "    - train : 훈련에 이 세트를 사용하는지 여부 대부분의 데이터 세트는 훈련 및 테스트 데이터 셋으로 분할됩니다.\n",
    "    - download : 데이터세트를 아직 다운로드하지 않은 경우 다운로드할지 여부.\n",
    "    - transform : 데이터에 적용하려는 변환입니다."
   ]
  },
  {
   "cell_type": "code",
   "execution_count": 3,
   "metadata": {
    "colab": {
     "base_uri": "https://localhost:8080/"
    },
    "executionInfo": {
     "elapsed": 574,
     "status": "ok",
     "timestamp": 1638346060238,
     "user": {
      "displayName": "변강원",
      "photoUrl": "https://lh3.googleusercontent.com/a/default-user=s64",
      "userId": "15296852938585433757"
     },
     "user_tz": -540
    },
    "id": "72IBnlSdBKRC",
    "outputId": "01994000-bc9e-44d8-f828-8a7789d3e7a0"
   },
   "outputs": [
    {
     "name": "stdout",
     "output_type": "stream",
     "text": [
      "class 확인: ['airplane', 'automobile', 'bird', 'cat', 'deer', 'dog', 'frog', 'horse', 'ship', 'truck']\n",
      "class의 갯수 확인: 10\n",
      "이미지 데이터 셋의 모양 확안: (50000, 32, 32, 3) , 순서: (이미지 개수, width, height, chennel(RGB))\n",
      "class의 idx: {'airplane': 0, 'automobile': 1, 'bird': 2, 'cat': 3, 'deer': 4, 'dog': 5, 'frog': 6, 'horse': 7, 'ship': 8, 'truck': 9}\n"
     ]
    }
   ],
   "source": [
    "## class 확인\n",
    "print(\"class 확인:\",trainset.classes)\n",
    "print(\"class의 갯수 확인:\",len(trainset.classes))\n",
    "\n",
    "#  데이터 셋의 모양 확안\n",
    "print(\"이미지 데이터 셋의 모양 확안:\",trainset.data.shape, \", 순서:\",\"(이미지 개수, width, height, chennel(RGB))\")\n",
    "\n",
    "## class의 idx 확인\n",
    "print(\"class의 idx:\", trainset.class_to_idx)"
   ]
  },
  {
   "cell_type": "markdown",
   "metadata": {},
   "source": [
    "- 준비가된 데이터 셋을 데이터 로더에 할당 할 수 있다."
   ]
  },
  {
   "cell_type": "code",
   "execution_count": 4,
   "metadata": {},
   "outputs": [],
   "source": [
    "trainloader = torch.utils.data.DataLoader(trainset, batch_size = 1,\n",
    "                                         shuffle = True, num_workers = 2)"
   ]
  },
  {
   "cell_type": "markdown",
   "metadata": {},
   "source": [
    "- 데이터 세트는 데이터에 접근하기 위해 하위 클래스로 포장하고, 제공하는 데이터 유형에 특화되어 있습니다.\n",
    "- DataLoader는 데이터에 대해 아무것도 모르지만, Dataset에서 제공하는 입력 텐서를 사용자가 지정한 파라미터로 일괄 정리합니다."
   ]
  },
  {
   "cell_type": "markdown",
   "metadata": {},
   "source": [
    "- 위의 예에서, 우리는 데이터 로더에게 순서 상관 없이 랜덤(shuffle=True)하게 trainset으러 부터 4개의 이미지의 배치를 요구했고, 우리는 디스크로부터 데이터를 불러올 오고, 2개의 작업자로 스핀업 하도록 요구했다. 즉, cpu의 2개의 코어를 사용해서 GPU 데이터를 전달했다."
   ]
  },
  {
   "cell_type": "markdown",
   "metadata": {},
   "source": [
    "- 다음은 시각화 코드입니다."
   ]
  },
  {
   "cell_type": "code",
   "execution_count": 5,
   "metadata": {
    "colab": {
     "base_uri": "https://localhost:8080/",
     "height": 145
    },
    "executionInfo": {
     "elapsed": 514,
     "status": "ok",
     "timestamp": 1638347483519,
     "user": {
      "displayName": "변강원",
      "photoUrl": "https://lh3.googleusercontent.com/a/default-user=s64",
      "userId": "15296852938585433757"
     },
     "user_tz": -540
    },
    "id": "bCYJzWgdBVsO",
    "outputId": "91fe097e-4589-42f4-dac7-a573b3864bcc"
   },
   "outputs": [
    {
     "data": {
      "image/png": "[encoded data removed]",
      "text/plain": [
       "<Figure size 864x864 with 5 Axes>"
      ]
     },
     "metadata": {
      "needs_background": "light"
     },
     "output_type": "display_data"
    }
   ],
   "source": [
    "## 이미지 데이터 시각화\n",
    "import numpy as np\n",
    "\n",
    "label_seq = {0:'airplane',\n",
    "             1:'automobile',\n",
    "             2:'bird',\n",
    "             3:'cat',\n",
    "             4:'deer',\n",
    "             5:'dog',\n",
    "             6:'frog',\n",
    "             7:'horse',\n",
    "             8:'ship',\n",
    "             9:'truck'}\n",
    "\n",
    "plt.figure(figsize = (12, 12))\n",
    "\n",
    "for i in range(5):\n",
    "    index = np.random.randint(0, 50000)\n",
    "    \n",
    "    img = trainset.data[index,:,:,:]\n",
    "    label_index = trainset.targets[index]\n",
    "    label = label_seq[label_index]\n",
    "    plt.subplot(1,5,i + 1)\n",
    "    plt.imshow(img)\n",
    "    plt.axis(\"off\")\n",
    "    plt.title(label)\n",
    "\n",
    "plt.show()\n"
   ]
  },
  {
   "cell_type": "code",
   "execution_count": null,
   "metadata": {},
   "outputs": [],
   "source": []
  }
 ],
 "metadata": {
  "colab": {
   "authorship_tag": "ABX9TyPqkdmfKMAz1NzTeLiPQryW",
   "collapsed_sections": [],
   "name": "03_Datasets and Dataloaders.ipynb",
   "provenance": []
  },
  "kernelspec": {
   "display_name": "Python 3 (ipykernel)",
   "language": "python",
   "name": "python3"
  },
  "language_info": {
   "codemirror_mode": {
    "name": "ipython",
    "version": 3
   },
   "file_extension": ".py",
   "mimetype": "text/x-python",
   "name": "python",
   "nbconvert_exporter": "python",
   "pygments_lexer": "ipython3",
   "version": "3.7.11"
  },
  "widgets": {
   "application/vnd.jupyter.widget-state+json": {
    "24dd594a5ccb4e9a9327ff60d61378e9": {
     "model_module": "@jupyter-widgets/base",
     "model_module_version": "1.2.0",
     "model_name": "LayoutModel",
     "state": {
      "_model_module": "@jupyter-widgets/base",
      "_model_module_version": "1.2.0",
      "_model_name": "LayoutModel",
      "_view_count": null,
      "_view_module": "@jupyter-widgets/base",
      "_view_module_version": "1.2.0",
      "_view_name": "LayoutView",
      "align_content": null,
      "align_items": null,
      "align_self": null,
      "border": null,
      "bottom": null,
      "display": null,
      "flex": null,
      "flex_flow": null,
      "grid_area": null,
      "grid_auto_columns": null,
      "grid_auto_flow": null,
      "grid_auto_rows": null,
      "grid_column": null,
      "grid_gap": null,
      "grid_row": null,
      "grid_template_areas": null,
      "grid_template_columns": null,
      "grid_template_rows": null,
      "height": null,
      "justify_content": null,
      "justify_items": null,
      "left": null,
      "margin": null,
      "max_height": null,
      "max_width": null,
      "min_height": null,
      "min_width": null,
      "object_fit": null,
      "object_position": null,
      "order": null,
      "overflow": null,
      "overflow_x": null,
      "overflow_y": null,
      "padding": null,
      "right": null,
      "top": null,
      "visibility": null,
      "width": null
     }
    },
    "42e19a5f4cf542d4aa43d3c2f5f1f629": {
     "model_module": "@jupyter-widgets/controls",
     "model_module_version": "1.5.0",
     "model_name": "FloatProgressModel",
     "state": {
      "_dom_classes": [],
      "_model_module": "@jupyter-widgets/controls",
      "_model_module_version": "1.5.0",
      "_model_name": "FloatProgressModel",
      "_view_count": null,
      "_view_module": "@jupyter-widgets/controls",
      "_view_module_version": "1.5.0",
      "_view_name": "ProgressView",
      "bar_style": "success",
      "description": "",
      "description_tooltip": null,
      "layout": "IPY_MODEL_f8a54514ca2145e1b4578b37aa40a05b",
      "max": 170498071,
      "min": 0,
      "orientation": "horizontal",
      "style": "IPY_MODEL_82e167056650414698c0e3e8bfdfe444",
      "value": 170498071
     }
    },
    "53b48b708f404a9b990b47dd5de4dc60": {
     "model_module": "@jupyter-widgets/controls",
     "model_module_version": "1.5.0",
     "model_name": "HTMLModel",
     "state": {
      "_dom_classes": [],
      "_model_module": "@jupyter-widgets/controls",
      "_model_module_version": "1.5.0",
      "_model_name": "HTMLModel",
      "_view_count": null,
      "_view_module": "@jupyter-widgets/controls",
      "_view_module_version": "1.5.0",
      "_view_name": "HTMLView",
      "description": "",
      "description_tooltip": null,
      "layout": "IPY_MODEL_a57c792b119e49ca80fa541f6cad2521",
      "placeholder": "​",
      "style": "IPY_MODEL_e636ddad4c754a228f9e8aefe4795a94",
      "value": " 170499072/? [00:06&lt;00:00, 29155706.27it/s]"
     }
    },
    "742c644faecd4fb4bfda1638afcf3bbf": {
     "model_module": "@jupyter-widgets/base",
     "model_module_version": "1.2.0",
     "model_name": "LayoutModel",
     "state": {
      "_model_module": "@jupyter-widgets/base",
      "_model_module_version": "1.2.0",
      "_model_name": "LayoutModel",
      "_view_count": null,
      "_view_module": "@jupyter-widgets/base",
      "_view_module_version": "1.2.0",
      "_view_name": "LayoutView",
      "align_content": null,
      "align_items": null,
      "align_self": null,
      "border": null,
      "bottom": null,
      "display": null,
      "flex": null,
      "flex_flow": null,
      "grid_area": null,
      "grid_auto_columns": null,
      "grid_auto_flow": null,
      "grid_auto_rows": null,
      "grid_column": null,
      "grid_gap": null,
      "grid_row": null,
      "grid_template_areas": null,
      "grid_template_columns": null,
      "grid_template_rows": null,
      "height": null,
      "justify_content": null,
      "justify_items": null,
      "left": null,
      "margin": null,
      "max_height": null,
      "max_width": null,
      "min_height": null,
      "min_width": null,
      "object_fit": null,
      "object_position": null,
      "order": null,
      "overflow": null,
      "overflow_x": null,
      "overflow_y": null,
      "padding": null,
      "right": null,
      "top": null,
      "visibility": null,
      "width": null
     }
    },
    "82e167056650414698c0e3e8bfdfe444": {
     "model_module": "@jupyter-widgets/controls",
     "model_module_version": "1.5.0",
     "model_name": "ProgressStyleModel",
     "state": {
      "_model_module": "@jupyter-widgets/controls",
      "_model_module_version": "1.5.0",
      "_model_name": "ProgressStyleModel",
      "_view_count": null,
      "_view_module": "@jupyter-widgets/base",
      "_view_module_version": "1.2.0",
      "_view_name": "StyleView",
      "bar_color": null,
      "description_width": ""
     }
    },
    "8f3f2c7ab9a2431c968e22825b0b8368": {
     "model_module": "@jupyter-widgets/controls",
     "model_module_version": "1.5.0",
     "model_name": "HTMLModel",
     "state": {
      "_dom_classes": [],
      "_model_module": "@jupyter-widgets/controls",
      "_model_module_version": "1.5.0",
      "_model_name": "HTMLModel",
      "_view_count": null,
      "_view_module": "@jupyter-widgets/controls",
      "_view_module_version": "1.5.0",
      "_view_name": "HTMLView",
      "description": "",
      "description_tooltip": null,
      "layout": "IPY_MODEL_742c644faecd4fb4bfda1638afcf3bbf",
      "placeholder": "​",
      "style": "IPY_MODEL_f5e51732afee444097dbbd5a2699c255",
      "value": ""
     }
    },
    "a57c792b119e49ca80fa541f6cad2521": {
     "model_module": "@jupyter-widgets/base",
     "model_module_version": "1.2.0",
     "model_name": "LayoutModel",
     "state": {
      "_model_module": "@jupyter-widgets/base",
      "_model_module_version": "1.2.0",
      "_model_name": "LayoutModel",
      "_view_count": null,
      "_view_module": "@jupyter-widgets/base",
      "_view_module_version": "1.2.0",
      "_view_name": "LayoutView",
      "align_content": null,
      "align_items": null,
      "align_self": null,
      "border": null,
      "bottom": null,
      "display": null,
      "flex": null,
      "flex_flow": null,
      "grid_area": null,
      "grid_auto_columns": null,
      "grid_auto_flow": null,
      "grid_auto_rows": null,
      "grid_column": null,
      "grid_gap": null,
      "grid_row": null,
      "grid_template_areas": null,
      "grid_template_columns": null,
      "grid_template_rows": null,
      "height": null,
      "justify_content": null,
      "justify_items": null,
      "left": null,
      "margin": null,
      "max_height": null,
      "max_width": null,
      "min_height": null,
      "min_width": null,
      "object_fit": null,
      "object_position": null,
      "order": null,
      "overflow": null,
      "overflow_x": null,
      "overflow_y": null,
      "padding": null,
      "right": null,
      "top": null,
      "visibility": null,
      "width": null
     }
    },
    "a62fb52b74d149fdb18367b6e7521c69": {
     "model_module": "@jupyter-widgets/controls",
     "model_module_version": "1.5.0",
     "model_name": "HBoxModel",
     "state": {
      "_dom_classes": [],
      "_model_module": "@jupyter-widgets/controls",
      "_model_module_version": "1.5.0",
      "_model_name": "HBoxModel",
      "_view_count": null,
      "_view_module": "@jupyter-widgets/controls",
      "_view_module_version": "1.5.0",
      "_view_name": "HBoxView",
      "box_style": "",
      "children": [
       "IPY_MODEL_8f3f2c7ab9a2431c968e22825b0b8368",
       "IPY_MODEL_42e19a5f4cf542d4aa43d3c2f5f1f629",
       "IPY_MODEL_53b48b708f404a9b990b47dd5de4dc60"
      ],
      "layout": "IPY_MODEL_24dd594a5ccb4e9a9327ff60d61378e9"
     }
    },
    "e636ddad4c754a228f9e8aefe4795a94": {
     "model_module": "@jupyter-widgets/controls",
     "model_module_version": "1.5.0",
     "model_name": "DescriptionStyleModel",
     "state": {
      "_model_module": "@jupyter-widgets/controls",
      "_model_module_version": "1.5.0",
      "_model_name": "DescriptionStyleModel",
      "_view_count": null,
      "_view_module": "@jupyter-widgets/base",
      "_view_module_version": "1.2.0",
      "_view_name": "StyleView",
      "description_width": ""
     }
    },
    "f5e51732afee444097dbbd5a2699c255": {
     "model_module": "@jupyter-widgets/controls",
     "model_module_version": "1.5.0",
     "model_name": "DescriptionStyleModel",
     "state": {
      "_model_module": "@jupyter-widgets/controls",
      "_model_module_version": "1.5.0",
      "_model_name": "DescriptionStyleModel",
      "_view_count": null,
      "_view_module": "@jupyter-widgets/base",
      "_view_module_version": "1.2.0",
      "_view_name": "StyleView",
      "description_width": ""
     }
    },
    "f8a54514ca2145e1b4578b37aa40a05b": {
     "model_module": "@jupyter-widgets/base",
     "model_module_version": "1.2.0",
     "model_name": "LayoutModel",
     "state": {
      "_model_module": "@jupyter-widgets/base",
      "_model_module_version": "1.2.0",
      "_model_name": "LayoutModel",
      "_view_count": null,
      "_view_module": "@jupyter-widgets/base",
      "_view_module_version": "1.2.0",
      "_view_name": "LayoutView",
      "align_content": null,
      "align_items": null,
      "align_self": null,
      "border": null,
      "bottom": null,
      "display": null,
      "flex": null,
      "flex_flow": null,
      "grid_area": null,
      "grid_auto_columns": null,
      "grid_auto_flow": null,
      "grid_auto_rows": null,
      "grid_column": null,
      "grid_gap": null,
      "grid_row": null,
      "grid_template_areas": null,
      "grid_template_columns": null,
      "grid_template_rows": null,
      "height": null,
      "justify_content": null,
      "justify_items": null,
      "left": null,
      "margin": null,
      "max_height": null,
      "max_width": null,
      "min_height": null,
      "min_width": null,
      "object_fit": null,
      "object_position": null,
      "order": null,
      "overflow": null,
      "overflow_x": null,
      "overflow_y": null,
      "padding": null,
      "right": null,
      "top": null,
      "visibility": null,
      "width": null
     }
    }
   }
  }
 },
 "nbformat": 4,
 "nbformat_minor": 1
}
