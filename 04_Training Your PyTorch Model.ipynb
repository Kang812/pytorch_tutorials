{
 "cells": [
  {
   "cell_type": "markdown",
   "id": "8bf4005b",
   "metadata": {},
   "source": [
    "## 파이토치 모델 훈련\n",
    "- 튜토리얼 영상의 17분 10초"
   ]
  },
  {
   "cell_type": "code",
   "execution_count": 1,
   "id": "dd83beb7",
   "metadata": {},
   "outputs": [
    {
     "name": "stderr",
     "output_type": "stream",
     "text": [
      "C:\\Users\\user\\miniconda3\\envs\\mmcv\\lib\\site-packages\\numpy\\_distributor_init.py:32: UserWarning: loaded more than 1 DLL from .libs:\n",
      "C:\\Users\\user\\miniconda3\\envs\\mmcv\\lib\\site-packages\\numpy\\.libs\\libopenblas.GK7GX5KEQ4F6UYO3P26ULGBQYHGQO7J4.gfortran-win_amd64.dll\n",
      "C:\\Users\\user\\miniconda3\\envs\\mmcv\\lib\\site-packages\\numpy\\.libs\\libopenblas.WCDJNK7YVMPZQ2ME2ZZHJJRJ3JIKNDB7.gfortran-win_amd64.dll\n",
      "  stacklevel=1)\n"
     ]
    }
   ],
   "source": [
    "## Import\n",
    "import numpy as np\n",
    "import matplotlib\n",
    "import matplotlib.pyplot as plt\n",
    "%matplotlib inline\n",
    "\n",
    "import torch\n",
    "import torch.nn as nn\n",
    "import torch.optim as optim\n",
    "import torch.nn.functional as F\n",
    "\n",
    "import torchvision\n",
    "import torchvision.transforms as transforms\n"
   ]
  },
  {
   "cell_type": "code",
   "execution_count": 2,
   "id": "407e2551",
   "metadata": {},
   "outputs": [
    {
     "name": "stdout",
     "output_type": "stream",
     "text": [
      "Files already downloaded and verified\n",
      "Files already downloaded and verified\n"
     ]
    }
   ],
   "source": [
    "transform = transforms.Compose(\n",
    "    [transforms.ToTensor(),\n",
    "    transforms.Normalize((0.5, 0.5, 0.5), (0.5, 0.5, 0.5))])\n",
    "\n",
    "trainset = torchvision.datasets.CIFAR10(root = \"./data\", train = True,\n",
    "                                       download = True, transform = transform)\n",
    "\n",
    "trainloader = torch.utils.data.DataLoader(trainset, batch_size = 1,\n",
    "                                         shuffle = True, num_workers = 2)\n",
    "\n",
    "testset = torchvision.datasets.CIFAR10(root = './data', train = False,\n",
    "                                      download = True, transform = transform)\n",
    "\n",
    "testloader = torch.utils.data.DataLoader(testset, batch_size = 1,\n",
    "                                        shuffle = True, num_workers = 2)\n",
    "\n",
    "classes = ('plane', 'car', 'bird', 'cat',\n",
    "          'deer', 'dog', 'froh', 'horse', 'ship', 'truck')"
   ]
  },
  {
   "cell_type": "markdown",
   "id": "eef5c3cd",
   "metadata": {},
   "source": [
    "- 데이터 로더에 있는 결과를 확인하는 방법"
   ]
  },
  {
   "cell_type": "code",
   "execution_count": 3,
   "id": "3cbfdf7a",
   "metadata": {},
   "outputs": [
    {
     "data": {
      "image/png": "[encoded data removed]",
      "text/plain": [
       "<Figure size 864x864 with 5 Axes>"
      ]
     },
     "metadata": {
      "needs_background": "light"
     },
     "output_type": "display_data"
    }
   ],
   "source": [
    "## 시각화 함수 만들기\n",
    "## 이미지 데이터 시각화\n",
    "import numpy as np\n",
    "\n",
    "label_seq = {0:'airplane',\n",
    "             1:'automobile',\n",
    "             2:'bird',\n",
    "             3:'cat',\n",
    "             4:'deer',\n",
    "             5:'dog',\n",
    "             6:'frog',\n",
    "             7:'horse',\n",
    "             8:'ship',\n",
    "             9:'truck'}\n",
    "\n",
    "plt.figure(figsize = (12, 12))\n",
    "\n",
    "for i in range(5):\n",
    "    index = np.random.randint(0, 50000)\n",
    "    \n",
    "    img = trainset.data[index,:,:,:]\n",
    "    label_index = trainset.targets[index]\n",
    "    label = label_seq[label_index]\n",
    "    plt.subplot(1,5,i + 1)\n",
    "    plt.imshow(img)\n",
    "    plt.axis(\"off\")\n",
    "    plt.title(label)\n",
    "\n",
    "plt.show()\n"
   ]
  },
  {
   "cell_type": "markdown",
   "id": "1becd96b",
   "metadata": {},
   "source": [
    "- 이제 모델을 훈련시킬 것이다.\n",
    "- 어디서 본것 같다면, 그건 LeNet의 변형한 모델이라 그렇습니다.\n",
    "- 이 모델은 앞서 언급한것 처럼 3색(RGB) 이미지를 훈련하는데 적합한 모델로 변형한 모습입니다."
   ]
  },
  {
   "cell_type": "code",
   "execution_count": 4,
   "id": "e19c1dbf",
   "metadata": {},
   "outputs": [
    {
     "data": {
      "text/plain": [
       "Net(\n",
       "  (conv1): Conv2d(3, 6, kernel_size=(5, 5), stride=(1, 1))\n",
       "  (pool): MaxPool2d(kernel_size=2, stride=2, padding=0, dilation=1, ceil_mode=False)\n",
       "  (conv2): Conv2d(6, 16, kernel_size=(5, 5), stride=(1, 1))\n",
       "  (fc1): Linear(in_features=400, out_features=120, bias=True)\n",
       "  (fc2): Linear(in_features=120, out_features=84, bias=True)\n",
       "  (fc3): Linear(in_features=84, out_features=10, bias=True)\n",
       ")"
      ]
     },
     "execution_count": 4,
     "metadata": {},
     "output_type": "execute_result"
    }
   ],
   "source": [
    "class Net(nn.Module):\n",
    "    def __init__(self):\n",
    "        super(Net, self).__init__()\n",
    "        self.conv1 = nn.Conv2d(3, 6, 5)\n",
    "        self.pool = nn.MaxPool2d(2,2)\n",
    "        self.conv2 = nn.Conv2d(6, 16, 5)\n",
    "        self.fc1 = nn.Linear(16 * 5 * 5, 120)\n",
    "        self.fc2 = nn.Linear(120, 84)\n",
    "        self.fc3 = nn.Linear(84, 10)\n",
    "        \n",
    "    def forward(self, x):\n",
    "        x = self.pool(F.relu(self.conv1(x)))\n",
    "        x = self.pool(F.relu(self.conv2(x)))\n",
    "        x = x.view(-1, 16 * 5 * 5)\n",
    "        x = F.relu(self.fc1(x))\n",
    "        x = F.relu(self.fc2(x))\n",
    "        x = self.fc3(x)\n",
    "        \n",
    "        return x\n",
    "net = Net()\n",
    "net"
   ]
  },
  {
   "cell_type": "markdown",
   "id": "9e6b66a5",
   "metadata": {},
   "source": [
    "- 마지막으로 Loss 함수와 옵티마이저를 설정"
   ]
  },
  {
   "cell_type": "code",
   "execution_count": 5,
   "id": "e7025865",
   "metadata": {},
   "outputs": [],
   "source": [
    "criterion = nn.CrossEntropyLoss()\n",
    "optimizer = optim.SGD(net.parameters(), lr = 0.001, momentum=0.9)"
   ]
  },
  {
   "cell_type": "markdown",
   "id": "ee088c07",
   "metadata": {},
   "source": [
    "- 로스 함수는 모델이 이상적인 결과물을 예측하기 위한 추론 방법이다.\n",
    "- 전형적으로 분류 모델들은 CrossEntropyLoss 함수를 사용한다."
   ]
  },
  {
   "cell_type": "markdown",
   "id": "cddca24f",
   "metadata": {},
   "source": [
    "- 옵티마이저는 학습 드라이버이다. 여기에서 보다 간단한 최적화 알고리즘 중 하나인 확률적 경사 하강법(SGD(stochastic gradient descent))을 구현하는 최적화 프로그램을 만들었습니다.\n",
    "\n",
    "- net.parameters()를 통해서 이 알고리즘에 기본적인 파라미터들은 학습률(lr)과 모멘텀의 모든 학습 weight들을 모을 수 있다."
   ]
  },
  {
   "cell_type": "markdown",
   "id": "410d4471",
   "metadata": {},
   "source": [
    "- 마침내, 훈련 루프를 통해서 결합된다.\n",
    "- 실행하는 데 몇 분 정도 걸릴 수 있으므로 이 셀을 실행하세요."
   ]
  },
  {
   "cell_type": "code",
   "execution_count": 6,
   "id": "f8441961",
   "metadata": {
    "scrolled": true
   },
   "outputs": [
    {
     "name": "stdout",
     "output_type": "stream",
     "text": [
      "[1,  2000] loss: 2.245\n",
      "[1,  4000] loss: 2.082\n",
      "[1,  6000] loss: 1.907\n",
      "[1,  8000] loss: 1.830\n",
      "[1, 10000] loss: 1.808\n",
      "[1, 12000] loss: 1.728\n",
      "[1, 14000] loss: 1.720\n",
      "[1, 16000] loss: 1.720\n",
      "[1, 18000] loss: 1.666\n",
      "[1, 20000] loss: 1.648\n",
      "[1, 22000] loss: 1.647\n",
      "[1, 24000] loss: 1.610\n",
      "[1, 26000] loss: 1.607\n",
      "[1, 28000] loss: 1.596\n",
      "[1, 30000] loss: 1.596\n",
      "[1, 32000] loss: 1.594\n",
      "[1, 34000] loss: 1.595\n",
      "[1, 36000] loss: 1.572\n",
      "[1, 38000] loss: 1.552\n",
      "[1, 40000] loss: 1.606\n",
      "[1, 42000] loss: 1.551\n",
      "[1, 44000] loss: 1.575\n",
      "[1, 46000] loss: 1.552\n",
      "[1, 48000] loss: 1.562\n",
      "[1, 50000] loss: 1.562\n",
      "[2,  2000] loss: 1.524\n",
      "[2,  4000] loss: 1.518\n",
      "[2,  6000] loss: 1.500\n",
      "[2,  8000] loss: 1.518\n",
      "[2, 10000] loss: 1.509\n",
      "[2, 12000] loss: 1.466\n",
      "[2, 14000] loss: 1.508\n",
      "[2, 16000] loss: 1.556\n",
      "[2, 18000] loss: 1.542\n",
      "[2, 20000] loss: 1.502\n",
      "[2, 22000] loss: 1.531\n",
      "[2, 24000] loss: 1.512\n",
      "[2, 26000] loss: 1.528\n",
      "[2, 28000] loss: 1.519\n",
      "[2, 30000] loss: 1.539\n",
      "[2, 32000] loss: 1.553\n",
      "[2, 34000] loss: 1.521\n",
      "[2, 36000] loss: 1.530\n",
      "[2, 38000] loss: 1.541\n",
      "[2, 40000] loss: 1.583\n",
      "[2, 42000] loss: 1.527\n",
      "[2, 44000] loss: 1.465\n",
      "[2, 46000] loss: 1.551\n",
      "[2, 48000] loss: 1.511\n",
      "[2, 50000] loss: 1.512\n",
      "Finished Training\n"
     ]
    }
   ],
   "source": [
    "## 훈련을 2 epoch만 수행\n",
    "## 즉, 훈련을 2번한다.\n",
    "for epoch in range(2):\n",
    "    \n",
    "    running_loss = 0.0\n",
    "    \n",
    "    ## 이 내부 루프에서는 변형된 이미지와 고쳐진 라벨을 \n",
    "    ## 하나에 배치에 묶어 훈련 데이터 셋을 반복적으로 학습한다.\n",
    "    for i, data in enumerate(trainloader, 0):\n",
    "        \n",
    "        inputs, labels = data\n",
    "        \n",
    "        ## Zeroing 그레디언트의 중요한 단계이다.\n",
    "        ## 그레디언트는 각 배치마다 누적된다.\n",
    "        ## 만약 모든 배치를 초기화 하지 않는다면,\n",
    "        ## 그레디언트는 계속해서 축적될 것이고,\n",
    "        ## 잘 못된 그레디언트 값을 제공받아\n",
    "        ## 학습이 불가능하게 된다.\n",
    "        optimizer.zero_grad()\n",
    "        \n",
    "        ## 각 배치마다 모델이 예측한다.\n",
    "        outputs = net(inputs)\n",
    "        \n",
    "        ## 실제 값(labels)과 예측 값(outputs) 사이의 차이를\n",
    "        ## loss값으로 계산한다.\n",
    "        loss = criterion(outputs, labels)\n",
    "        \n",
    "        ## 우리는 학습으로 backward를 통해 그레디언트를 계산한다.\n",
    "        loss.backward()\n",
    "        \n",
    "        ## 옵티마이저는 한번 학습에 step을 수행합니다.\n",
    "        ## loss 값을 감소 시키는 방향에 있는 학습 가중치를 불러와\n",
    "        ## backward로 부터 그레디언트를 사용합니다.\n",
    "        optimizer.step()\n",
    "        \n",
    "        running_loss += loss.item()\n",
    "        \n",
    "        if i % 2000 == 1999:\n",
    "            print('[%d, %5d] loss: %.3f' % \n",
    "                  (epoch + 1, i + 1, running_loss / 2000))\n",
    "            \n",
    "            running_loss = 0.0\n",
    "\n",
    "print('Finished Training')"
   ]
  },
  {
   "cell_type": "markdown",
   "id": "b6d117c4",
   "metadata": {},
   "source": [
    "- 손실은 단조롭게 내림차순이며, 이는 우리 모델이 훈련 데이터 세트에 대한 성능을 계속 개선하고 있음을 나타냅니다.\n",
    "- 마지막 단계로 우리는 모델이 단순히 데이터 세트를 \"암기\"하는 것이 아니라 실제로 일반 학습을 수행하는지 확인해야 합니다.\n",
    "- 이를 과적합이라고 하며 일반적으로 데이터 세트가 너무 작거나(일반 학습에 대한 예제가 충분하지 않음) 모델에 데이터 세트를 올바르게 모델링하는 데 필요한 것보다 더 많은 학습 매개변수가 있음을 나타냅니다.\n",
    "- 이것이 데이터 세트가 훈련 및 테스트 데이터 셋으로 분할되는 이유입니다.- 모델의 일반화를 테스트하기 위해 훈련하지 않은 데이터(처음보는 데이터)에 대한 예측을 수행하도록 요청합니다."
   ]
  },
  {
   "cell_type": "code",
   "execution_count": 7,
   "id": "cbb73559",
   "metadata": {},
   "outputs": [
    {
     "name": "stdout",
     "output_type": "stream",
     "text": [
      "Accuracy of the network on the 10000 test images: 47 %\n"
     ]
    }
   ],
   "source": [
    "correct = 0\n",
    "total = 0\n",
    "with torch.no_grad():\n",
    "    for data in testloader:\n",
    "        images, labels = data\n",
    "        outputs = net(images)\n",
    "        _, predicted = torch.max(outputs.data, 1)\n",
    "        total += labels.size(0)\n",
    "        correct += (predicted == labels).sum().item()\n",
    "\n",
    "print('Accuracy of the network on the 10000 test images: %d %%' % (\n",
    "    100 * correct / total))"
   ]
  },
  {
   "cell_type": "markdown",
   "id": "1bc81ffc",
   "metadata": {},
   "source": [
    "- 모델의 정확도가 대략 50%임을 알 수 있습니다.\n",
    "- 이것은 모델에서 일부 일반적인 학습이 발생했음을 보여줍니다."
   ]
  },
  {
   "cell_type": "code",
   "execution_count": null,
   "id": "b82b83ce",
   "metadata": {},
   "outputs": [],
   "source": []
  }
 ],
 "metadata": {
  "kernelspec": {
   "display_name": "Python 3 (ipykernel)",
   "language": "python",
   "name": "python3"
  },
  "language_info": {
   "codemirror_mode": {
    "name": "ipython",
    "version": 3
   },
   "file_extension": ".py",
   "mimetype": "text/x-python",
   "name": "python",
   "nbconvert_exporter": "python",
   "pygments_lexer": "ipython3",
   "version": "3.7.11"
  }
 },
 "nbformat": 4,
 "nbformat_minor": 5
}
