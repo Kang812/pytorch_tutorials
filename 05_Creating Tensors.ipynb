{
 "cells": [
  {
   "cell_type": "markdown",
   "id": "a4576a0d",
   "metadata": {},
   "source": [
    "## Creating Tensors\n",
    "- Tensor의 가장 중요한 데이터를 파이토치로 추출할 수 있다.\n",
    "- 이 대화형 노트북은 torch.Tensor 클레스에 대한 깊은 소개를 제공합니다."
   ]
  },
  {
   "cell_type": "markdown",
   "id": "91cbc92b",
   "metadata": {},
   "source": [
    "- 가장 먼저, 파이토치와 사용할 예제코드 수행을 수월하게 해줄 math 함수도 import 합니다."
   ]
  },
  {
   "cell_type": "code",
   "execution_count": 1,
   "id": "417997d3",
   "metadata": {},
   "outputs": [],
   "source": [
    "import torch\n",
    "import math"
   ]
  },
  {
   "cell_type": "markdown",
   "id": "9851eae7",
   "metadata": {},
   "source": [
    "- 가장 간단한 텐서를 만들기 위해서 torch.empty를 부릅니다."
   ]
  },
  {
   "cell_type": "code",
   "execution_count": 2,
   "id": "b9ced7e9",
   "metadata": {},
   "outputs": [
    {
     "name": "stdout",
     "output_type": "stream",
     "text": [
      "<class 'torch.Tensor'>\n",
      "tensor([[1.1431e+27, 6.9983e+28, 1.9349e-19, 4.5445e+30],\n",
      "        [4.7429e+30, 7.1354e+31, 7.1118e-04, 1.7444e+28],\n",
      "        [7.3909e+22, 4.5828e+30, 3.2483e+33, 1.9690e-19]])\n"
     ]
    }
   ],
   "source": [
    "# Row는 3, colume은 4로 이루어진 비워져 있는 tensor를 만든다,\n",
    "x = torch.empty(3, 4)\n",
    "\n",
    "print(type(x))\n",
    "print(x)"
   ]
  },
  {
   "cell_type": "markdown",
   "id": "ecd5f270",
   "metadata": {},
   "source": [
    "- 우리가 방금 실행한 코드를 분석해보자:\n",
    "    - 우리는 torch 모듈에 부착된 수 많은 공장을 만드는 방법들 중 하나를 사용해 tensor를 만들었다.\n",
    "    - 행이 3이고, 컬럼이 4인 2차원 행렬의 tensor를 만들었다.\n",
    "    - 기본적인 object의 타입은 torch.tensor에 의해 반환되며(torch.tensor의 별칭 torch.FloatTensor), PyTorch 텐서는 32비트 부동소수점 숫자로 채워진다.(아래에 조금 더 많은 타입을 볼 수 있다.)\n",
    "    - tensor를 프린팅하면, 몇몇 값들이 랜덤으로 바뀌는 것을 볼 수 있다. torch.empty()를 부르면 메모리에 tensor를 할당 하지만, 초기에는 어떤 값으로도 할당하지 않는다. - 그래서, 할당할 당시에 메모리에 있는 값을 볼 수 있다.\n",
    "    \n",
    "\n",
    "- 텐서와 그 치수 및 용어에 대한 간략한 참고 사항:\n",
    "    - 1차원 tensor를 vector라고 부른다.\n",
    "    - 2차원 tensor를 matrix리고 부른다.\n",
    "    - 2차원 보다 더 큰 차원을 일반적으로 tensor라고 부른다.\n",
    "\n",
    "\n",
    "- 종종 텐서를 어떤 값으로 초기화하는 것이 좋다. 일반적인 경우는 모두 0, 모두 1 또는 랜덤 값이며, 토치 모듈은 다음 모두에 대한 factory methods을 제공합니다."
   ]
  },
  {
   "cell_type": "code",
   "execution_count": 7,
   "id": "0aec989e",
   "metadata": {},
   "outputs": [
    {
     "name": "stdout",
     "output_type": "stream",
     "text": [
      "tensor([[0., 0., 0.],\n",
      "        [0., 0., 0.]])\n",
      "\n",
      "tensor([[1., 1., 1.],\n",
      "        [1., 1., 1.]])\n",
      "\n",
      "tensor([[0.3126, 0.3791, 0.3087],\n",
      "        [0.0736, 0.4216, 0.0691]])\n"
     ]
    }
   ],
   "source": [
    "zeros = torch.zeros((2,3))\n",
    "print(zeros)\n",
    "\n",
    "ones = torch.ones((2,3))\n",
    "print()\n",
    "print(ones)\n",
    "\n",
    "torch.manual_seed(1729)\n",
    "random = torch.rand((2,3))\n",
    "print()\n",
    "print(random)"
   ]
  },
  {
   "cell_type": "markdown",
   "id": "0209cb6f",
   "metadata": {},
   "source": [
    "-  factory methods은 모두 예상했던 그대로 동작합니다. - 우리는 전부 0이거나 1이고, 0과 1 사이의 값을 가지는 Tensor를 가질 수 있습니다."
   ]
  },
  {
   "cell_type": "markdown",
   "id": "07765d70",
   "metadata": {},
   "source": [
    "## Random Tensors and Seeding\n",
    "- 임의 Tensor에 대해서 말하자면, torch.manual_seed()을 불러왔다는 것을 알고 있었나요 .. ?\n",
    "- 랜덤 값을 사용하여 모델의 학습 가중치와 같은 텐서를 초기화하는 것이 일반적이지만 다음과 같은 경우가 있습니다(특히 연구 환경에서).\n",
    "- 결과의 재현성에 대한 확신이 필요할 것입니다. 난수 생성기의 시드를 수동으로 설정하는 것이 이를 위한 방법입니다. 좀 더 자세히 알아보겠습니다."
   ]
  },
  {
   "cell_type": "code",
   "execution_count": 10,
   "id": "f30b90b6",
   "metadata": {},
   "outputs": [
    {
     "name": "stdout",
     "output_type": "stream",
     "text": [
      "random1\n",
      "tensor([[0.3126, 0.3791, 0.3087],\n",
      "        [0.0736, 0.4216, 0.0691]])\n",
      "\n",
      "random2\n",
      "tensor([[0.2332, 0.4047, 0.2162],\n",
      "        [0.9927, 0.4128, 0.5938]])\n",
      "\n",
      "random3\n",
      "tensor([[0.3126, 0.3791, 0.3087],\n",
      "        [0.0736, 0.4216, 0.0691]])\n",
      "\n",
      "random4\n",
      "tensor([[0.2332, 0.4047, 0.2162],\n",
      "        [0.9927, 0.4128, 0.5938]])\n"
     ]
    }
   ],
   "source": [
    "torch.manual_seed(1729)\n",
    "random1 = torch.rand(2,3)\n",
    "print(\"random1\")\n",
    "print(random1)\n",
    "print()\n",
    "\n",
    "random2 = torch.rand(2,3)\n",
    "print(\"random2\")\n",
    "print(random2)\n",
    "print()\n",
    "\n",
    "torch.manual_seed(1729)\n",
    "random3 = torch.rand(2,3)\n",
    "print(\"random3\")\n",
    "print(random3)\n",
    "print()\n",
    "\n",
    "random4 = torch.rand(2,3)\n",
    "print(\"random4\")\n",
    "print(random4)"
   ]
  },
  {
   "cell_type": "markdown",
   "id": "701d3bbe",
   "metadata": {},
   "source": [
    "- 위의 결과를 보면, 랜덤1과 랜덤3, 랜덤2 와 랜덤4가 동일한 값을 갖는다는 것입니다.\n",
    "- RNG의 시드를 수동으로 설정하면 시드가 재설정되므로 대부분의 설정에서 무작위 번호에 따른 동일한 계산이 동일한 결과를 제공한다.\n",
    "- 자세한 내용은 재현성에 대한 <a href = https://pytorch.org/docs/stable/notes/randomness.html>PyTorch</a> 문서를 참조하십시오."
   ]
  },
  {
   "cell_type": "markdown",
   "id": "79eae150",
   "metadata": {},
   "source": [
    "## Tensor Shapes\n",
    "- 종종, 2개 이상의 Tensor에 대한 작업을 수행할 때, 같은 모양이여야한다. 즉, 차원의 수가 동일하고, 각 차원이 가지고 있는 셀의 수가 동일한 수를 가져야한다. 그러므로, torch.*_like() 방법을 수행할 것이다."
   ]
  },
  {
   "cell_type": "code",
   "execution_count": 15,
   "id": "ec66e2aa",
   "metadata": {},
   "outputs": [
    {
     "name": "stdout",
     "output_type": "stream",
     "text": [
      "torch.Size([2, 2, 3])\n",
      "tensor([[[1.5766e-19, 1.0256e-08, 1.0313e-08],\n",
      "         [3.1300e+12, 6.9368e-07, 1.0491e-08]],\n",
      "\n",
      "        [[4.1025e-08, 1.2750e+16, 2.1707e-18],\n",
      "         [7.0952e+22, 1.7748e+28, 1.8176e+31]]])\n",
      "torch.Size([2, 2, 3])\n",
      "tensor([[[ 8.4433e-33,  4.5748e-41,  8.4433e-33],\n",
      "         [ 4.5748e-41, -6.1846e+10,  0.0000e+00]],\n",
      "\n",
      "        [[-6.1848e+10,  4.5745e-41, -6.1852e+10],\n",
      "         [ 4.5745e-41,  1.8077e-43,  0.0000e+00]]])\n",
      "torch.Size([2, 2, 3])\n",
      "tensor([[[0., 0., 0.],\n",
      "         [0., 0., 0.]],\n",
      "\n",
      "        [[0., 0., 0.],\n",
      "         [0., 0., 0.]]])\n",
      "torch.Size([2, 2, 3])\n",
      "tensor([[[1., 1., 1.],\n",
      "         [1., 1., 1.]],\n",
      "\n",
      "        [[1., 1., 1.],\n",
      "         [1., 1., 1.]]])\n"
     ]
    }
   ],
   "source": [
    "x = torch.empty(2,2,3)\n",
    "print(x.shape)\n",
    "print(x)\n",
    "\n",
    "empty_like_x = torch.empty_like(x)\n",
    "print(empty_like_x.shape)\n",
    "print(empty_like_x)\n",
    "\n",
    "zeros_like_x = torch.zeros_like(x)\n",
    "print(zeros_like_x.shape)\n",
    "print(zeros_like_x)\n",
    "\n",
    "ones_like_x = torch.ones_like(x)\n",
    "print(ones_like_x.shape)\n",
    "print(ones_like_x)"
   ]
  },
  {
   "cell_type": "code",
   "execution_count": null,
   "id": "ce978209",
   "metadata": {},
   "outputs": [],
   "source": []
  }
 ],
 "metadata": {
  "kernelspec": {
   "display_name": "Python 3 (ipykernel)",
   "language": "python",
   "name": "python3"
  },
  "language_info": {
   "codemirror_mode": {
    "name": "ipython",
    "version": 3
   },
   "file_extension": ".py",
   "mimetype": "text/x-python",
   "name": "python",
   "nbconvert_exporter": "python",
   "pygments_lexer": "ipython3",
   "version": "3.8.11"
  }
 },
 "nbformat": 4,
 "nbformat_minor": 5
}
