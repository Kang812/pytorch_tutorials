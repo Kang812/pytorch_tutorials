{
 "cells": [
  {
   "cell_type": "markdown",
   "id": "a4576a0d",
   "metadata": {},
   "source": [
    "## Creating Tensors\n",
    "- Tensor의 가장 중요한 데이터를 파이토치로 추출할 수 있다.\n",
    "- 이 대화형 노트북은 torch.Tensor 클레스에 대한 깊은 소개를 제공합니다."
   ]
  },
  {
   "cell_type": "markdown",
   "id": "91cbc92b",
   "metadata": {},
   "source": [
    "- 가장 먼저, 파이토치와 사용할 예제코드 수행을 수월하게 해줄 math 함수도 import 합니다."
   ]
  },
  {
   "cell_type": "code",
   "execution_count": 1,
   "id": "417997d3",
   "metadata": {},
   "outputs": [
    {
     "name": "stderr",
     "output_type": "stream",
     "text": [
      "C:\\Users\\user\\miniconda3\\envs\\mmcv\\lib\\site-packages\\numpy\\_distributor_init.py:32: UserWarning: loaded more than 1 DLL from .libs:\n",
      "C:\\Users\\user\\miniconda3\\envs\\mmcv\\lib\\site-packages\\numpy\\.libs\\libopenblas.GK7GX5KEQ4F6UYO3P26ULGBQYHGQO7J4.gfortran-win_amd64.dll\n",
      "C:\\Users\\user\\miniconda3\\envs\\mmcv\\lib\\site-packages\\numpy\\.libs\\libopenblas.WCDJNK7YVMPZQ2ME2ZZHJJRJ3JIKNDB7.gfortran-win_amd64.dll\n",
      "  stacklevel=1)\n"
     ]
    }
   ],
   "source": [
    "import torch\n",
    "import math"
   ]
  },
  {
   "cell_type": "markdown",
   "id": "9851eae7",
   "metadata": {},
   "source": [
    "- 가장 간단한 텐서를 만들기 위해서 torch.empty를 부릅니다."
   ]
  },
  {
   "cell_type": "code",
   "execution_count": 4,
   "id": "b9ced7e9",
   "metadata": {},
   "outputs": [
    {
     "name": "stdout",
     "output_type": "stream",
     "text": [
      "<class 'torch.Tensor'>\n",
      "tensor([[0., 0., 0., 0.],\n",
      "        [0., 0., 0., 0.],\n",
      "        [0., 0., 0., 0.]])\n"
     ]
    }
   ],
   "source": [
    "# Row는 3, colume은 4로 이루어진 비워져 있는 tensor를 만든다,\n",
    "x = torch.empty(3, 4)\n",
    "\n",
    "print(type(x))\n",
    "print(x)"
   ]
  },
  {
   "cell_type": "markdown",
   "id": "ecd5f270",
   "metadata": {},
   "source": [
    "- 우리가 방금 실행한 코드를 분석해보자:\n",
    "    - 우리는 torch 모듈에 부착된 수 많은 공장을 만드는 방법들 중 하나를 사용해 tensor를 만들었다.\n",
    "    - 행이 3이고, 컬럼이 4인 2차원 행렬의 tensor를 만들었다.\n",
    "    - 기본적인 object의 타입은 torch.tensor에 의해 반환되며(torch.tensor의 별칭 torch.FloatTensor), PyTorch 텐서는 32비트 부동소수점 숫자로 채워진다.(아래에 조금 더 많은 타입을 볼 수 있다.)\n",
    "    - "
   ]
  },
  {
   "cell_type": "code",
   "execution_count": null,
   "id": "0aec989e",
   "metadata": {},
   "outputs": [],
   "source": []
  }
 ],
 "metadata": {
  "kernelspec": {
   "display_name": "Python 3 (ipykernel)",
   "language": "python",
   "name": "python3"
  },
  "language_info": {
   "codemirror_mode": {
    "name": "ipython",
    "version": 3
   },
   "file_extension": ".py",
   "mimetype": "text/x-python",
   "name": "python",
   "nbconvert_exporter": "python",
   "pygments_lexer": "ipython3",
   "version": "3.7.11"
  }
 },
 "nbformat": 4,
 "nbformat_minor": 5
}
