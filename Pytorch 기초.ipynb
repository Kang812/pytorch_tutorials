{
 "cells": [
  {
   "cell_type": "markdown",
   "id": "83e690c6",
   "metadata": {},
   "source": [
    "## 파이토치의 구성요소"
   ]
  },
  {
   "cell_type": "markdown",
   "id": "94ede1c5",
   "metadata": {},
   "source": [
    "    - torch: 텐서를 생성하는 라이브러리\n",
    "    - torch.autograd: 자동 미분 기능을 제공하는 라이브러리\n",
    "    - torch.nn: 신경망을 생성하는 라이브러리\n",
    "    - torch.mutiprocessing : 병렬처리 기능을 제공하는 라이브러리\n",
    "    - torch.utils : 데이터 조작 등 유틸리티 기능 제공\n",
    "    - torch.legacy(./nn/.optim) : Torch로부터 포팅해온 코드\n",
    "    - torch.onnx : ONNX(Open Neural Network Exchange)\n",
    "        - 서로 다른 프레임워크 간의 모델을 공유할 때 사용"
   ]
  },
  {
   "cell_type": "markdown",
   "id": "45826549",
   "metadata": {},
   "source": [
    "## 텐서(Tensors)\n",
    "- 넘파이(Numpy)의 ndarray와 유사\n",
    "- GPU를 사용한 연산 가속도 가능"
   ]
  },
  {
   "cell_type": "code",
   "execution_count": 1,
   "id": "b8d5c84e",
   "metadata": {},
   "outputs": [
    {
     "data": {
      "text/plain": [
       "'1.9.0+cu111'"
      ]
     },
     "execution_count": 1,
     "metadata": {},
     "output_type": "execute_result"
    }
   ],
   "source": [
    "import torch\n",
    "torch.__version__"
   ]
  },
  {
   "cell_type": "markdown",
   "id": "11e4cfea",
   "metadata": {},
   "source": [
    "### 초기화 되지 않은 행렬\n",
    "- 초기화가 되지 않았지만, 메모리를 잡고, 메모리에 있던 기존에 사용하던 값들을 가져와 Tensor로 만듬 특정 값이 있는거 처럼 보임"
   ]
  },
  {
   "cell_type": "code",
   "execution_count": 20,
   "id": "78ceb71a",
   "metadata": {},
   "outputs": [
    {
     "name": "stdout",
     "output_type": "stream",
     "text": [
      "tensor([[-1.8088e-31,  4.5642e-41],\n",
      "        [-2.1558e+18,  3.0763e-41],\n",
      "        [ 4.4842e-44,  0.0000e+00],\n",
      "        [ 8.9683e-44,  0.0000e+00]])\n"
     ]
    }
   ],
   "source": [
    "#torch.empty(행,열)\n",
    "\n",
    "x = torch.empty(4,2)\n",
    "print(x)"
   ]
  },
  {
   "cell_type": "markdown",
   "id": "bd583066",
   "metadata": {},
   "source": [
    "### 무작위로 초기화된 행렬"
   ]
  },
  {
   "cell_type": "code",
   "execution_count": 21,
   "id": "f9a30539",
   "metadata": {},
   "outputs": [
    {
     "name": "stdout",
     "output_type": "stream",
     "text": [
      "tensor([[0.4764, 0.7156],\n",
      "        [0.5088, 0.9195],\n",
      "        [0.0138, 0.9327],\n",
      "        [0.1613, 0.9961]])\n"
     ]
    }
   ],
   "source": [
    "x = torch.rand(4,2)\n",
    "print(x)"
   ]
  },
  {
   "cell_type": "markdown",
   "id": "194b8a7c",
   "metadata": {},
   "source": [
    "### dtype이 long, 0으로 채워진 텐서"
   ]
  },
  {
   "cell_type": "code",
   "execution_count": 22,
   "id": "f2286b70",
   "metadata": {},
   "outputs": [
    {
     "name": "stdout",
     "output_type": "stream",
     "text": [
      "tensor([[0, 0],\n",
      "        [0, 0],\n",
      "        [0, 0],\n",
      "        [0, 0]])\n"
     ]
    }
   ],
   "source": [
    "x = torch.zeros(4, 2, dtype = torch.long)\n",
    "print(x)"
   ]
  },
  {
   "cell_type": "code",
   "execution_count": 23,
   "id": "b7d85add",
   "metadata": {},
   "outputs": [
    {
     "name": "stdout",
     "output_type": "stream",
     "text": [
      "tensor([3.0000, 2.3000])\n"
     ]
    }
   ],
   "source": [
    "## 직접 tensor를 만들 때\n",
    "x = torch.tensor([3, 2.3])\n",
    "print(x)"
   ]
  },
  {
   "cell_type": "code",
   "execution_count": 24,
   "id": "4f5d0d15",
   "metadata": {},
   "outputs": [
    {
     "name": "stdout",
     "output_type": "stream",
     "text": [
      "tensor([[1., 1., 1., 1.],\n",
      "        [1., 1., 1., 1.]], dtype=torch.float64)\n"
     ]
    }
   ],
   "source": [
    "x = x.new_ones(2,4, dtype = torch.double)\n",
    "print(x)"
   ]
  },
  {
   "cell_type": "code",
   "execution_count": 25,
   "id": "5a09fd9b",
   "metadata": {},
   "outputs": [
    {
     "name": "stdout",
     "output_type": "stream",
     "text": [
      "tensor([[ 0.7086, -0.9409,  0.8596, -0.4395],\n",
      "        [ 0.1877, -0.8791, -1.0778, -0.7539]])\n"
     ]
    }
   ],
   "source": [
    "x = torch.randn_like(x, dtype = torch.float)\n",
    "print(x)"
   ]
  },
  {
   "cell_type": "markdown",
   "id": "c5b031d6",
   "metadata": {},
   "source": [
    "### 텐서의 크기\n",
    "- size method 사용"
   ]
  },
  {
   "cell_type": "code",
   "execution_count": 26,
   "id": "7a03bd4e",
   "metadata": {},
   "outputs": [
    {
     "name": "stdout",
     "output_type": "stream",
     "text": [
      "torch.Size([2, 4])\n"
     ]
    }
   ],
   "source": [
    "print(x.size())"
   ]
  },
  {
   "cell_type": "markdown",
   "id": "d5cd7e80",
   "metadata": {},
   "source": [
    "## 텐서의 연산"
   ]
  },
  {
   "cell_type": "markdown",
   "id": "28ab8c8b",
   "metadata": {},
   "source": [
    "### 덧셈1"
   ]
  },
  {
   "cell_type": "code",
   "execution_count": 27,
   "id": "d2531a54",
   "metadata": {},
   "outputs": [
    {
     "name": "stdout",
     "output_type": "stream",
     "text": [
      "tensor([[ 0.7086, -0.9409,  0.8596, -0.4395],\n",
      "        [ 0.1877, -0.8791, -1.0778, -0.7539]])\n"
     ]
    }
   ],
   "source": [
    "print(x)"
   ]
  },
  {
   "cell_type": "code",
   "execution_count": 28,
   "id": "0048ae2e",
   "metadata": {},
   "outputs": [
    {
     "name": "stdout",
     "output_type": "stream",
     "text": [
      "tensor([[0.6543, 0.6068, 0.9827, 0.2595],\n",
      "        [0.8699, 0.1122, 0.7717, 0.5477]])\n",
      "tensor([[ 1.3629, -0.3341,  1.8422, -0.1800],\n",
      "        [ 1.0576, -0.7669, -0.3061, -0.2062]])\n"
     ]
    }
   ],
   "source": [
    "y = torch.rand(2,4)\n",
    "print(y)\n",
    "print(x + y)"
   ]
  },
  {
   "cell_type": "markdown",
   "id": "b3a13500",
   "metadata": {},
   "source": [
    "### 덧셈 2"
   ]
  },
  {
   "cell_type": "code",
   "execution_count": 29,
   "id": "95a851a9",
   "metadata": {},
   "outputs": [
    {
     "name": "stdout",
     "output_type": "stream",
     "text": [
      "tensor([[ 1.3629, -0.3341,  1.8422, -0.1800],\n",
      "        [ 1.0576, -0.7669, -0.3061, -0.2062]])\n"
     ]
    }
   ],
   "source": [
    "print(torch.add(x, y))"
   ]
  },
  {
   "cell_type": "markdown",
   "id": "44d24e86",
   "metadata": {},
   "source": [
    "### 덧셈3\n",
    "- 결과 텐서를 인자로 제공"
   ]
  },
  {
   "cell_type": "code",
   "execution_count": 30,
   "id": "34711dbb",
   "metadata": {},
   "outputs": [
    {
     "name": "stdout",
     "output_type": "stream",
     "text": [
      "tensor([[ 1.3629, -0.3341,  1.8422, -0.1800],\n",
      "        [ 1.0576, -0.7669, -0.3061, -0.2062]])\n"
     ]
    }
   ],
   "source": [
    "result = torch.empty(2,4)\n",
    "torch.add(x, y, out = result)\n",
    "print(result)\n"
   ]
  },
  {
   "cell_type": "markdown",
   "id": "d9f4a29a",
   "metadata": {},
   "source": [
    "### 덧셈4\n",
    "- in-place 방식\n",
    "- (참고)in-place\n",
    "    - in-place 방식으로 텐서 값을 변경하는 연산 뒤애서는 _가 분음\n",
    "    - x.copy(), x.t_()"
   ]
  },
  {
   "cell_type": "code",
   "execution_count": 31,
   "id": "e4009efa",
   "metadata": {},
   "outputs": [
    {
     "name": "stdout",
     "output_type": "stream",
     "text": [
      "tensor([[ 0.7086, -0.9409,  0.8596, -0.4395],\n",
      "        [ 0.1877, -0.8791, -1.0778, -0.7539]])\n",
      "tensor([[0.6543, 0.6068, 0.9827, 0.2595],\n",
      "        [0.8699, 0.1122, 0.7717, 0.5477]])\n",
      "tensor([[ 1.3629, -0.3341,  1.8422, -0.1800],\n",
      "        [ 1.0576, -0.7669, -0.3061, -0.2062]])\n"
     ]
    }
   ],
   "source": [
    "print(x)\n",
    "print(y)\n",
    "print(y.add(x))"
   ]
  },
  {
   "cell_type": "markdown",
   "id": "d481e765",
   "metadata": {},
   "source": [
    "## 그 외의 연산\n",
    "- torch.sub : 뺄셈\n",
    "- torch.mul : 곱셈\n",
    "- torch.div : 나눗셈\n",
    "- torch.mm : 내적(dot product)"
   ]
  },
  {
   "cell_type": "code",
   "execution_count": 32,
   "id": "689301c4",
   "metadata": {},
   "outputs": [
    {
     "name": "stdout",
     "output_type": "stream",
     "text": [
      "tensor([[-1., -1.],\n",
      "        [-1., -1.]])\n",
      "tensor([[-1., -1.],\n",
      "        [-1., -1.]])\n",
      "tensor([[-1., -1.],\n",
      "        [-1., -1.]])\n"
     ]
    }
   ],
   "source": [
    "## 빼기\n",
    "x = torch.Tensor([[1,3],\n",
    "                 [5,7]])\n",
    "y = torch.Tensor([[2,4],\n",
    "                 [6,8]])\n",
    "\n",
    "print(x - y)\n",
    "print(torch.sub(x,y))\n",
    "print(x.sub(y))"
   ]
  },
  {
   "cell_type": "code",
   "execution_count": 33,
   "id": "39e22c4e",
   "metadata": {},
   "outputs": [
    {
     "name": "stdout",
     "output_type": "stream",
     "text": [
      "tensor([[ 2., 12.],\n",
      "        [30., 56.]])\n",
      "tensor([[ 2., 12.],\n",
      "        [30., 56.]])\n",
      "tensor([[ 2., 12.],\n",
      "        [30., 56.]])\n"
     ]
    }
   ],
   "source": [
    "## 곱하기\n",
    "x = torch.Tensor([[1,3],\n",
    "                 [5,7]])\n",
    "y = torch.Tensor([[2,4],\n",
    "                 [6,8]])\n",
    "\n",
    "print(x * y)\n",
    "print(torch.mul(x,y))\n",
    "print(x.mul(y))"
   ]
  },
  {
   "cell_type": "code",
   "execution_count": 34,
   "id": "615b79da",
   "metadata": {},
   "outputs": [
    {
     "name": "stdout",
     "output_type": "stream",
     "text": [
      "tensor([[0.5000, 0.7500],\n",
      "        [0.8333, 0.8750]])\n",
      "tensor([[0.5000, 0.7500],\n",
      "        [0.8333, 0.8750]])\n",
      "tensor([[0.5000, 0.7500],\n",
      "        [0.8333, 0.8750]])\n"
     ]
    }
   ],
   "source": [
    "## 나누기\n",
    "x = torch.Tensor([[1,3],\n",
    "                 [5,7]])\n",
    "y = torch.Tensor([[2,4],\n",
    "                 [6,8]])\n",
    "\n",
    "print(x / y)\n",
    "print(torch.div(x,y))\n",
    "print(x.div(y))"
   ]
  },
  {
   "cell_type": "code",
   "execution_count": 35,
   "id": "496e1c71",
   "metadata": {},
   "outputs": [
    {
     "name": "stdout",
     "output_type": "stream",
     "text": [
      "tensor([[20., 28.],\n",
      "        [52., 76.]])\n"
     ]
    }
   ],
   "source": [
    "## 행렬 곱\n",
    "x = torch.Tensor([[1,3],\n",
    "                 [5,7]])\n",
    "y = torch.Tensor([[2,4],\n",
    "                 [6,8]])\n",
    "\n",
    "print(torch.mm(x,y))"
   ]
  },
  {
   "cell_type": "markdown",
   "id": "c963da04",
   "metadata": {},
   "source": [
    "## 텐서의 조작(manipulations)"
   ]
  },
  {
   "cell_type": "markdown",
   "id": "2508f4d5",
   "metadata": {},
   "source": [
    "### 인덱싱\n",
    "- 넘파이처럼 인덱싱 사용가능"
   ]
  },
  {
   "cell_type": "code",
   "execution_count": 36,
   "id": "7415973c",
   "metadata": {},
   "outputs": [
    {
     "name": "stdout",
     "output_type": "stream",
     "text": [
      "tensor([[1., 3.],\n",
      "        [5., 7.]])\n"
     ]
    }
   ],
   "source": [
    "print(x)"
   ]
  },
  {
   "cell_type": "code",
   "execution_count": 38,
   "id": "2d0ce509",
   "metadata": {},
   "outputs": [
    {
     "name": "stdout",
     "output_type": "stream",
     "text": [
      "tensor([3., 7.])\n"
     ]
    }
   ],
   "source": [
    "print(x[:,1])"
   ]
  },
  {
   "cell_type": "markdown",
   "id": "a4095e44",
   "metadata": {},
   "source": [
    "### View\n",
    "- 텐서의 크기나 모양을 변경"
   ]
  },
  {
   "cell_type": "code",
   "execution_count": 40,
   "id": "a92144cc",
   "metadata": {},
   "outputs": [
    {
     "name": "stdout",
     "output_type": "stream",
     "text": [
      "tensor([[-1.2366,  0.6593, -2.3354,  0.4041,  0.1760],\n",
      "        [-1.6594,  1.9444, -0.6323, -0.4433, -0.9093],\n",
      "        [ 2.4129, -1.3366, -0.1451, -0.3475,  0.8698],\n",
      "        [-2.0582,  0.0221,  0.7418, -1.0755,  1.8470]])\n",
      "tensor([-1.2366,  0.6593, -2.3354,  0.4041,  0.1760, -1.6594,  1.9444, -0.6323,\n",
      "        -0.4433, -0.9093,  2.4129, -1.3366, -0.1451, -0.3475,  0.8698, -2.0582,\n",
      "         0.0221,  0.7418, -1.0755,  1.8470])\n",
      "tensor([[-1.2366,  0.6593, -2.3354,  0.4041],\n",
      "        [ 0.1760, -1.6594,  1.9444, -0.6323],\n",
      "        [-0.4433, -0.9093,  2.4129, -1.3366],\n",
      "        [-0.1451, -0.3475,  0.8698, -2.0582],\n",
      "        [ 0.0221,  0.7418, -1.0755,  1.8470]])\n",
      "torch.Size([4, 5])\n",
      "torch.Size([20])\n",
      "torch.Size([5, 4])\n"
     ]
    }
   ],
   "source": [
    "x = torch.randn(4,5)\n",
    "y = x.view(20)\n",
    "z = x.view(5, -1)\n",
    "\n",
    "print(x)\n",
    "print(y)\n",
    "print(z)\n",
    "\n",
    "print(x.size())\n",
    "print(y.size())\n",
    "print(z.size())"
   ]
  },
  {
   "cell_type": "markdown",
   "id": "6c0d54b7",
   "metadata": {},
   "source": [
    "## item\n",
    "- 텐서에 값이 단 하나라도 존재하면 숫자값을 얻을 수 있음"
   ]
  },
  {
   "cell_type": "code",
   "execution_count": 43,
   "id": "852d6efe",
   "metadata": {},
   "outputs": [
    {
     "name": "stdout",
     "output_type": "stream",
     "text": [
      "tensor([-0.2093])\n",
      "-0.20926210284233093\n",
      "torch.float32\n"
     ]
    }
   ],
   "source": [
    "x = torch.randn(1)\n",
    "print(x)\n",
    "print(x.item())\n",
    "print(x.dtype)"
   ]
  },
  {
   "cell_type": "markdown",
   "id": "d5f6b34f",
   "metadata": {},
   "source": [
    "- 스칼라 값 하나만 존재해야함"
   ]
  },
  {
   "cell_type": "code",
   "execution_count": 44,
   "id": "323a8428",
   "metadata": {},
   "outputs": [
    {
     "name": "stdout",
     "output_type": "stream",
     "text": [
      "tensor([-1.2064, -0.8678])\n"
     ]
    },
    {
     "ename": "ValueError",
     "evalue": "only one element tensors can be converted to Python scalars",
     "output_type": "error",
     "traceback": [
      "\u001b[0;31m---------------------------------------------------------------------------\u001b[0m",
      "\u001b[0;31mValueError\u001b[0m                                Traceback (most recent call last)",
      "\u001b[0;32m/tmp/ipykernel_190693/4147517315.py\u001b[0m in \u001b[0;36m<module>\u001b[0;34m\u001b[0m\n\u001b[1;32m      1\u001b[0m \u001b[0mx\u001b[0m \u001b[0;34m=\u001b[0m \u001b[0mtorch\u001b[0m\u001b[0;34m.\u001b[0m\u001b[0mrandn\u001b[0m\u001b[0;34m(\u001b[0m\u001b[0;36m2\u001b[0m\u001b[0;34m)\u001b[0m\u001b[0;34m\u001b[0m\u001b[0;34m\u001b[0m\u001b[0m\n\u001b[1;32m      2\u001b[0m \u001b[0mprint\u001b[0m\u001b[0;34m(\u001b[0m\u001b[0mx\u001b[0m\u001b[0;34m)\u001b[0m\u001b[0;34m\u001b[0m\u001b[0;34m\u001b[0m\u001b[0m\n\u001b[0;32m----> 3\u001b[0;31m \u001b[0mprint\u001b[0m\u001b[0;34m(\u001b[0m\u001b[0mx\u001b[0m\u001b[0;34m.\u001b[0m\u001b[0mitem\u001b[0m\u001b[0;34m(\u001b[0m\u001b[0;34m)\u001b[0m\u001b[0;34m)\u001b[0m\u001b[0;34m\u001b[0m\u001b[0;34m\u001b[0m\u001b[0m\n\u001b[0m\u001b[1;32m      4\u001b[0m \u001b[0mprint\u001b[0m\u001b[0;34m(\u001b[0m\u001b[0mx\u001b[0m\u001b[0;34m.\u001b[0m\u001b[0mdtype\u001b[0m\u001b[0;34m)\u001b[0m\u001b[0;34m\u001b[0m\u001b[0;34m\u001b[0m\u001b[0m\n",
      "\u001b[0;31mValueError\u001b[0m: only one element tensors can be converted to Python scalars"
     ]
    }
   ],
   "source": [
    "x = torch.randn(2)\n",
    "print(x)\n",
    "print(x.item())\n",
    "print(x.dtype)"
   ]
  },
  {
   "cell_type": "markdown",
   "id": "78be5f48",
   "metadata": {},
   "source": [
    "## squeeze\n",
    "- 차원을 축소(제거)"
   ]
  },
  {
   "cell_type": "code",
   "execution_count": 48,
   "id": "3783d880",
   "metadata": {},
   "outputs": [
    {
     "name": "stdout",
     "output_type": "stream",
     "text": [
      "tensor([[[0.8161, 0.6290, 0.7749],\n",
      "         [0.4619, 0.5230, 0.4103],\n",
      "         [0.6885, 0.8089, 0.1858]]])\n"
     ]
    },
    {
     "data": {
      "text/plain": [
       "torch.Size([1, 3, 3])"
      ]
     },
     "execution_count": 48,
     "metadata": {},
     "output_type": "execute_result"
    }
   ],
   "source": [
    "tensor = torch.rand(1, 3, 3)\n",
    "print(tensor)\n",
    "tensor.shape"
   ]
  },
  {
   "cell_type": "code",
   "execution_count": 49,
   "id": "8c5e783a",
   "metadata": {},
   "outputs": [
    {
     "name": "stdout",
     "output_type": "stream",
     "text": [
      "tensor([[0.8161, 0.6290, 0.7749],\n",
      "        [0.4619, 0.5230, 0.4103],\n",
      "        [0.6885, 0.8089, 0.1858]])\n",
      "torch.Size([3, 3])\n"
     ]
    }
   ],
   "source": [
    "t = tensor.squeeze()\n",
    "print(t)\n",
    "print(t.shape)"
   ]
  },
  {
   "cell_type": "markdown",
   "id": "3804afb3",
   "metadata": {},
   "source": [
    "## unsqueeze\n",
    "- 차원을 증가(생성)"
   ]
  },
  {
   "cell_type": "code",
   "execution_count": 50,
   "id": "f5c4d970",
   "metadata": {},
   "outputs": [
    {
     "name": "stdout",
     "output_type": "stream",
     "text": [
      "tensor([[[0.2063, 0.8739, 0.9339],\n",
      "         [0.3113, 0.0482, 0.2196],\n",
      "         [0.1986, 0.1579, 0.8121]]])\n",
      "torch.Size([1, 3, 3])\n"
     ]
    }
   ],
   "source": [
    "tensor = torch.rand(1,3,3)\n",
    "print(tensor)\n",
    "print(tensor.shape)"
   ]
  },
  {
   "cell_type": "code",
   "execution_count": 54,
   "id": "88beb374",
   "metadata": {},
   "outputs": [
    {
     "name": "stdout",
     "output_type": "stream",
     "text": [
      "tensor([[[[0.2063, 0.8739, 0.9339],\n",
      "          [0.3113, 0.0482, 0.2196],\n",
      "          [0.1986, 0.1579, 0.8121]]]])\n",
      "torch.Size([1, 1, 3, 3])\n"
     ]
    }
   ],
   "source": [
    "t1 = tensor.unsqueeze(dim = 0)\n",
    "print(t1)\n",
    "print(t1.shape)"
   ]
  },
  {
   "cell_type": "markdown",
   "id": "b29ce0bc",
   "metadata": {},
   "source": [
    "## stack\n",
    "- 텐서간 결합"
   ]
  },
  {
   "cell_type": "code",
   "execution_count": 57,
   "id": "d84257ab",
   "metadata": {},
   "outputs": [
    {
     "name": "stdout",
     "output_type": "stream",
     "text": [
      "tensor([[1., 4.],\n",
      "        [2., 5.],\n",
      "        [3., 6.]])\n"
     ]
    }
   ],
   "source": [
    "x = torch.FloatTensor([1,4])\n",
    "y = torch.FloatTensor([2,5])\n",
    "z = torch.FloatTensor([3,6])\n",
    "\n",
    "print(torch.stack([x,y,z]))\n"
   ]
  },
  {
   "cell_type": "markdown",
   "id": "3f0d1a99",
   "metadata": {},
   "source": [
    "## cat\n",
    "- 텐서를 결합하는 메소드(concatenate)\n",
    "- 넘파이의 stack과 유사하지만, 쌓을 dim이 존재해야함\n",
    "    - 예를 들어, 해당 차원을 늘려준 후 결합"
   ]
  },
  {
   "cell_type": "code",
   "execution_count": 58,
   "id": "0cf85d1c",
   "metadata": {},
   "outputs": [
    {
     "name": "stdout",
     "output_type": "stream",
     "text": [
      "tensor([[[[ 0.3962, -0.9729,  0.1037],\n",
      "          [ 0.7531, -1.9390,  0.0781],\n",
      "          [-1.2607,  0.5752,  1.3100]]],\n",
      "\n",
      "\n",
      "        [[[-1.4591, -1.5419,  0.6568],\n",
      "          [ 0.8662, -1.6240,  0.1344],\n",
      "          [ 0.0792,  1.6215,  0.0827]]]])\n",
      "torch.Size([2, 1, 3, 3])\n"
     ]
    }
   ],
   "source": [
    "a = torch.randn(1,1,3,3)\n",
    "b = torch.randn(1,1,3,3)\n",
    "c = torch.cat((a,b), dim = 0)\n",
    "\n",
    "print(c)\n",
    "print(c.size())"
   ]
  },
  {
   "cell_type": "code",
   "execution_count": 60,
   "id": "974facee",
   "metadata": {},
   "outputs": [
    {
     "name": "stdout",
     "output_type": "stream",
     "text": [
      "tensor([[[-0.6751, -0.7206, -0.3607],\n",
      "         [-0.6974,  0.6085, -0.4052],\n",
      "         [ 1.8172,  0.2953, -0.1101]],\n",
      "\n",
      "        [[ 0.5102,  1.2144, -0.3373],\n",
      "         [-0.7978,  0.3592,  1.6734],\n",
      "         [-1.2835, -0.6342, -0.1156]]])\n",
      "torch.Size([2, 3, 3])\n"
     ]
    }
   ],
   "source": [
    "a = torch.randn(1,3,3)\n",
    "b = torch.randn(1,3,3)\n",
    "c = torch.cat((a,b), dim = 0)\n",
    "\n",
    "print(c)\n",
    "print(c.size())"
   ]
  },
  {
   "cell_type": "code",
   "execution_count": 61,
   "id": "c73cb88e",
   "metadata": {},
   "outputs": [
    {
     "name": "stdout",
     "output_type": "stream",
     "text": [
      "tensor([[[-0.6731,  0.6413,  0.9748],\n",
      "         [ 1.1774, -1.4525, -0.8725],\n",
      "         [ 0.7354, -0.1187,  0.1686],\n",
      "         [-0.0264, -0.1485, -0.4888],\n",
      "         [-0.9227, -0.1773,  0.1939],\n",
      "         [ 0.8068, -1.2631, -0.7628]]])\n",
      "torch.Size([1, 6, 3])\n"
     ]
    }
   ],
   "source": [
    "a = torch.randn(1,3,3)\n",
    "b = torch.randn(1,3,3)\n",
    "c = torch.cat((a,b), dim = 1)\n",
    "\n",
    "print(c)\n",
    "print(c.size())"
   ]
  },
  {
   "cell_type": "code",
   "execution_count": 62,
   "id": "86fdb5ca",
   "metadata": {},
   "outputs": [
    {
     "name": "stdout",
     "output_type": "stream",
     "text": [
      "tensor([[[ 0.2582,  1.5847, -0.0770,  0.4885, -0.0229, -0.0059],\n",
      "         [ 1.6220,  0.5684,  0.4316, -1.0952, -0.3324, -0.6533],\n",
      "         [ 1.0741, -0.4399,  1.5304, -1.5668, -1.3704, -0.4511]]])\n",
      "torch.Size([1, 3, 6])\n"
     ]
    }
   ],
   "source": [
    "a = torch.randn(1,3,3)\n",
    "b = torch.randn(1,3,3)\n",
    "c = torch.cat((a,b), dim = 2)\n",
    "\n",
    "print(c)\n",
    "print(c.size())"
   ]
  },
  {
   "cell_type": "markdown",
   "id": "7c0da7b4",
   "metadata": {},
   "source": [
    "## chuck\n",
    "- 텐서를 여러 개로 나눌때 사용\n",
    "- 몇 개의 텐서로 나눌 것인가 .. ?"
   ]
  },
  {
   "cell_type": "code",
   "execution_count": 65,
   "id": "fe8d2be7",
   "metadata": {},
   "outputs": [
    {
     "name": "stdout",
     "output_type": "stream",
     "text": [
      "tensor([[0.8943, 0.2413, 0.4745, 0.5398, 0.3768, 0.9237],\n",
      "        [0.5493, 0.0858, 0.2325, 0.8772, 0.4380, 0.3088],\n",
      "        [0.3052, 0.1328, 0.5652, 0.3101, 0.4975, 0.3608]])\n",
      "tensor([[0.8943, 0.2413, 0.4745, 0.5398, 0.3768, 0.9237]])\n",
      "tensor([[0.5493, 0.0858, 0.2325, 0.8772, 0.4380, 0.3088]])\n",
      "tensor([[0.3052, 0.1328, 0.5652, 0.3101, 0.4975, 0.3608]])\n"
     ]
    }
   ],
   "source": [
    "tensor = torch.rand(3,6)\n",
    "t1,t2,t3 = torch.chunk(tensor, 3, dim = 0)\n",
    "\n",
    "print(tensor)\n",
    "print(t1)\n",
    "print(t2)\n",
    "print(t3)"
   ]
  },
  {
   "cell_type": "code",
   "execution_count": 66,
   "id": "cbf12e90",
   "metadata": {},
   "outputs": [
    {
     "name": "stdout",
     "output_type": "stream",
     "text": [
      "tensor([[0.1958, 0.1682, 0.5145, 0.6856, 0.4325, 0.9082],\n",
      "        [0.6686, 0.8836, 0.0392, 0.8713, 0.5731, 0.2484],\n",
      "        [0.3424, 0.1809, 0.1996, 0.6684, 0.6872, 0.8970]])\n",
      "tensor([[0.1958, 0.1682],\n",
      "        [0.6686, 0.8836],\n",
      "        [0.3424, 0.1809]])\n",
      "tensor([[0.5145, 0.6856],\n",
      "        [0.0392, 0.8713],\n",
      "        [0.1996, 0.6684]])\n",
      "tensor([[0.4325, 0.9082],\n",
      "        [0.5731, 0.2484],\n",
      "        [0.6872, 0.8970]])\n"
     ]
    }
   ],
   "source": [
    "tensor = torch.rand(3,6)\n",
    "t1,t2,t3 = torch.chunk(tensor, 3, dim = 1)\n",
    "\n",
    "print(tensor)\n",
    "print(t1)\n",
    "print(t2)\n",
    "print(t3)"
   ]
  },
  {
   "cell_type": "markdown",
   "id": "91e9106f",
   "metadata": {},
   "source": [
    "## split\n",
    "- chunk와 동일한 기능이지만 조금 다름\n",
    "- 하나의 텐서당 크기가 얼마이냐"
   ]
  },
  {
   "cell_type": "code",
   "execution_count": 71,
   "id": "99714b4a",
   "metadata": {},
   "outputs": [
    {
     "name": "stdout",
     "output_type": "stream",
     "text": [
      "tensor([[0.7399, 0.0255, 0.1849, 0.7083, 0.3516, 0.4842],\n",
      "        [0.5526, 0.8639, 0.8886, 0.9956, 0.3201, 0.6062],\n",
      "        [0.8138, 0.9293, 0.1364, 0.3334, 0.4071, 0.7055]])\n",
      "tensor([[0.7399, 0.0255, 0.1849],\n",
      "        [0.5526, 0.8639, 0.8886],\n",
      "        [0.8138, 0.9293, 0.1364]])\n",
      "tensor([[0.7083, 0.3516, 0.4842],\n",
      "        [0.9956, 0.3201, 0.6062],\n",
      "        [0.3334, 0.4071, 0.7055]])\n"
     ]
    }
   ],
   "source": [
    "tensor = torch.rand(3,6)\n",
    "t1, t2 = torch.split(tensor, 3, dim = 1)\n",
    "\n",
    "print(tensor)\n",
    "print(t1)\n",
    "print(t2)"
   ]
  },
  {
   "cell_type": "markdown",
   "id": "f86d676f",
   "metadata": {},
   "source": [
    "## torch <--> numpy\n",
    "- Torch Tensor를 Numpy array로 변환 가능\n",
    "    - numpy()\n",
    "    - from_numpy()\n",
    "    \n",
    "- (참고)\n",
    "    - Tensor가 CPU상에 있다면 Numpy 배열은 메모리 공간을 공유하므로 하나가 변하면, 다른 하나도 변함"
   ]
  },
  {
   "cell_type": "code",
   "execution_count": 72,
   "id": "780f2332",
   "metadata": {},
   "outputs": [
    {
     "name": "stdout",
     "output_type": "stream",
     "text": [
      "tensor([1., 1., 1., 1., 1., 1., 1.])\n"
     ]
    }
   ],
   "source": [
    "a = torch.ones(7)\n",
    "print(a)"
   ]
  },
  {
   "cell_type": "code",
   "execution_count": 73,
   "id": "b5e86e7c",
   "metadata": {},
   "outputs": [
    {
     "name": "stdout",
     "output_type": "stream",
     "text": [
      "[1. 1. 1. 1. 1. 1. 1.]\n"
     ]
    }
   ],
   "source": [
    "b = a.numpy()\n",
    "print(b)"
   ]
  },
  {
   "cell_type": "code",
   "execution_count": 74,
   "id": "37fa8829",
   "metadata": {},
   "outputs": [
    {
     "name": "stdout",
     "output_type": "stream",
     "text": [
      "tensor([2., 2., 2., 2., 2., 2., 2.])\n",
      "[2. 2. 2. 2. 2. 2. 2.]\n"
     ]
    }
   ],
   "source": [
    "## Tensor가 CPU상에 있다면 Numpy 배열은 메모리 공간을 공유하므로 하나가 변하면, 다른 하나도 변함\n",
    "a.add_(1)\n",
    "print(a)\n",
    "print(b)"
   ]
  },
  {
   "cell_type": "code",
   "execution_count": 75,
   "id": "4240469a",
   "metadata": {},
   "outputs": [
    {
     "name": "stdout",
     "output_type": "stream",
     "text": [
      "[2. 2. 2. 2. 2. 2. 2.]\n",
      "tensor([2., 2., 2., 2., 2., 2., 2.], dtype=torch.float64)\n"
     ]
    }
   ],
   "source": [
    "import numpy as np\n",
    "\n",
    "a = np.ones(7)\n",
    "b = torch.from_numpy(a)\n",
    "\n",
    "np.add(a, 1, out = a)\n",
    "print(a)\n",
    "print(b)"
   ]
  },
  {
   "cell_type": "markdown",
   "id": "09d30f4d",
   "metadata": {},
   "source": [
    "## CUDA Tensors\n",
    "- .to 메소드를 사용하여 텐서를 어떠한 장치로도 옮길 수 있음\n",
    "    - 예) cpu, gpu"
   ]
  },
  {
   "cell_type": "code",
   "execution_count": 76,
   "id": "7867e118",
   "metadata": {},
   "outputs": [
    {
     "name": "stdout",
     "output_type": "stream",
     "text": [
      "tensor([-0.1877])\n",
      "-0.18773217499256134\n",
      "torch.float32\n"
     ]
    }
   ],
   "source": [
    "import torch\n",
    "x = torch.randn(1)\n",
    "print(x)\n",
    "print(x.item())\n",
    "print(x.dtype)"
   ]
  },
  {
   "cell_type": "code",
   "execution_count": 83,
   "id": "c3dcbfd6",
   "metadata": {},
   "outputs": [
    {
     "name": "stdout",
     "output_type": "stream",
     "text": [
      "cuda\n"
     ]
    }
   ],
   "source": [
    "device = torch.device(\"cuda\" if torch.cuda.is_available() else \"cpu\")\n",
    "print(device)"
   ]
  },
  {
   "cell_type": "code",
   "execution_count": 84,
   "id": "61a2da48",
   "metadata": {},
   "outputs": [
    {
     "name": "stdout",
     "output_type": "stream",
     "text": [
      "cuda\n",
      "tensor([-0.1877], device='cuda:0')\n",
      "tensor([0.8123], dtype=torch.float64)\n"
     ]
    }
   ],
   "source": [
    "y = torch.ones_like(x, device = device)\n",
    "x = x.to(device)\n",
    "\n",
    "z = x + y\n",
    "print(device)\n",
    "print(x)\n",
    "print(z.to(\"cpu\", torch.double))"
   ]
  },
  {
   "cell_type": "markdown",
   "id": "1e00eb76",
   "metadata": {},
   "source": [
    "## AUTOGRAD(자동미분)\n",
    "- autograd 패키지는 Tensor의 모든 연산에 대해 자동 미분 제공\n",
    "- 이는 코드를 어떻게 작성하여 실행하느냐에 따라 역전파가 정의된다는 뜻\n",
    "- backprop를 위한 미분 값을 자동으로 계산"
   ]
  },
  {
   "cell_type": "markdown",
   "id": "663a0c66",
   "metadata": {},
   "source": [
    "### Tensor\n",
    "- data : tensor형태의 데이터\n",
    "- grad : data가 거쳐온 layer에 대한 미분값 저장\n",
    "- grad_fn : 미분값을 계산한 함수에 대한 정보 저장(어떤 함수에 대해서 backprop 했는 지)\n",
    "- requires_grad 속성을 True로 설정하면, 해당 텐서에서 이루어지는 모든 연산들을 추적하기 시작\n",
    "- 계산이 완료된 후, .backward()를 호출하면 자동으로 gradient를 계산할 수 있으며, .grad 속성에 누적됨\n",
    "- 기록을 추적하는 것을 중단하게 하려면, .detach()를 호출하여 연산 기록으로부터 분리\n",
    "- 기록을 추적하는 것을 방지하기 위해 코드 블럭을 with torch.no_grad():로 감싸면 gradient는 필요없지만, requires_grad = True로 설정되어 학습 가능한 매개변수를 갖는 모델을 평가할 때 유용\n",
    "- Autograd 구현에서 매우 중요한 클래스 : Function 클래스"
   ]
  },
  {
   "cell_type": "code",
   "execution_count": 85,
   "id": "a1f5f733",
   "metadata": {},
   "outputs": [
    {
     "name": "stdout",
     "output_type": "stream",
     "text": [
      "tensor([[1., 1., 1.],\n",
      "        [1., 1., 1.],\n",
      "        [1., 1., 1.]], requires_grad=True)\n"
     ]
    }
   ],
   "source": [
    "x = torch.ones(3, 3, requires_grad = True)\n",
    "print(x)"
   ]
  },
  {
   "cell_type": "code",
   "execution_count": 86,
   "id": "01fe630c",
   "metadata": {},
   "outputs": [
    {
     "name": "stdout",
     "output_type": "stream",
     "text": [
      "tensor([[6., 6., 6.],\n",
      "        [6., 6., 6.],\n",
      "        [6., 6., 6.]], grad_fn=<AddBackward0>)\n"
     ]
    }
   ],
   "source": [
    "y = x + 5\n",
    "print(y)"
   ]
  },
  {
   "cell_type": "code",
   "execution_count": 87,
   "id": "84081758",
   "metadata": {},
   "outputs": [
    {
     "name": "stdout",
     "output_type": "stream",
     "text": [
      "<AddBackward0 object at 0x7f3a5069a370>\n"
     ]
    }
   ],
   "source": [
    "print(y.grad_fn)"
   ]
  },
  {
   "cell_type": "code",
   "execution_count": 88,
   "id": "ad210def",
   "metadata": {},
   "outputs": [
    {
     "name": "stdout",
     "output_type": "stream",
     "text": [
      "tensor([[72., 72., 72.],\n",
      "        [72., 72., 72.],\n",
      "        [72., 72., 72.]], grad_fn=<MulBackward0>) tensor(72., grad_fn=<MeanBackward0>)\n"
     ]
    }
   ],
   "source": [
    "z = y* y* 2\n",
    "out = z.mean()\n",
    "\n",
    "print(z, out)"
   ]
  },
  {
   "cell_type": "markdown",
   "id": "57fcec34",
   "metadata": {},
   "source": [
    "* requires_grad_(...)은 기존 텐서의 requires_grad 값을 바꿔치기(in-place)하여 변경"
   ]
  },
  {
   "cell_type": "code",
   "execution_count": 93,
   "id": "f3c93fe9",
   "metadata": {},
   "outputs": [
    {
     "name": "stdout",
     "output_type": "stream",
     "text": [
      "False\n",
      "True\n",
      "<SumBackward0 object at 0x7f3a50fe75b0>\n"
     ]
    }
   ],
   "source": [
    "a = torch.randn(3,3)\n",
    "a = ((a * 3)/ (a - 1))\n",
    "print(a.requires_grad)\n",
    "\n",
    "a.requires_grad_(True)\n",
    "print(a.requires_grad)\n",
    "\n",
    "b = (a * a).sum()\n",
    "print(b.grad_fn)"
   ]
  },
  {
   "cell_type": "markdown",
   "id": "88ee7328",
   "metadata": {},
   "source": [
    "## 기울기(Gradient)\n",
    "- 역전파 : .backward()를 통해 역전파 계산 가능"
   ]
  },
  {
   "cell_type": "code",
   "execution_count": 94,
   "id": "09e7f24d",
   "metadata": {},
   "outputs": [],
   "source": [
    "out.backward()"
   ]
  },
  {
   "cell_type": "code",
   "execution_count": 95,
   "id": "ee3b493f",
   "metadata": {},
   "outputs": [
    {
     "name": "stdout",
     "output_type": "stream",
     "text": [
      "tensor([[2.6667, 2.6667, 2.6667],\n",
      "        [2.6667, 2.6667, 2.6667],\n",
      "        [2.6667, 2.6667, 2.6667]])\n"
     ]
    }
   ],
   "source": [
    "print(x.grad)"
   ]
  },
  {
   "cell_type": "code",
   "execution_count": 99,
   "id": "ebf452c4",
   "metadata": {},
   "outputs": [
    {
     "name": "stdout",
     "output_type": "stream",
     "text": [
      "tensor([-1640.0524,   561.7820,  -487.1082], grad_fn=<MulBackward0>)\n"
     ]
    }
   ],
   "source": [
    "x = torch.randn(3, requires_grad = True)\n",
    "\n",
    "y = x * 2\n",
    "\n",
    "while y.data.norm() < 1000:\n",
    "    y = y * 2\n",
    "print(y)"
   ]
  },
  {
   "cell_type": "code",
   "execution_count": 100,
   "id": "b585ac86",
   "metadata": {},
   "outputs": [
    {
     "name": "stdout",
     "output_type": "stream",
     "text": [
      "tensor([1.0240e+02, 1.0240e+03, 1.0240e-01])\n"
     ]
    }
   ],
   "source": [
    "v = torch.tensor([0.1, 1.0, 0.0001], dtype = torch.float)\n",
    "y.backward(v)\n",
    "\n",
    "print(x.grad)"
   ]
  },
  {
   "cell_type": "markdown",
   "id": "d1c0e9df",
   "metadata": {},
   "source": [
    "- with_torch.no_grad()를 허용하여 gradient의 업데이트를 하지 않음"
   ]
  },
  {
   "cell_type": "code",
   "execution_count": 101,
   "id": "5532a51f",
   "metadata": {},
   "outputs": [
    {
     "name": "stdout",
     "output_type": "stream",
     "text": [
      "True\n",
      "True\n",
      "False\n"
     ]
    }
   ],
   "source": [
    "print(x.requires_grad)\n",
    "print((x ** 2).requires_grad)\n",
    "\n",
    "with torch.no_grad():\n",
    "    print((x ** 2).requires_grad)"
   ]
  },
  {
   "cell_type": "markdown",
   "id": "aad6de1f",
   "metadata": {},
   "source": [
    "- detach(): 내용물(content)은 같지만 require_grad가 다른 새로운 Tensor를 가져올 때"
   ]
  },
  {
   "cell_type": "code",
   "execution_count": 102,
   "id": "29d11e8d",
   "metadata": {},
   "outputs": [
    {
     "name": "stdout",
     "output_type": "stream",
     "text": [
      "True\n",
      "False\n",
      "tensor(True)\n"
     ]
    }
   ],
   "source": [
    "print(x.requires_grad)\n",
    "y = x.detach()\n",
    "print(y.requires_grad)\n",
    "print(x.eq(y).all()) # 내용물은 같음"
   ]
  },
  {
   "cell_type": "markdown",
   "id": "0c7f3081",
   "metadata": {},
   "source": [
    "## 자동 미분 흐름 다시 보기(1)\n",
    "- 계산 흐름  \n",
    "  $a \\rightarrow b  \\rightarrow c  \\rightarrow out $\n",
    "\n",
    "\n",
    "## $\\quad \\frac{\\partial out}{\\partial a} = ?$\n",
    "- `backward()`를 통해  \n",
    "  $a \\leftarrow b  \\leftarrow c  \\leftarrow out $을 계산하면  \n",
    "    $\\frac{\\partial out}{\\partial a}$값이 `a.grad`에 채워짐"
   ]
  },
  {
   "cell_type": "code",
   "execution_count": 117,
   "id": "be4d927a",
   "metadata": {},
   "outputs": [
    {
     "name": "stdout",
     "output_type": "stream",
     "text": [
      "tensor([[1., 1.],\n",
      "        [1., 1.]])\n"
     ]
    }
   ],
   "source": [
    "import torch\n",
    "\n",
    "a = torch.ones(2, 2)\n",
    "print(a)"
   ]
  },
  {
   "cell_type": "code",
   "execution_count": 118,
   "id": "e63677bf",
   "metadata": {},
   "outputs": [
    {
     "name": "stdout",
     "output_type": "stream",
     "text": [
      "tensor([[1., 1.],\n",
      "        [1., 1.]], requires_grad=True)\n"
     ]
    }
   ],
   "source": [
    "a = torch.ones(2, 2, requires_grad = True)\n",
    "print(a)"
   ]
  },
  {
   "cell_type": "code",
   "execution_count": 119,
   "id": "8d33f0bc",
   "metadata": {},
   "outputs": [
    {
     "name": "stdout",
     "output_type": "stream",
     "text": [
      "a.data: tensor([[1., 1.],\n",
      "        [1., 1.]], requires_grad=True)\n",
      "a.grad: None\n",
      "a.grad_fn: None\n"
     ]
    }
   ],
   "source": [
    "print(\"a.data:\",a)\n",
    "print(\"a.grad:\",a.grad)\n",
    "print(\"a.grad_fn:\",a.grad_fn)"
   ]
  },
  {
   "cell_type": "markdown",
   "id": "fc653e5d",
   "metadata": {},
   "source": [
    "- b = a + 2"
   ]
  },
  {
   "cell_type": "code",
   "execution_count": 120,
   "id": "16f619b0",
   "metadata": {},
   "outputs": [
    {
     "name": "stdout",
     "output_type": "stream",
     "text": [
      "tensor([[3., 3.],\n",
      "        [3., 3.]], grad_fn=<AddBackward0>)\n"
     ]
    }
   ],
   "source": [
    "b = a + 2\n",
    "print(b)"
   ]
  },
  {
   "cell_type": "markdown",
   "id": "8c57e2b6",
   "metadata": {},
   "source": [
    "- $c = b^2$ "
   ]
  },
  {
   "cell_type": "code",
   "execution_count": 121,
   "id": "107d9011",
   "metadata": {},
   "outputs": [],
   "source": [
    "c = b ** 2"
   ]
  },
  {
   "cell_type": "code",
   "execution_count": 122,
   "id": "12b1b46b",
   "metadata": {},
   "outputs": [
    {
     "name": "stdout",
     "output_type": "stream",
     "text": [
      "tensor([[9., 9.],\n",
      "        [9., 9.]], grad_fn=<PowBackward0>)\n"
     ]
    }
   ],
   "source": [
    "print(c)"
   ]
  },
  {
   "cell_type": "code",
   "execution_count": 123,
   "id": "de5fa1a6",
   "metadata": {},
   "outputs": [
    {
     "name": "stdout",
     "output_type": "stream",
     "text": [
      "tensor(36., grad_fn=<SumBackward0>)\n"
     ]
    }
   ],
   "source": [
    "out = c.sum()\n",
    "print(out)"
   ]
  },
  {
   "cell_type": "code",
   "execution_count": 124,
   "id": "90580b9b",
   "metadata": {},
   "outputs": [],
   "source": [
    "out.backward()"
   ]
  },
  {
   "cell_type": "markdown",
   "id": "716b2b1d",
   "metadata": {},
   "source": [
    "- a의 `grad_fn`이 None인 이유  \n",
    "  직접적으로 계산한 부분이 없었기 때문"
   ]
  },
  {
   "cell_type": "code",
   "execution_count": 125,
   "id": "25f5eedb",
   "metadata": {},
   "outputs": [
    {
     "name": "stdout",
     "output_type": "stream",
     "text": [
      "a.data: tensor([[1., 1.],\n",
      "        [1., 1.]])\n",
      "a.grad: tensor([[6., 6.],\n",
      "        [6., 6.]])\n",
      "a.grad_fn: None\n"
     ]
    }
   ],
   "source": [
    "print(\"a.data:\",a.data)\n",
    "print(\"a.grad:\",a.grad)\n",
    "print(\"a.grad_fn:\",a.grad_fn)"
   ]
  },
  {
   "cell_type": "code",
   "execution_count": 127,
   "id": "b4679a1d",
   "metadata": {},
   "outputs": [
    {
     "name": "stdout",
     "output_type": "stream",
     "text": [
      "b.data: tensor([[3., 3.],\n",
      "        [3., 3.]])\n",
      "b.grad: None\n",
      "b.grad_fn: <AddBackward0 object at 0x7f3a50412070>\n"
     ]
    },
    {
     "name": "stderr",
     "output_type": "stream",
     "text": [
      "/tmp/ipykernel_190693/2336299761.py:2: UserWarning: The .grad attribute of a Tensor that is not a leaf Tensor is being accessed. Its .grad attribute won't be populated during autograd.backward(). If you indeed want the gradient for a non-leaf Tensor, use .retain_grad() on the non-leaf Tensor. If you access the non-leaf Tensor by mistake, make sure you access the leaf Tensor instead. See github.com/pytorch/pytorch/pull/30531 for more information.\n",
      "  print(\"b.grad:\",b.grad)\n"
     ]
    }
   ],
   "source": [
    "print(\"b.data:\",b.data)\n",
    "print(\"b.grad:\",b.grad)\n",
    "print(\"b.grad_fn:\",b.grad_fn)"
   ]
  },
  {
   "cell_type": "code",
   "execution_count": 128,
   "id": "abf52e4f",
   "metadata": {},
   "outputs": [
    {
     "name": "stdout",
     "output_type": "stream",
     "text": [
      "c.data: tensor([[9., 9.],\n",
      "        [9., 9.]])\n",
      "c.grad: None\n",
      "c.grad_fn: <PowBackward0 object at 0x7f3a508a4250>\n"
     ]
    },
    {
     "name": "stderr",
     "output_type": "stream",
     "text": [
      "/tmp/ipykernel_190693/2413026882.py:2: UserWarning: The .grad attribute of a Tensor that is not a leaf Tensor is being accessed. Its .grad attribute won't be populated during autograd.backward(). If you indeed want the gradient for a non-leaf Tensor, use .retain_grad() on the non-leaf Tensor. If you access the non-leaf Tensor by mistake, make sure you access the leaf Tensor instead. See github.com/pytorch/pytorch/pull/30531 for more information.\n",
      "  print(\"c.grad:\",c.grad)\n"
     ]
    }
   ],
   "source": [
    "print(\"c.data:\",c.data)\n",
    "print(\"c.grad:\",c.grad)\n",
    "print(\"c.grad_fn:\",c.grad_fn)"
   ]
  },
  {
   "cell_type": "code",
   "execution_count": 129,
   "id": "1f6df707",
   "metadata": {},
   "outputs": [
    {
     "name": "stdout",
     "output_type": "stream",
     "text": [
      "out.data: tensor(36.)\n",
      "out.grad: None\n",
      "out.grad_fn: <SumBackward0 object at 0x7f3a5092b5e0>\n"
     ]
    },
    {
     "name": "stderr",
     "output_type": "stream",
     "text": [
      "/tmp/ipykernel_190693/3757368428.py:2: UserWarning: The .grad attribute of a Tensor that is not a leaf Tensor is being accessed. Its .grad attribute won't be populated during autograd.backward(). If you indeed want the gradient for a non-leaf Tensor, use .retain_grad() on the non-leaf Tensor. If you access the non-leaf Tensor by mistake, make sure you access the leaf Tensor instead. See github.com/pytorch/pytorch/pull/30531 for more information.\n",
      "  print(\"out.grad:\",out.grad)\n"
     ]
    }
   ],
   "source": [
    "print(\"out.data:\",out.data)\n",
    "print(\"out.grad:\",out.grad)\n",
    "print(\"out.grad_fn:\",out.grad_fn)"
   ]
  },
  {
   "cell_type": "markdown",
   "id": "ce6b6460",
   "metadata": {},
   "source": [
    "## 자동 미분 흐름 다시 보기(2)\n",
    "- `grad` 값을 넣어서 `backward`\n",
    "- 아래의 코드에서 `.grad` 값이 `None`은 `Gradient`값이 필요하지 않기 때문"
   ]
  },
  {
   "cell_type": "code",
   "execution_count": 131,
   "id": "3aa91682",
   "metadata": {},
   "outputs": [
    {
     "name": "stdout",
     "output_type": "stream",
     "text": [
      "tensor(6., grad_fn=<SumBackward0>)\n"
     ]
    }
   ],
   "source": [
    "x = torch.ones(3, requires_grad = True)\n",
    "y = (x ** 2)\n",
    "z = (y ** 2) + x\n",
    "\n",
    "out = z.sum()\n",
    "print(out)"
   ]
  },
  {
   "cell_type": "code",
   "execution_count": 132,
   "id": "db2c5cf4",
   "metadata": {},
   "outputs": [],
   "source": [
    "grad = torch.Tensor([0.1, 1, 100])\n",
    "z.backward(grad)"
   ]
  },
  {
   "cell_type": "code",
   "execution_count": 133,
   "id": "002dac9f",
   "metadata": {},
   "outputs": [
    {
     "name": "stdout",
     "output_type": "stream",
     "text": [
      "x.data: tensor([1., 1., 1.])\n",
      "x.grad: tensor([  0.5000,   5.0000, 500.0000])\n",
      "x.grad_fn: None\n"
     ]
    }
   ],
   "source": [
    "print(\"x.data:\",x.data)\n",
    "print(\"x.grad:\",x.grad)\n",
    "print(\"x.grad_fn:\",x.grad_fn)"
   ]
  },
  {
   "cell_type": "code",
   "execution_count": 134,
   "id": "85969ad2",
   "metadata": {},
   "outputs": [
    {
     "name": "stdout",
     "output_type": "stream",
     "text": [
      "y.data: tensor([1., 1., 1.])\n",
      "y.grad: None\n",
      "y.grad_fn: <PowBackward0 object at 0x7f3a42ea29a0>\n"
     ]
    },
    {
     "name": "stderr",
     "output_type": "stream",
     "text": [
      "/tmp/ipykernel_190693/3611615675.py:2: UserWarning: The .grad attribute of a Tensor that is not a leaf Tensor is being accessed. Its .grad attribute won't be populated during autograd.backward(). If you indeed want the gradient for a non-leaf Tensor, use .retain_grad() on the non-leaf Tensor. If you access the non-leaf Tensor by mistake, make sure you access the leaf Tensor instead. See github.com/pytorch/pytorch/pull/30531 for more information.\n",
      "  print(\"y.grad:\",y.grad)\n"
     ]
    }
   ],
   "source": [
    "print(\"y.data:\",y.data)\n",
    "print(\"y.grad:\",y.grad)\n",
    "print(\"y.grad_fn:\",y.grad_fn)"
   ]
  },
  {
   "cell_type": "code",
   "execution_count": 135,
   "id": "f2427293",
   "metadata": {},
   "outputs": [
    {
     "name": "stdout",
     "output_type": "stream",
     "text": [
      "z.data: tensor([2., 2., 2.])\n",
      "z.grad: None\n",
      "z.grad_fn: <AddBackward0 object at 0x7f3a539d58e0>\n"
     ]
    },
    {
     "name": "stderr",
     "output_type": "stream",
     "text": [
      "/tmp/ipykernel_190693/2240599667.py:2: UserWarning: The .grad attribute of a Tensor that is not a leaf Tensor is being accessed. Its .grad attribute won't be populated during autograd.backward(). If you indeed want the gradient for a non-leaf Tensor, use .retain_grad() on the non-leaf Tensor. If you access the non-leaf Tensor by mistake, make sure you access the leaf Tensor instead. See github.com/pytorch/pytorch/pull/30531 for more information.\n",
      "  print(\"z.grad:\",z.grad)\n"
     ]
    }
   ],
   "source": [
    "print(\"z.data:\",z.data)\n",
    "print(\"z.grad:\",z.grad)\n",
    "print(\"z.grad_fn:\",z.grad_fn)"
   ]
  },
  {
   "cell_type": "markdown",
   "id": "7319a055",
   "metadata": {},
   "source": [
    "## nn & nn.functional\n",
    "\n",
    "- 두 패키지가 같은 기능이지만 방식이 조금 다름\n",
    "\n",
    "- 위의 `autograd` 관련 작업들을 두 패키지를 통해 진행할 수 있음\n",
    "\n",
    "- 텐서를 직접 다룰 때 `requires_grad`와 같은 방식으로 진행할 수 있음\n",
    "\n",
    "- 결론적으로, `torch.nn`은 attribute를 활용해 state를 저장하고 활용하고,  \n",
    "  `torch.nn.functional`로 구현한 함수의 경우에는 인스턴스화 시킬 필요 없이 사용이 가능"
   ]
  },
  {
   "cell_type": "markdown",
   "id": "c58677f0",
   "metadata": {},
   "source": [
    "## nn 패키지\n",
    "\n",
    "- 주로 가중치(weights), 편향(bias)값들이 내부에서 자동으로 생성되는 레이어들을 사용할 때  \n",
    "  - 따라서, `weight`값들을 직접 선언 안함\n",
    "\n",
    "- 예시\n",
    "  - Containers\n",
    "\n",
    "  - Convolution Layers\n",
    "\n",
    "  - Pooling layers\n",
    "\n",
    "  - Padding Layers\n",
    "\n",
    "  - Non-linear Activations (weighted sum, nonlinearity)\n",
    "\n",
    "  - Non-linear Activations (other)\n",
    "\n",
    "  - Normalization Layers\n",
    "\n",
    "  - Recurrent Layers\n",
    "\n",
    "  - Transformer Layers\n",
    "\n",
    "  - Linear Layers\n",
    "\n",
    "  - Dropout Layers\n",
    "\n",
    "  - Sparse Layers\n",
    "\n",
    "  - Distance Functions\n",
    "\n",
    "  - Loss Functions\n",
    "\n",
    "  - ..\n",
    "- https://pytorch.org/docs/stable/nn.html"
   ]
  },
  {
   "cell_type": "code",
   "execution_count": 1,
   "id": "4b1d0d9a",
   "metadata": {},
   "outputs": [],
   "source": [
    "import torch\n",
    "import torch.nn as nn"
   ]
  },
  {
   "cell_type": "markdown",
   "id": "b02c4165",
   "metadata": {},
   "source": [
    "- Convolution Layer 예시(1)"
   ]
  },
  {
   "cell_type": "code",
   "execution_count": 5,
   "id": "0a057784",
   "metadata": {},
   "outputs": [],
   "source": [
    "m = nn.Conv2d(16, 33, 3, stride = 2)\n",
    "\n",
    "m = nn.Conv2d(16, 33, (3,5), stride = (2,1), padding = (4,2))\n",
    "\n",
    "m = nn.Conv2d(16, 33, (3 ,5), stride = (2 ,1), padding = (4 ,2), dilation = (3, 1))\n",
    "\n",
    "input = torch.randn(20, 16, 50, 100)\n",
    "output = m(input)"
   ]
  },
  {
   "cell_type": "code",
   "execution_count": 7,
   "id": "60e1bf4c",
   "metadata": {},
   "outputs": [
    {
     "name": "stdout",
     "output_type": "stream",
     "text": [
      "tensor([[[[-5.7036e-01, -2.6401e+00, -5.2223e-01,  ..., -1.0273e+00,\n",
      "            8.7066e-01,  9.5394e-01],\n",
      "          [-8.0157e-01, -2.8495e-01,  1.6271e+00,  ..., -4.9013e-01,\n",
      "           -9.4301e-01,  3.4827e-01],\n",
      "          [-4.2078e-01,  4.1381e-01, -3.1433e-01,  ..., -2.6081e-01,\n",
      "            1.0839e+00,  5.2836e-01],\n",
      "          ...,\n",
      "          [ 2.3000e-01,  4.5486e-01, -3.2807e-01,  ...,  2.6119e-01,\n",
      "            4.2954e-01,  8.0134e-01],\n",
      "          [-1.2539e+00, -9.9408e-01,  1.4100e-02,  ..., -1.0273e+00,\n",
      "            1.5588e+00, -3.3702e+00],\n",
      "          [-7.0934e-01, -1.0353e+00,  1.2131e+00,  ..., -5.1217e-01,\n",
      "           -1.1865e+00, -1.4921e-01]],\n",
      "\n",
      "         [[ 4.2808e-01,  8.4993e-01, -1.1150e+00,  ...,  8.7869e-01,\n",
      "           -3.0138e+00, -4.0220e-01],\n",
      "          [ 1.0529e+00,  5.9155e-01,  1.2920e+00,  ..., -1.1847e-01,\n",
      "           -7.1036e-01, -1.4573e+00],\n",
      "          [-1.7671e+00, -1.0451e-01,  1.2869e+00,  ..., -1.4280e+00,\n",
      "            1.4339e+00,  2.4099e-01],\n",
      "          ...,\n",
      "          [ 2.7047e+00,  7.7862e-01, -1.0319e+00,  ..., -1.3766e+00,\n",
      "            1.5430e+00, -2.0980e-01],\n",
      "          [-1.6628e+00,  3.9723e-01,  1.3914e+00,  ..., -4.1224e-01,\n",
      "           -7.0636e-01,  5.2357e-01],\n",
      "          [ 5.2530e-01, -8.4727e-01,  6.4021e-01,  ...,  1.8369e+00,\n",
      "            1.5140e-01,  2.2696e-01]],\n",
      "\n",
      "         [[ 9.5578e-01,  2.3073e-03,  2.3200e-01,  ..., -2.6756e-01,\n",
      "           -1.0383e-01,  6.9032e-01],\n",
      "          [ 7.2159e-01, -1.7469e+00,  4.6933e-01,  ...,  1.0763e+00,\n",
      "            6.4319e-01, -6.8814e-01],\n",
      "          [ 1.5735e-01, -9.3752e-01, -2.7274e-01,  ..., -2.2615e-01,\n",
      "            1.5200e+00,  9.1662e-01],\n",
      "          ...,\n",
      "          [-1.8206e+00,  5.9189e-01, -8.6392e-01,  ...,  7.2280e-01,\n",
      "            9.0562e-01, -6.3390e-01],\n",
      "          [-7.2663e-01, -4.3172e-01, -1.5876e+00,  ...,  1.9792e+00,\n",
      "            2.2618e-01, -6.7119e-01],\n",
      "          [ 8.9193e-01, -1.6465e+00, -1.4941e+00,  ...,  1.6462e+00,\n",
      "            1.2302e+00,  9.4678e-01]],\n",
      "\n",
      "         ...,\n",
      "\n",
      "         [[-7.7346e-01, -2.3490e-02,  3.8963e-01,  ...,  4.3947e-01,\n",
      "            7.1307e-01,  1.4254e+00],\n",
      "          [-1.6878e+00, -4.1210e-01,  1.5987e-01,  ..., -2.8937e-01,\n",
      "           -2.5013e-01,  8.5583e-01],\n",
      "          [ 7.5707e-01,  1.3666e+00,  4.0888e-01,  ..., -1.4650e+00,\n",
      "           -5.1835e-01,  4.6294e-01],\n",
      "          ...,\n",
      "          [ 5.6013e-01,  3.2156e-01, -2.2675e+00,  ..., -1.0313e-01,\n",
      "           -2.2895e-01, -5.6034e-01],\n",
      "          [ 1.8811e+00,  3.8388e-01, -2.3807e+00,  ...,  1.2035e+00,\n",
      "           -5.0230e-01, -3.1944e-01],\n",
      "          [ 2.5485e+00,  1.1752e+00, -2.3823e+00,  ..., -1.0697e-02,\n",
      "           -1.0651e+00,  1.3048e+00]],\n",
      "\n",
      "         [[ 5.0571e-01, -4.3803e-01, -8.2989e-01,  ..., -3.1557e-01,\n",
      "            2.1888e+00,  8.9704e-01],\n",
      "          [ 1.8259e+00,  3.8984e-01,  2.3703e+00,  ...,  1.2723e-01,\n",
      "            1.8360e+00,  9.3221e-01],\n",
      "          [-1.1987e+00, -6.3135e-01,  8.6035e-01,  ..., -8.9773e-01,\n",
      "           -1.4284e+00, -1.1058e+00],\n",
      "          ...,\n",
      "          [-2.4096e-01, -6.7110e-01,  2.1011e-01,  ...,  1.0877e-01,\n",
      "            1.7465e+00,  5.1790e-01],\n",
      "          [ 7.9871e-01, -9.2973e-01, -3.8253e-01,  ..., -1.3321e+00,\n",
      "            1.5199e+00,  3.8191e-01],\n",
      "          [-3.3404e-02,  8.0777e-02,  1.4638e+00,  ...,  1.6187e+00,\n",
      "            5.2933e-01, -6.2708e-01]],\n",
      "\n",
      "         [[ 5.5357e-01,  3.5397e-01,  4.7415e-02,  ..., -1.0183e+00,\n",
      "           -1.6069e-01, -5.7816e-01],\n",
      "          [ 1.4669e+00, -8.5794e-01, -4.8673e-01,  ...,  2.7443e-01,\n",
      "            1.1389e+00,  1.0788e+00],\n",
      "          [ 1.7063e-01, -1.7917e+00,  1.3089e-01,  ..., -1.6378e+00,\n",
      "            2.3250e-01,  7.3283e-02],\n",
      "          ...,\n",
      "          [ 1.6380e+00, -1.8371e+00, -1.0246e+00,  ...,  1.5811e+00,\n",
      "            9.7656e-01,  5.3997e-01],\n",
      "          [ 2.0740e-01, -5.9861e-01,  1.4630e+00,  ...,  6.4104e-01,\n",
      "           -4.0184e-01,  2.3587e+00],\n",
      "          [ 1.0659e+00,  3.9806e-01,  1.1591e+00,  ..., -2.0695e+00,\n",
      "           -1.0310e+00,  9.4956e-01]]],\n",
      "\n",
      "\n",
      "        [[[-1.2724e+00,  1.6443e+00, -6.9590e-01,  ...,  7.6773e-01,\n",
      "            1.3677e-01,  5.9691e-01],\n",
      "          [-8.0422e-02, -6.0722e-01,  1.7400e+00,  ...,  4.3973e-01,\n",
      "           -1.2477e+00,  2.3390e+00],\n",
      "          [ 1.6774e+00, -1.1827e+00,  7.5413e-02,  ..., -1.2072e+00,\n",
      "           -6.2319e-01,  1.5380e+00],\n",
      "          ...,\n",
      "          [-1.8180e+00, -7.2429e-01, -3.7422e-02,  ...,  1.5152e+00,\n",
      "           -5.0591e-01, -8.3023e-01],\n",
      "          [ 1.7337e+00,  1.9032e+00,  4.7865e-01,  ..., -3.7881e-01,\n",
      "           -1.5366e+00,  8.7126e-01],\n",
      "          [-2.2352e-01, -7.6086e-01,  5.6130e-01,  ..., -1.6051e+00,\n",
      "           -1.9824e+00,  2.3113e-01]],\n",
      "\n",
      "         [[-9.9676e-01, -1.7024e+00, -9.9440e-01,  ..., -1.1893e+00,\n",
      "           -1.1362e+00, -4.0711e-01],\n",
      "          [ 2.1949e+00,  4.8658e-01,  8.2179e-01,  ..., -8.8793e-01,\n",
      "            9.3587e-02,  5.2290e-02],\n",
      "          [ 6.3957e-03, -3.0277e+00,  2.9001e-01,  ...,  1.0162e+00,\n",
      "            2.4899e-01, -1.6181e+00],\n",
      "          ...,\n",
      "          [-2.2115e+00, -4.2134e-02, -2.5717e-01,  ..., -4.3096e-01,\n",
      "            5.4960e-01,  3.1807e-01],\n",
      "          [-9.2325e-01, -1.2512e+00, -3.7820e-01,  ...,  5.6248e-01,\n",
      "           -7.9604e-01, -4.2050e-01],\n",
      "          [ 4.7992e-01,  1.2998e+00, -6.6566e-01,  ...,  4.7963e-01,\n",
      "            5.0143e-02, -8.3952e-02]],\n",
      "\n",
      "         [[ 5.2428e-01, -1.7375e+00, -3.7899e-01,  ..., -6.9413e-01,\n",
      "           -1.0277e+00, -7.2683e-03],\n",
      "          [ 8.3839e-01, -1.2911e+00,  2.4672e-03,  ...,  3.2061e-01,\n",
      "           -8.1528e-01, -1.1567e+00],\n",
      "          [ 1.1616e+00,  3.4798e-02, -3.9751e-01,  ..., -9.1786e-01,\n",
      "           -1.8835e+00,  5.3644e-01],\n",
      "          ...,\n",
      "          [-1.4788e+00,  1.9352e+00,  1.1234e+00,  ...,  1.1706e+00,\n",
      "            6.5740e-01, -6.3983e-01],\n",
      "          [-1.9586e+00,  8.0543e-03, -6.0598e-01,  ..., -7.3229e-01,\n",
      "            4.6079e-01,  1.1129e-01],\n",
      "          [-7.2522e-01,  1.1560e+00,  5.0521e-01,  ...,  1.2044e+00,\n",
      "            4.7013e-01,  1.0526e+00]],\n",
      "\n",
      "         ...,\n",
      "\n",
      "         [[ 3.8947e-01, -8.4603e-01,  5.5650e-01,  ..., -7.1009e-01,\n",
      "            9.4308e-01,  9.4414e-01],\n",
      "          [-1.1374e+00,  5.1757e-01,  2.5740e-01,  ...,  5.5059e-01,\n",
      "            1.2859e-01, -4.0768e-01],\n",
      "          [ 8.2813e-01, -1.2410e+00, -1.0119e+00,  ...,  9.2611e-01,\n",
      "            3.1695e-02, -2.8500e-01],\n",
      "          ...,\n",
      "          [-1.6421e-01,  9.5979e-01,  6.8456e-01,  ..., -2.1053e+00,\n",
      "           -1.5109e+00, -1.5548e+00],\n",
      "          [ 8.1361e-01, -2.0338e-01, -5.7604e-01,  ...,  9.2939e-01,\n",
      "            7.6737e-01, -1.4464e+00],\n",
      "          [ 1.5418e+00, -9.8441e-02,  1.4657e+00,  ...,  2.9167e-01,\n",
      "            6.6814e-01,  1.2878e+00]],\n",
      "\n",
      "         [[-7.5300e-01,  8.3426e-01, -5.9769e-02,  ...,  2.3123e-01,\n",
      "            7.7763e-01, -2.9378e-01],\n",
      "          [-2.7692e-01,  8.1078e-01,  3.5744e-01,  ...,  1.4543e+00,\n",
      "           -4.5034e-01, -8.5740e-01],\n",
      "          [-2.5896e-01,  2.2262e-01,  5.1987e-01,  ..., -2.7821e-01,\n",
      "            3.6254e-01, -8.9115e-01],\n",
      "          ...,\n",
      "          [ 9.6243e-01,  1.5137e-01,  1.4709e-01,  ...,  3.2961e-01,\n",
      "           -3.0769e-01, -7.7034e-01],\n",
      "          [ 7.2587e-01, -1.9182e+00, -1.1016e+00,  ..., -6.5122e-01,\n",
      "            5.4989e-02,  4.9968e-01],\n",
      "          [ 7.6026e-02, -1.6026e+00,  1.1405e-01,  ...,  8.5018e-01,\n",
      "            1.8031e+00,  1.5994e-01]],\n",
      "\n",
      "         [[-1.1628e+00,  5.5471e-01,  9.6146e-01,  ...,  7.4530e-02,\n",
      "           -1.5431e-01,  1.7458e-01],\n",
      "          [-6.2938e-02,  8.6134e-01,  1.0133e+00,  ...,  6.5148e-01,\n",
      "           -1.5267e+00, -6.0977e-01],\n",
      "          [-2.0253e-01, -2.1427e+00,  1.6340e-01,  ...,  3.9128e-01,\n",
      "           -9.2178e-02,  1.2793e+00],\n",
      "          ...,\n",
      "          [ 4.6497e-01, -1.1315e+00, -1.9717e+00,  ...,  2.0190e-01,\n",
      "            1.2226e+00,  2.7153e-01],\n",
      "          [ 7.0146e-01, -4.1027e-01,  2.5951e-01,  ...,  1.6662e+00,\n",
      "           -3.6988e-01,  1.4180e+00],\n",
      "          [-1.2101e+00, -3.6882e-01, -1.6202e+00,  ...,  2.5746e-01,\n",
      "           -1.8443e+00, -2.2678e-01]]],\n",
      "\n",
      "\n",
      "        [[[-7.1032e-01, -1.0563e+00,  1.7067e+00,  ...,  9.4558e-01,\n",
      "           -4.7888e-01,  9.1116e-01],\n",
      "          [-1.7897e+00, -1.8091e-01,  1.2689e+00,  ...,  1.7425e+00,\n",
      "            2.5695e-01, -1.9045e-02],\n",
      "          [-9.9049e-01,  5.1089e-01,  5.6833e-01,  ...,  1.6072e+00,\n",
      "           -1.7079e+00,  7.8040e-01],\n",
      "          ...,\n",
      "          [-2.6774e+00,  1.1977e+00,  9.6498e-01,  ...,  1.1536e+00,\n",
      "            4.9238e-01,  1.4712e+00],\n",
      "          [-4.0790e-01,  1.2462e-01,  1.1315e+00,  ..., -3.0796e-01,\n",
      "            4.0075e-02, -1.3946e-02],\n",
      "          [ 8.0346e-01,  7.7720e-01,  4.0503e-01,  ...,  1.4537e+00,\n",
      "            4.3608e-01, -5.3752e-01]],\n",
      "\n",
      "         [[ 2.8210e-01,  5.5775e-01,  9.2743e-01,  ...,  2.0706e-01,\n",
      "            1.0284e+00,  2.5783e-01],\n",
      "          [-5.4955e-01, -1.7139e+00,  4.3517e-01,  ...,  1.0719e+00,\n",
      "           -1.8585e+00, -8.2393e-01],\n",
      "          [ 3.2304e-01, -9.1225e-01, -2.8931e-01,  ...,  8.0644e-01,\n",
      "           -7.5837e-01, -1.3533e+00],\n",
      "          ...,\n",
      "          [-1.3038e+00, -4.7024e-01, -1.4040e+00,  ...,  2.6126e-02,\n",
      "           -6.3372e-01, -3.1871e-01],\n",
      "          [ 2.0648e+00, -2.0418e-01,  2.0975e-01,  ...,  1.6419e+00,\n",
      "            4.4234e-01, -5.3265e-02],\n",
      "          [-2.8551e-01, -5.6737e-01, -4.9351e-01,  ..., -2.8467e-01,\n",
      "           -1.3346e+00, -8.4203e-01]],\n",
      "\n",
      "         [[-1.2273e+00,  2.3842e-04, -1.8751e+00,  ..., -2.5761e+00,\n",
      "           -1.5582e+00,  1.4083e+00],\n",
      "          [-4.2454e-01, -1.6740e-01,  1.7519e-01,  ..., -1.8859e+00,\n",
      "           -1.3681e+00,  1.4800e+00],\n",
      "          [-8.8645e-01,  4.6048e-01,  2.8025e-01,  ...,  2.6940e-01,\n",
      "            5.5189e-03, -1.2023e+00],\n",
      "          ...,\n",
      "          [-1.2449e+00, -1.0726e+00, -2.9813e-01,  ...,  2.8339e+00,\n",
      "           -1.1259e+00,  1.0154e+00],\n",
      "          [ 5.6568e-01, -8.4101e-02, -1.1364e+00,  ...,  1.5505e-01,\n",
      "            8.0366e-01, -1.1285e+00],\n",
      "          [-2.2544e-01, -7.1648e-01, -6.5669e-01,  ..., -2.0187e-01,\n",
      "            3.6333e-01,  8.2363e-01]],\n",
      "\n",
      "         ...,\n",
      "\n",
      "         [[-1.9399e-01,  5.6232e-01, -1.1332e+00,  ..., -1.5531e+00,\n",
      "            4.8328e-01, -2.7270e-01],\n",
      "          [ 9.0152e-02, -1.7435e+00,  7.6468e-01,  ...,  1.7323e-01,\n",
      "           -8.8830e-01, -2.3814e+00],\n",
      "          [-4.0576e-01, -1.4306e+00, -1.1998e+00,  ...,  5.3595e-01,\n",
      "            1.8482e+00, -6.2675e-01],\n",
      "          ...,\n",
      "          [ 8.7699e-01, -9.0131e-01,  5.8727e-02,  ..., -2.5700e-01,\n",
      "            2.3753e-01, -1.2290e+00],\n",
      "          [-8.1115e-01,  1.2499e-01, -5.4165e-01,  ..., -9.0533e-01,\n",
      "            1.3467e+00, -1.1945e+00],\n",
      "          [ 5.3241e-01, -9.0133e-01,  2.3092e+00,  ..., -5.6481e-01,\n",
      "            1.3546e+00,  1.0746e-01]],\n",
      "\n",
      "         [[-1.6543e-01, -9.9998e-01, -1.3434e+00,  ..., -1.1264e+00,\n",
      "            8.7198e-01,  1.3263e+00],\n",
      "          [ 4.8534e-01,  6.0820e-01, -1.3390e+00,  ..., -5.3257e-01,\n",
      "            4.6378e-01,  2.6006e-01],\n",
      "          [-5.1502e-01, -1.8571e+00,  3.3778e-01,  ..., -4.3607e-01,\n",
      "            1.2132e+00, -3.6794e-01],\n",
      "          ...,\n",
      "          [-8.1525e-01, -3.7148e-02,  4.6419e-01,  ..., -2.4088e+00,\n",
      "           -3.1844e-01, -5.1656e-01],\n",
      "          [ 2.8179e-01,  2.6932e-01,  1.7180e+00,  ...,  7.7297e-01,\n",
      "           -1.4644e+00, -2.0337e+00],\n",
      "          [-7.2712e-01,  1.3490e+00,  2.6600e-01,  ...,  2.2256e+00,\n",
      "            1.4594e+00, -1.7854e+00]],\n",
      "\n",
      "         [[-8.4709e-01,  1.1299e-01, -6.5720e-01,  ..., -5.7619e-01,\n",
      "            5.5965e-01,  1.1791e+00],\n",
      "          [ 5.3807e-01,  6.5423e-01, -2.6074e+00,  ...,  2.7091e-01,\n",
      "           -9.3890e-01, -2.3638e+00],\n",
      "          [-5.4264e-01, -1.3405e+00,  2.0475e-01,  ..., -1.4324e-01,\n",
      "           -7.8127e-01, -4.9586e-01],\n",
      "          ...,\n",
      "          [ 1.4038e+00,  6.6063e-01, -9.1496e-01,  ..., -1.5229e-01,\n",
      "           -5.8293e-01, -1.1493e+00],\n",
      "          [ 8.7920e-01, -4.4870e-01,  3.1457e-02,  ...,  2.1176e+00,\n",
      "           -1.6941e+00, -1.0019e+00],\n",
      "          [ 2.0788e+00, -1.1345e+00,  3.0201e-02,  ...,  1.0027e+00,\n",
      "            1.5538e+00, -9.8228e-01]]],\n",
      "\n",
      "\n",
      "        ...,\n",
      "\n",
      "\n",
      "        [[[-6.6713e-02, -6.8520e-01, -1.4293e+00,  ..., -6.0850e-01,\n",
      "            3.5438e-01, -9.9172e-01],\n",
      "          [-5.6798e-01, -1.6523e+00,  6.5945e-01,  ..., -2.0180e+00,\n",
      "           -1.2877e+00,  7.2478e-01],\n",
      "          [ 1.2598e-01, -1.6288e+00, -7.2781e-01,  ...,  5.2970e-01,\n",
      "           -8.9199e-01,  4.4191e-01],\n",
      "          ...,\n",
      "          [-1.8968e-01, -5.5478e-01, -1.1384e+00,  ..., -1.2152e+00,\n",
      "           -6.2583e-01,  2.8741e-01],\n",
      "          [ 2.2767e-01,  1.4226e+00,  8.0692e-01,  ...,  1.2596e+00,\n",
      "           -8.8845e-01,  7.4515e-01],\n",
      "          [-3.8127e-01, -7.6202e-01,  1.1403e+00,  ..., -1.1056e+00,\n",
      "            2.7168e-01,  2.6016e-01]],\n",
      "\n",
      "         [[-2.0017e-01, -1.5848e+00,  2.7409e-01,  ..., -6.0632e-01,\n",
      "           -2.3570e-01,  2.2714e+00],\n",
      "          [ 7.4518e-01, -1.4117e+00,  1.1466e+00,  ...,  1.1891e+00,\n",
      "           -1.6717e+00, -5.6292e-01],\n",
      "          [ 1.7388e+00,  4.3100e-01,  1.0472e+00,  ...,  7.1539e-02,\n",
      "            9.7452e-01, -1.2461e+00],\n",
      "          ...,\n",
      "          [ 1.2035e-01, -2.9718e-01, -9.8962e-01,  ...,  8.4658e-01,\n",
      "           -1.3655e+00,  1.4719e+00],\n",
      "          [-2.4835e+00,  2.8422e-01, -6.0785e-01,  ...,  2.1595e-01,\n",
      "            7.2533e-01,  1.5292e-02],\n",
      "          [-9.8372e-01,  6.3928e-01,  1.0232e-01,  ..., -4.6489e-01,\n",
      "            3.2096e-02, -1.4260e-01]],\n",
      "\n",
      "         [[-6.9132e-01,  2.0915e-01,  1.3679e+00,  ...,  5.9015e-01,\n",
      "           -1.1472e+00, -5.7496e-01],\n",
      "          [ 1.1328e+00, -6.8865e-01,  5.4364e-01,  ..., -1.0649e+00,\n",
      "            2.2905e+00,  7.8875e-02],\n",
      "          [-5.2417e-01,  1.9989e-01, -6.3442e-01,  ..., -1.6983e+00,\n",
      "           -2.7217e-01, -1.7567e-01],\n",
      "          ...,\n",
      "          [ 1.4231e+00, -9.3146e-01,  7.0842e-02,  ...,  1.2868e+00,\n",
      "            2.0049e+00,  5.4421e-01],\n",
      "          [-3.1211e-01,  8.2400e-01,  1.4150e+00,  ..., -8.4623e-01,\n",
      "            4.2179e-01, -1.4307e+00],\n",
      "          [-5.2216e-01,  1.5312e+00, -6.2537e-02,  ..., -2.3593e-01,\n",
      "            4.5437e-02, -1.2091e-01]],\n",
      "\n",
      "         ...,\n",
      "\n",
      "         [[ 9.0541e-01, -7.9602e-01, -7.1419e-01,  ..., -1.0464e+00,\n",
      "            5.1164e-01, -1.4474e-02],\n",
      "          [ 2.4922e-01, -6.6714e-02,  8.2776e-01,  ..., -4.7702e-02,\n",
      "            1.3573e+00,  1.2948e+00],\n",
      "          [ 2.4313e-01,  1.0175e+00, -2.1189e+00,  ...,  9.0584e-01,\n",
      "            1.9606e+00, -5.3189e-01],\n",
      "          ...,\n",
      "          [-2.1085e+00,  1.9281e+00,  2.2581e+00,  ..., -1.6032e+00,\n",
      "            1.0661e+00, -5.9752e-01],\n",
      "          [ 9.5662e-01,  6.4503e-01,  4.7582e-01,  ...,  9.4987e-01,\n",
      "            6.8799e-01,  4.3821e-01],\n",
      "          [-3.9243e-01, -9.2191e-01,  2.3434e-01,  ...,  2.6585e-01,\n",
      "           -1.2213e+00,  3.0214e-01]],\n",
      "\n",
      "         [[-6.5765e-01, -1.0037e+00,  1.4458e+00,  ...,  3.8046e-01,\n",
      "            9.2313e-01, -9.1365e-02],\n",
      "          [-1.7942e-01,  7.3712e-01, -4.0162e-01,  ...,  1.2127e+00,\n",
      "           -9.3786e-02,  2.1870e-01],\n",
      "          [ 4.0986e-01,  6.0799e-02, -5.5694e-01,  ...,  9.4081e-01,\n",
      "           -1.7965e+00,  1.4551e-01],\n",
      "          ...,\n",
      "          [ 1.2425e-01, -5.5369e-01,  1.7186e-01,  ..., -9.7496e-01,\n",
      "           -5.1249e-01,  4.7025e-01],\n",
      "          [ 1.0481e+00,  7.7801e-01, -9.8758e-01,  ...,  5.4808e-02,\n",
      "           -4.8677e-01, -6.5959e-02],\n",
      "          [-9.5466e-01, -9.6798e-01,  2.4675e-01,  ...,  1.0161e+00,\n",
      "            8.0131e-01, -1.0987e+00]],\n",
      "\n",
      "         [[ 7.3188e-02,  1.7146e+00, -6.9184e-01,  ...,  7.0098e-01,\n",
      "           -1.8562e+00,  1.3730e+00],\n",
      "          [ 1.7927e-01,  1.1256e+00, -1.5206e-01,  ..., -1.8862e+00,\n",
      "           -1.2363e+00,  2.3021e+00],\n",
      "          [ 1.3885e-01,  5.8227e-01,  4.6300e-01,  ..., -1.6288e+00,\n",
      "            4.2274e-01, -2.5396e+00],\n",
      "          ...,\n",
      "          [ 7.9662e-02, -2.7906e-01,  1.0336e+00,  ..., -1.5253e+00,\n",
      "           -1.9891e-01, -8.3633e-01],\n",
      "          [ 3.0529e-01,  8.2099e-01, -3.4111e-01,  ..., -3.5383e-01,\n",
      "            1.6499e+00, -4.0634e-01],\n",
      "          [ 1.7870e+00, -1.0638e-01,  6.3681e-01,  ..., -1.5741e-01,\n",
      "           -7.4289e-01,  5.8438e-01]]],\n",
      "\n",
      "\n",
      "        [[[ 7.4146e-01,  5.8397e-01, -6.8374e-02,  ...,  1.8947e-01,\n",
      "           -7.8604e-01,  5.0461e-01],\n",
      "          [ 1.4019e+00, -8.1342e-01,  1.3704e+00,  ..., -2.6803e-01,\n",
      "            9.4764e-01,  9.9158e-01],\n",
      "          [ 2.1699e+00,  7.8968e-01, -2.2862e+00,  ..., -9.3081e-01,\n",
      "           -4.3240e-01,  5.7216e-02],\n",
      "          ...,\n",
      "          [-6.1584e-02, -2.0330e+00, -6.2039e-01,  ..., -1.3113e+00,\n",
      "           -1.2857e+00,  6.0373e-01],\n",
      "          [-1.7743e-01, -7.2000e-01, -1.1764e-01,  ...,  5.6365e-02,\n",
      "            1.8945e+00,  5.7917e-01],\n",
      "          [-1.7164e+00,  1.3364e+00,  4.9834e-01,  ..., -1.4040e-01,\n",
      "           -1.4447e+00, -6.1359e-01]],\n",
      "\n",
      "         [[-1.5482e+00,  2.1970e-01,  6.5802e-01,  ..., -3.1988e-01,\n",
      "           -4.6897e-01, -6.2253e-01],\n",
      "          [-1.2774e+00,  3.5366e-01, -6.1705e-01,  ...,  4.9335e-01,\n",
      "            2.0353e+00,  5.0626e-01],\n",
      "          [-9.9880e-01,  9.7936e-01, -9.6389e-01,  ...,  1.0352e-01,\n",
      "           -4.5254e-02,  1.8261e+00],\n",
      "          ...,\n",
      "          [-1.6474e-02,  5.0241e-01,  4.8191e-01,  ..., -8.9342e-01,\n",
      "            3.4165e-01,  2.0320e+00],\n",
      "          [-4.7019e-01,  1.4252e+00,  4.3538e-01,  ..., -9.6141e-01,\n",
      "           -1.5319e+00, -3.4750e-03],\n",
      "          [-6.6807e-01,  8.2857e-01, -8.4571e-01,  ..., -6.7839e-01,\n",
      "            1.3789e+00, -3.5480e-01]],\n",
      "\n",
      "         [[-2.4473e-01,  9.1320e-01,  3.7325e-01,  ..., -4.2288e-01,\n",
      "            1.2695e+00,  6.7360e-01],\n",
      "          [ 7.4721e-01,  1.1999e+00, -2.3659e-01,  ..., -9.5781e-01,\n",
      "           -1.1971e-01,  5.5147e-02],\n",
      "          [ 1.2936e+00,  3.1610e-01,  1.2317e+00,  ...,  1.7203e-02,\n",
      "           -6.5603e-01,  3.6627e-01],\n",
      "          ...,\n",
      "          [ 4.1355e-02,  3.5615e-01, -1.0518e+00,  ...,  2.4452e-01,\n",
      "           -1.2503e+00,  2.5294e+00],\n",
      "          [ 1.3214e+00,  1.1088e+00, -5.1448e-01,  ...,  6.5067e-01,\n",
      "           -7.9748e-01, -1.0520e+00],\n",
      "          [-8.6916e-01, -2.0393e+00, -9.7904e-01,  ..., -1.4090e-01,\n",
      "           -7.0899e-01, -2.2261e-01]],\n",
      "\n",
      "         ...,\n",
      "\n",
      "         [[ 1.4846e-01,  9.0343e-01, -6.6904e-01,  ...,  1.6168e+00,\n",
      "            1.2425e+00, -8.5236e-01],\n",
      "          [-6.7675e-01,  1.8758e+00, -8.7600e-01,  ..., -1.7048e-01,\n",
      "           -9.0344e-01,  8.0623e-01],\n",
      "          [ 5.7856e-01, -5.1783e-01, -2.9603e+00,  ...,  9.7349e-02,\n",
      "            4.2973e-01,  1.0179e-02],\n",
      "          ...,\n",
      "          [ 1.8700e+00,  8.8858e-01, -1.6312e-01,  ...,  4.9066e-01,\n",
      "            1.8597e+00, -1.7701e+00],\n",
      "          [ 2.0062e-01,  1.8897e+00, -6.6257e-01,  ...,  2.3378e-01,\n",
      "            3.6068e-02, -1.5086e+00],\n",
      "          [ 2.8789e-01, -1.6751e+00,  9.9428e-01,  ...,  2.9921e-01,\n",
      "            8.2696e-01, -1.9279e+00]],\n",
      "\n",
      "         [[-5.0278e-02,  2.9676e-01,  3.2909e-01,  ..., -1.9353e+00,\n",
      "            7.1475e-01, -1.2834e+00],\n",
      "          [ 2.9916e-01, -1.7720e+00, -1.7217e+00,  ...,  8.2147e-01,\n",
      "           -7.1802e-01, -1.1415e+00],\n",
      "          [ 6.5826e-01, -2.1582e+00,  7.4833e-01,  ...,  9.4812e-02,\n",
      "           -2.4414e+00,  7.2387e-01],\n",
      "          ...,\n",
      "          [ 1.0775e-01, -4.3258e-01, -1.3950e+00,  ..., -3.1513e-01,\n",
      "           -1.4841e+00, -3.3099e-01],\n",
      "          [-1.5592e+00, -1.7605e+00, -9.9189e-01,  ..., -7.4013e-01,\n",
      "           -3.7599e-01,  4.0065e-01],\n",
      "          [-7.3541e-01,  2.2433e+00,  1.1515e+00,  ...,  5.3382e-01,\n",
      "           -3.4815e-02,  1.5714e+00]],\n",
      "\n",
      "         [[ 1.2125e+00,  2.3141e+00,  2.5955e+00,  ...,  5.2745e-01,\n",
      "            1.0606e+00,  8.6547e-01],\n",
      "          [ 7.5860e-01, -4.2078e-01,  4.2990e-01,  ...,  2.9024e-01,\n",
      "           -7.7816e-01, -1.2022e+00],\n",
      "          [-1.1936e+00, -5.6165e-01, -1.8923e+00,  ...,  5.5858e-02,\n",
      "           -1.8581e-01,  7.2754e-01],\n",
      "          ...,\n",
      "          [-5.4659e-01, -2.1241e-01, -8.9051e-01,  ...,  7.2388e-01,\n",
      "           -1.0988e+00,  2.3373e+00],\n",
      "          [ 4.3826e-01, -2.2032e+00, -4.3952e-01,  ..., -1.2575e+00,\n",
      "            2.8740e-01,  4.8539e-01],\n",
      "          [ 4.3962e-01, -8.3087e-01,  1.3742e-01,  ...,  5.7262e-01,\n",
      "           -3.7847e-01, -1.5881e-02]]],\n",
      "\n",
      "\n",
      "        [[[-1.4997e+00, -1.8831e-01, -7.3193e-01,  ...,  2.7939e-01,\n",
      "           -1.5446e+00, -6.4497e-01],\n",
      "          [ 3.7760e-01, -7.6313e-01,  9.5015e-02,  ...,  9.5153e-01,\n",
      "           -1.0414e+00, -5.0765e-03],\n",
      "          [ 3.3627e-01,  1.5610e-01,  1.2632e-01,  ..., -1.6884e+00,\n",
      "            8.4799e-01,  1.4518e+00],\n",
      "          ...,\n",
      "          [ 2.7930e-01, -2.2728e+00,  3.0730e-01,  ...,  1.0790e+00,\n",
      "            3.7709e-01,  2.0991e+00],\n",
      "          [-1.3585e+00,  6.8882e-01,  1.4816e-01,  ..., -1.2773e+00,\n",
      "           -6.6710e-01, -1.1672e+00],\n",
      "          [ 1.3192e+00, -1.0800e+00,  1.6799e-02,  ...,  2.7785e-01,\n",
      "           -1.9435e+00, -1.4736e+00]],\n",
      "\n",
      "         [[-6.8326e-01, -2.1844e+00, -5.2485e-01,  ..., -1.3997e+00,\n",
      "           -7.8933e-01,  5.4604e-01],\n",
      "          [-2.0229e-01,  1.9637e-01, -1.5351e+00,  ..., -1.7251e+00,\n",
      "           -1.3641e+00,  1.6036e-01],\n",
      "          [-7.8624e-01, -1.8957e-01,  1.0139e+00,  ...,  1.5648e+00,\n",
      "           -6.9421e-01, -8.9643e-01],\n",
      "          ...,\n",
      "          [-6.6426e-01, -9.7365e-01,  7.6899e-01,  ..., -1.0256e+00,\n",
      "            1.3972e+00,  1.0228e+00],\n",
      "          [ 3.0075e+00, -9.4196e-01,  2.3313e-01,  ...,  6.6253e-01,\n",
      "            6.5640e-01,  1.2924e-01],\n",
      "          [-6.1803e-01,  1.2176e+00,  1.0776e+00,  ...,  8.9919e-01,\n",
      "           -1.2874e+00,  1.4837e+00]],\n",
      "\n",
      "         [[ 8.4385e-01, -1.2515e+00, -3.1892e-01,  ...,  1.2770e+00,\n",
      "            1.6430e+00, -1.3092e+00],\n",
      "          [ 7.9944e-01,  1.1301e+00, -6.3520e-01,  ..., -1.3068e+00,\n",
      "            3.9706e-01, -6.4354e-02],\n",
      "          [-5.8357e-01, -8.1804e-01, -1.6024e+00,  ..., -4.1086e-01,\n",
      "            7.4976e-01, -7.7855e-01],\n",
      "          ...,\n",
      "          [ 5.8423e-01,  8.0886e-01, -1.4284e+00,  ...,  4.2249e-02,\n",
      "            1.3320e+00, -4.6709e-01],\n",
      "          [-7.0975e-01,  2.1955e-01, -9.7446e-01,  ..., -8.7484e-01,\n",
      "            9.5277e-01, -6.4734e-01],\n",
      "          [-9.6843e-03,  2.6952e-01,  1.0610e+00,  ...,  3.4788e-01,\n",
      "           -4.8228e-01,  1.6181e+00]],\n",
      "\n",
      "         ...,\n",
      "\n",
      "         [[-8.0725e-01, -1.9442e+00, -1.2472e+00,  ...,  4.8336e-01,\n",
      "            2.6805e-01, -4.1558e-01],\n",
      "          [-1.9736e+00, -2.4503e-01, -1.1684e+00,  ...,  7.4974e-01,\n",
      "           -5.8130e-01,  1.6288e+00],\n",
      "          [ 5.4002e-01, -3.1634e-01, -1.0861e+00,  ...,  7.3864e-01,\n",
      "           -1.3880e+00, -7.8661e-01],\n",
      "          ...,\n",
      "          [ 4.9470e-02, -7.6420e-01, -3.4120e-01,  ..., -3.7460e-01,\n",
      "           -2.2591e-02,  5.0541e-01],\n",
      "          [ 1.1260e-01, -1.9314e-01,  6.7001e-01,  ...,  1.1419e+00,\n",
      "            1.9504e-01, -3.4994e-01],\n",
      "          [-1.2889e+00,  1.5284e-01, -3.3128e-01,  ...,  1.0418e+00,\n",
      "           -7.4303e-01, -1.4974e+00]],\n",
      "\n",
      "         [[-3.9324e-01,  1.5319e-02,  4.7130e-01,  ...,  8.3571e-02,\n",
      "           -1.8167e+00, -2.9610e-01],\n",
      "          [-9.9758e-01,  2.1651e-01,  3.2220e-01,  ..., -5.5107e-01,\n",
      "            8.6903e-01,  2.4493e+00],\n",
      "          [-4.8588e-01,  3.0330e-02, -3.3767e-01,  ..., -8.5196e-02,\n",
      "            2.8282e-01, -8.1298e-01],\n",
      "          ...,\n",
      "          [ 4.9893e-01, -9.7450e-01,  3.1649e-01,  ...,  3.8695e-01,\n",
      "            7.4656e-02,  3.8072e-01],\n",
      "          [ 2.9299e-01, -6.3515e-01,  6.9852e-01,  ..., -4.5334e-01,\n",
      "           -1.0149e+00, -5.8277e-01],\n",
      "          [-2.7887e+00,  5.3914e-01, -9.1549e-01,  ..., -7.4364e-01,\n",
      "           -1.7099e+00, -7.3074e-01]],\n",
      "\n",
      "         [[ 9.1828e-02, -1.9822e+00, -1.1468e+00,  ...,  3.5053e-01,\n",
      "            1.5149e-01, -1.2947e+00],\n",
      "          [-6.1068e-01, -4.6785e-01, -4.7204e-01,  ..., -1.2852e-01,\n",
      "            7.8257e-03, -1.8098e+00],\n",
      "          [-2.9038e-01,  3.7086e-01,  7.0555e-01,  ..., -5.5168e-01,\n",
      "           -1.5396e+00, -1.4982e+00],\n",
      "          ...,\n",
      "          [-1.4766e+00,  6.0776e-01, -1.8184e+00,  ...,  2.2207e+00,\n",
      "           -1.0619e+00, -7.0071e-01],\n",
      "          [ 4.3736e-01, -1.1791e+00,  1.7333e+00,  ..., -5.3306e-01,\n",
      "            1.1700e+00, -7.2101e-01],\n",
      "          [-1.4309e+00, -4.8967e-01, -1.0087e+00,  ...,  7.9153e-01,\n",
      "           -1.4850e+00,  9.6523e-01]]]])\n",
      "tensor([[[[ 1.7762e-01, -4.0262e-01, -3.6131e-01,  ...,  7.1353e-01,\n",
      "            2.4597e-01,  9.8718e-02],\n",
      "          [-5.5841e-02, -9.8740e-02, -2.1560e-01,  ...,  3.2564e-01,\n",
      "           -2.5632e-01, -4.7605e-01],\n",
      "          [-3.3471e-01,  5.6707e-01, -2.3108e-01,  ...,  8.6117e-01,\n",
      "           -8.3768e-01, -2.9211e-01],\n",
      "          ...,\n",
      "          [-2.5941e-01, -8.1053e-01,  1.9771e-01,  ..., -4.0749e-02,\n",
      "            5.5258e-01,  2.7738e-01],\n",
      "          [ 2.1753e-01,  2.7194e-02,  4.2144e-01,  ...,  3.9545e-01,\n",
      "            6.2208e-01,  3.5615e-01],\n",
      "          [ 2.0297e-01, -7.7052e-01,  8.5203e-01,  ..., -9.8183e-02,\n",
      "           -2.5485e-01, -9.2130e-02]],\n",
      "\n",
      "         [[ 1.0105e-01,  7.2824e-02,  3.2045e-01,  ...,  3.4303e-01,\n",
      "           -9.1990e-02, -1.2736e-01],\n",
      "          [ 5.4747e-01,  1.7636e-01, -6.4807e-03,  ...,  1.1458e-01,\n",
      "           -2.0130e-01,  6.8441e-01],\n",
      "          [ 5.3117e-01, -3.0890e-01, -9.4103e-01,  ...,  4.6900e-01,\n",
      "           -3.1400e-01,  4.5058e-01],\n",
      "          ...,\n",
      "          [ 1.4583e-01,  2.3548e-01, -4.4276e-01,  ..., -1.9271e-01,\n",
      "           -5.0158e-01, -2.7133e-01],\n",
      "          [-2.3996e-01,  5.2514e-01,  6.3383e-01,  ...,  5.5139e-01,\n",
      "            3.1680e-01,  3.9134e-02],\n",
      "          [ 2.0734e-03,  6.5607e-02,  1.1392e+00,  ...,  2.8440e-01,\n",
      "           -9.7495e-02, -5.1046e-01]],\n",
      "\n",
      "         [[ 1.0900e-01, -1.3196e-01,  2.0129e-02,  ...,  4.3497e-01,\n",
      "            3.0366e-01,  1.1343e-01],\n",
      "          [ 3.1138e-01,  3.7253e-01,  2.0340e-02,  ...,  1.0148e-01,\n",
      "           -8.2969e-02,  2.0855e-01],\n",
      "          [-1.1761e-01, -1.3824e+00, -4.6109e-01,  ...,  4.8677e-01,\n",
      "            4.3981e-01,  6.4825e-01],\n",
      "          ...,\n",
      "          [ 4.4553e-01, -1.4655e-01,  4.9930e-01,  ..., -1.4713e-01,\n",
      "           -1.0589e+00,  1.2227e-01],\n",
      "          [ 8.6361e-01,  5.5466e-01,  3.1533e-02,  ...,  5.6945e-02,\n",
      "            8.4483e-01,  7.5634e-01],\n",
      "          [ 5.0826e-01,  3.0342e-01,  8.9179e-01,  ..., -4.4648e-01,\n",
      "            2.4270e-01,  4.3041e-01]],\n",
      "\n",
      "         ...,\n",
      "\n",
      "         [[-8.2031e-03, -1.3322e-01,  4.8922e-02,  ..., -2.3334e-01,\n",
      "            1.6644e-01,  1.0722e-01],\n",
      "          [-7.5125e-01, -4.4795e-02,  8.8625e-02,  ..., -2.7304e-01,\n",
      "           -8.0894e-02,  2.6301e-01],\n",
      "          [ 6.1275e-02, -2.3433e-01,  1.2516e-01,  ..., -9.8332e-02,\n",
      "           -4.8062e-01, -5.7713e-02],\n",
      "          ...,\n",
      "          [ 2.2089e-01, -5.1461e-01, -8.7448e-01,  ..., -8.3697e-02,\n",
      "            1.9003e-02, -1.8402e-01],\n",
      "          [-8.3933e-01, -7.0640e-01,  1.2725e-01,  ..., -9.5675e-02,\n",
      "            4.8396e-01, -3.5016e-01],\n",
      "          [ 2.4164e-01,  7.3056e-02, -3.0253e-01,  ...,  1.2065e-02,\n",
      "            5.9617e-01, -1.3188e-01]],\n",
      "\n",
      "         [[-9.0173e-03,  4.0536e-01,  6.6871e-01,  ...,  7.6248e-02,\n",
      "           -1.3625e-01, -1.8580e-01],\n",
      "          [-1.0251e-01, -2.2116e-02, -2.7673e-01,  ...,  6.6129e-02,\n",
      "            4.5822e-01, -7.2684e-02],\n",
      "          [-2.1177e-01,  3.8694e-01, -5.3937e-01,  ...,  2.8757e-01,\n",
      "           -5.7021e-01, -1.2027e-01],\n",
      "          ...,\n",
      "          [ 4.4316e-01,  5.2935e-01,  5.8538e-01,  ..., -4.0963e-01,\n",
      "           -4.2217e-01, -3.4778e-01],\n",
      "          [-5.0492e-02, -1.2076e+00,  2.6190e-01,  ..., -1.5470e-01,\n",
      "           -1.8921e-01, -3.7821e-01],\n",
      "          [ 2.5087e-01, -5.2768e-01, -6.1730e-01,  ..., -1.0895e+00,\n",
      "            4.4471e-01,  5.0205e-01]],\n",
      "\n",
      "         [[-1.0410e-01, -1.2381e-01,  2.8030e-01,  ...,  1.2144e-01,\n",
      "            8.1120e-02, -3.6392e-02],\n",
      "          [ 1.8515e-01,  1.5414e-01,  5.1127e-01,  ..., -2.4281e-01,\n",
      "           -4.5985e-01,  1.0949e-01],\n",
      "          [ 1.3924e-01,  1.1260e-01, -6.6211e-01,  ...,  3.0915e-01,\n",
      "            5.0708e-01, -1.2592e-01],\n",
      "          ...,\n",
      "          [-6.6860e-01, -2.8447e-01,  2.8073e-01,  ..., -9.0805e-02,\n",
      "            4.6210e-01, -6.0329e-01],\n",
      "          [ 1.1442e-01, -3.1164e-01,  1.8252e-01,  ..., -8.9107e-01,\n",
      "            1.7169e-02, -9.7880e-02],\n",
      "          [-2.1982e-01, -4.1312e-01, -1.6308e-01,  ...,  2.4501e-01,\n",
      "            4.7903e-01, -5.4923e-01]]],\n",
      "\n",
      "\n",
      "        [[[-4.2004e-01, -9.9235e-03,  5.4414e-01,  ..., -2.8964e-01,\n",
      "            1.6096e-01,  3.4804e-01],\n",
      "          [ 3.1672e-01, -5.2956e-01,  2.4266e-01,  ..., -2.7400e-01,\n",
      "            1.4977e-02,  1.7102e-01],\n",
      "          [ 4.1258e-01,  5.4283e-01,  5.3736e-02,  ...,  7.8395e-01,\n",
      "           -2.3939e-01, -3.7279e-01],\n",
      "          ...,\n",
      "          [ 3.6124e-01,  5.5969e-01, -1.5624e+00,  ..., -1.3688e-01,\n",
      "           -2.8145e-01, -5.8619e-01],\n",
      "          [-5.4382e-01, -2.4655e-01,  1.6423e-01,  ..., -1.1262e-01,\n",
      "           -3.7537e-01,  2.4507e-01],\n",
      "          [ 4.5816e-02, -5.6072e-01,  4.0186e-03,  ...,  4.1489e-01,\n",
      "           -6.7580e-01, -1.2697e-01]],\n",
      "\n",
      "         [[-1.8794e-01,  1.6007e-01,  8.9546e-02,  ...,  1.3818e-01,\n",
      "           -4.4012e-01, -1.7342e-01],\n",
      "          [ 6.5892e-02, -3.0775e-01,  1.0483e-01,  ...,  6.5034e-01,\n",
      "            6.5887e-03,  5.2461e-01],\n",
      "          [-2.7408e-01,  1.0512e-01,  5.2722e-01,  ..., -2.5212e-01,\n",
      "            4.2748e-01,  3.7544e-02],\n",
      "          ...,\n",
      "          [ 1.4016e-01,  4.8422e-01, -6.5432e-01,  ..., -4.2000e-01,\n",
      "            2.0220e-01, -2.7476e-01],\n",
      "          [-4.7424e-01, -4.2927e-01,  5.0125e-01,  ..., -4.9050e-01,\n",
      "           -3.0656e-01, -2.0121e-02],\n",
      "          [-5.8718e-01, -4.1314e-01,  6.5360e-01,  ...,  2.0953e-01,\n",
      "           -4.7531e-01, -5.7148e-01]],\n",
      "\n",
      "         [[-8.2484e-02,  5.0713e-01, -3.1825e-01,  ...,  7.0686e-01,\n",
      "            2.3579e-01,  6.6676e-02],\n",
      "          [ 3.5683e-01,  1.3524e-01,  2.9249e-01,  ..., -6.3784e-02,\n",
      "           -3.3053e-01,  5.5711e-01],\n",
      "          [ 3.9785e-01, -4.7434e-01, -6.0780e-01,  ...,  7.8946e-02,\n",
      "           -4.8121e-01,  1.2357e+00],\n",
      "          ...,\n",
      "          [ 2.6548e-01, -1.5160e-01,  4.0628e-01,  ...,  2.4322e-01,\n",
      "           -8.2791e-02, -5.9085e-01],\n",
      "          [-5.8892e-01,  1.1853e-02, -3.6512e-02,  ...,  2.9918e-01,\n",
      "            2.0618e-02,  2.4189e-01],\n",
      "          [-2.0387e-01, -4.5081e-01,  5.0674e-01,  ..., -8.0664e-02,\n",
      "            2.3439e-03, -2.3617e-01]],\n",
      "\n",
      "         ...,\n",
      "\n",
      "         [[ 2.6977e-01, -4.2970e-01,  1.4247e-01,  ..., -2.6862e-01,\n",
      "            7.9625e-01,  4.6352e-01],\n",
      "          [-3.8948e-01, -6.6168e-02, -5.9841e-02,  ..., -7.2402e-01,\n",
      "           -1.2191e-01,  4.3230e-01],\n",
      "          [ 3.5321e-01,  5.2283e-01,  8.6108e-02,  ..., -4.3686e-01,\n",
      "           -7.3202e-01, -1.1947e-01],\n",
      "          ...,\n",
      "          [-5.3563e-01,  1.2763e-01,  5.0800e-02,  ..., -1.5624e-02,\n",
      "           -1.8285e-01, -4.2204e-01],\n",
      "          [ 5.2905e-03, -4.9699e-01,  5.4500e-01,  ...,  1.4908e-01,\n",
      "           -4.0017e-01,  2.1289e-01],\n",
      "          [ 2.2456e-01,  2.0058e-01, -2.9499e-01,  ...,  3.6187e-01,\n",
      "            8.7823e-01, -1.1036e-01]],\n",
      "\n",
      "         [[-4.9904e-01, -1.7562e-01,  7.5602e-01,  ..., -3.9343e-01,\n",
      "            6.1630e-01, -2.6009e-01],\n",
      "          [ 6.7337e-01, -1.7500e-01, -9.5532e-02,  ...,  2.1107e-01,\n",
      "            4.2072e-01,  3.0276e-02],\n",
      "          [-1.6080e-01, -7.1405e-01,  7.4354e-01,  ...,  1.7224e-01,\n",
      "            3.2150e-01,  3.2188e-01],\n",
      "          ...,\n",
      "          [-1.7062e-01, -1.0530e+00,  1.2273e-01,  ...,  6.7620e-02,\n",
      "            1.4806e-01,  6.6802e-01],\n",
      "          [ 7.8892e-01, -1.4994e-03,  4.5856e-01,  ..., -2.4364e-01,\n",
      "            9.6295e-02,  4.9636e-01],\n",
      "          [-4.5445e-01, -3.5664e-02,  8.4639e-01,  ...,  1.4479e-02,\n",
      "            7.3232e-02,  2.8244e-01]],\n",
      "\n",
      "         [[ 3.2126e-01,  3.0862e-01, -3.1597e-01,  ..., -2.4430e-01,\n",
      "            3.6062e-01,  1.5021e-01],\n",
      "          [-1.9071e-01,  6.1881e-02,  6.9585e-01,  ...,  1.4009e-02,\n",
      "            7.1981e-01,  6.8157e-02],\n",
      "          [ 2.3740e-01,  4.6294e-01, -2.1147e-01,  ..., -1.2526e-02,\n",
      "           -1.3048e-01, -4.2517e-01],\n",
      "          ...,\n",
      "          [-4.7151e-02, -3.6547e-01, -1.0503e-01,  ..., -1.3735e+00,\n",
      "            7.0084e-02, -7.1615e-01],\n",
      "          [-2.3161e-01,  1.0378e+00,  5.7707e-01,  ...,  3.9310e-01,\n",
      "           -7.9921e-02, -1.3916e-01],\n",
      "          [-8.3425e-02, -5.2158e-01,  1.8840e-01,  ..., -1.0035e-01,\n",
      "            4.1079e-01,  9.1862e-03]]],\n",
      "\n",
      "\n",
      "        [[[-4.4380e-01, -2.9186e-01,  3.8432e-01,  ...,  9.1784e-02,\n",
      "           -5.7293e-01, -6.0816e-01],\n",
      "          [-2.7827e-01,  4.7125e-01, -1.8120e-02,  ..., -8.9101e-03,\n",
      "           -7.3501e-02,  4.0218e-02],\n",
      "          [-3.7737e-02,  1.8206e-01, -1.6280e-01,  ...,  1.9896e-01,\n",
      "           -9.9957e-02, -9.7489e-03],\n",
      "          ...,\n",
      "          [ 3.9005e-02,  4.4349e-01, -7.3911e-01,  ...,  5.4270e-01,\n",
      "           -7.2097e-01, -1.3224e-01],\n",
      "          [-2.9567e-01, -2.2639e-01, -5.5514e-01,  ..., -2.7825e-01,\n",
      "            6.5435e-03,  1.2270e-01],\n",
      "          [-3.3919e-01,  4.3564e-01, -3.9389e-01,  ..., -2.0458e-01,\n",
      "            3.1773e-01, -7.7769e-02]],\n",
      "\n",
      "         [[-1.0705e-01,  2.9505e-01, -1.2912e-01,  ..., -6.1867e-03,\n",
      "            1.4586e-01, -5.3890e-03],\n",
      "          [-5.1176e-01, -2.6726e-01, -4.5911e-01,  ..., -3.8772e-01,\n",
      "           -2.4833e-01,  2.7567e-01],\n",
      "          [ 2.7239e-01, -5.2379e-01,  4.7406e-01,  ...,  1.3350e+00,\n",
      "            1.0300e+00,  7.1464e-01],\n",
      "          ...,\n",
      "          [-1.0678e-01,  1.9978e-01, -3.2088e-01,  ...,  2.6772e-03,\n",
      "           -8.0975e-01,  7.7747e-02],\n",
      "          [-5.0274e-01, -5.0183e-02, -9.7140e-01,  ...,  5.8272e-01,\n",
      "            3.5359e-01, -2.8168e-01],\n",
      "          [-5.2808e-01,  2.6779e-02,  3.0421e-01,  ..., -4.0336e-02,\n",
      "            1.2701e-01, -9.1140e-01]],\n",
      "\n",
      "         [[ 1.2104e-01,  8.7538e-02, -1.1164e-01,  ..., -7.4948e-01,\n",
      "            5.0937e-01, -3.0790e-01],\n",
      "          [-2.3571e-01,  3.9890e-01, -4.5716e-01,  ..., -8.8887e-02,\n",
      "           -3.4797e-01, -6.6124e-02],\n",
      "          [-5.4835e-01,  9.2562e-01,  2.3523e-01,  ...,  1.8904e-02,\n",
      "           -4.0859e-01,  8.7377e-02],\n",
      "          ...,\n",
      "          [ 8.6426e-01,  5.3366e-01,  8.4537e-01,  ...,  1.0692e-02,\n",
      "            5.7184e-01, -2.5415e-01],\n",
      "          [ 1.3348e-01,  2.7508e-01, -6.5400e-02,  ..., -3.7243e-01,\n",
      "           -3.5582e-01, -4.5835e-01],\n",
      "          [ 7.6922e-02, -1.4763e-01, -6.0443e-01,  ..., -1.4093e-01,\n",
      "           -1.7254e-01, -1.1598e-01]],\n",
      "\n",
      "         ...,\n",
      "\n",
      "         [[-7.0617e-02,  2.5487e-01,  2.9150e-01,  ..., -4.8432e-01,\n",
      "           -2.4809e-01,  1.4871e-01],\n",
      "          [ 1.7247e-01, -4.6017e-01, -3.6831e-01,  ..., -4.5784e-01,\n",
      "            7.7140e-02, -5.3974e-01],\n",
      "          [-6.4976e-02, -1.2279e-01, -9.2831e-01,  ..., -1.7798e-01,\n",
      "           -3.0724e-01, -2.7986e-01],\n",
      "          ...,\n",
      "          [ 3.9168e-01,  3.4792e-01, -2.5769e-01,  ...,  4.5981e-01,\n",
      "           -5.7987e-02,  4.2431e-01],\n",
      "          [-1.5481e-01,  3.7160e-01,  6.2983e-01,  ..., -1.8801e-01,\n",
      "           -3.9311e-01, -1.1551e-01],\n",
      "          [-2.9615e-01,  2.6548e-01,  1.7888e-01,  ..., -1.0631e+00,\n",
      "           -1.0004e+00,  9.2917e-02]],\n",
      "\n",
      "         [[ 9.5526e-02,  7.4112e-02, -2.3397e-01,  ..., -5.0904e-02,\n",
      "            4.0798e-01,  8.4855e-02],\n",
      "          [-9.9400e-01,  8.4028e-02, -3.0797e-01,  ..., -2.6165e-01,\n",
      "            9.6306e-02,  4.5981e-01],\n",
      "          [ 9.6041e-01, -1.8965e-01,  4.5087e-01,  ...,  7.4642e-01,\n",
      "            3.0621e-01, -1.6846e-01],\n",
      "          ...,\n",
      "          [-3.8674e-01,  7.0807e-01,  5.7919e-01,  ..., -3.9290e-01,\n",
      "           -2.2731e-01, -5.1955e-01],\n",
      "          [ 3.5645e-01,  5.0253e-01, -7.3049e-01,  ...,  6.9076e-01,\n",
      "            4.7597e-01,  4.7930e-01],\n",
      "          [ 1.6773e-01,  3.5502e-01, -5.1804e-02,  ...,  3.0388e-01,\n",
      "            1.6430e-01,  1.0028e-01]],\n",
      "\n",
      "         [[ 1.6265e-01,  5.8450e-02, -4.2137e-02,  ..., -2.8578e-01,\n",
      "            2.3443e-01, -3.2127e-01],\n",
      "          [-3.7569e-02, -3.4914e-01,  2.4542e-01,  ..., -1.7145e-01,\n",
      "           -2.5261e-01,  1.6274e-01],\n",
      "          [ 8.7035e-02, -5.0358e-01,  7.6321e-01,  ..., -3.1538e-01,\n",
      "           -8.6483e-01,  9.4195e-01],\n",
      "          ...,\n",
      "          [-4.3770e-01,  5.3993e-02,  6.2277e-01,  ...,  6.8519e-02,\n",
      "            2.3065e-01,  2.5411e-01],\n",
      "          [ 2.6136e-01,  4.9892e-02, -8.2890e-01,  ..., -4.6693e-01,\n",
      "            7.3330e-02, -2.5683e-01],\n",
      "          [ 5.4534e-01,  2.0207e-01,  2.1699e-01,  ..., -8.8445e-02,\n",
      "            9.2500e-02, -4.2605e-01]]],\n",
      "\n",
      "\n",
      "        ...,\n",
      "\n",
      "\n",
      "        [[[-4.4299e-01, -2.1859e-01, -2.9484e-01,  ...,  4.5429e-01,\n",
      "           -3.9333e-01,  8.8664e-02],\n",
      "          [-4.0558e-01,  2.4092e-01, -1.3655e-01,  ...,  7.7146e-01,\n",
      "            5.0127e-02,  3.1891e-01],\n",
      "          [ 2.1164e-01,  4.4488e-01, -8.7510e-01,  ...,  6.6183e-02,\n",
      "            4.1882e-01, -1.4567e-01],\n",
      "          ...,\n",
      "          [-4.8454e-01, -2.1563e-02,  1.7306e-01,  ..., -2.8848e-01,\n",
      "           -1.5954e-01, -1.5251e-01],\n",
      "          [-5.4882e-01, -6.3132e-01,  8.0713e-01,  ..., -1.1262e-03,\n",
      "            3.1804e-01,  1.1029e+00],\n",
      "          [ 4.6610e-01, -3.5785e-01,  5.3498e-01,  ..., -5.1798e-01,\n",
      "            9.1411e-02, -2.1110e-02]],\n",
      "\n",
      "         [[-4.0125e-01,  1.5536e-01,  2.5760e-01,  ..., -1.0245e+00,\n",
      "            6.9093e-01,  1.9650e-01],\n",
      "          [-2.5644e-01,  1.4498e-01, -7.2581e-01,  ...,  1.0834e-01,\n",
      "           -1.0768e-01,  2.2875e-01],\n",
      "          [-5.5687e-01,  3.7419e-02, -1.4603e-01,  ..., -2.2327e-01,\n",
      "           -4.1678e-01,  3.2657e-01],\n",
      "          ...,\n",
      "          [ 1.5403e-01, -4.4464e-01, -1.6942e-01,  ...,  3.5397e-01,\n",
      "            9.5454e-01,  2.1220e-01],\n",
      "          [-8.2996e-01, -4.9565e-01,  6.9494e-01,  ...,  6.2359e-01,\n",
      "            3.4674e-01,  1.0055e-01],\n",
      "          [ 3.4544e-01, -1.7699e-01,  1.7322e-01,  ..., -3.8644e-01,\n",
      "           -6.5279e-02, -8.8458e-01]],\n",
      "\n",
      "         [[-8.6472e-02, -9.4563e-02,  3.2094e-01,  ..., -4.9393e-01,\n",
      "           -2.5211e-02, -1.8221e-01],\n",
      "          [ 4.2560e-01, -2.2286e-01,  1.6604e-01,  ..., -3.7969e-02,\n",
      "           -2.7485e-01, -1.0599e-01],\n",
      "          [-3.2904e-01,  1.8230e-01, -1.0680e+00,  ...,  4.4869e-01,\n",
      "           -7.3413e-01, -7.4947e-01],\n",
      "          ...,\n",
      "          [ 3.9563e-01, -4.0140e-01,  3.8063e-01,  ..., -5.9485e-01,\n",
      "            6.7590e-02,  1.4820e-02],\n",
      "          [-3.3535e-01, -1.3124e-01,  2.2592e-01,  ...,  6.6880e-01,\n",
      "            3.3945e-01, -2.5597e-01],\n",
      "          [ 1.7551e-01,  2.0852e-01, -5.7821e-01,  ..., -2.3796e-01,\n",
      "            4.4913e-01,  6.1337e-01]],\n",
      "\n",
      "         ...,\n",
      "\n",
      "         [[-2.8341e-01, -5.3107e-01,  1.2763e+00,  ..., -9.6460e-02,\n",
      "           -2.7585e-02, -2.4300e-01],\n",
      "          [ 4.7429e-01,  1.3077e-01,  4.8357e-01,  ...,  1.0211e-01,\n",
      "            2.1097e-01,  1.0313e-02],\n",
      "          [-5.5639e-01, -2.5642e-01,  1.1426e+00,  ..., -9.7380e-01,\n",
      "            5.3174e-01,  2.7201e-01],\n",
      "          ...,\n",
      "          [-1.4863e-01,  1.3110e+00, -4.2130e-01,  ...,  2.5198e-01,\n",
      "            1.9988e-01, -3.4601e-02],\n",
      "          [-9.4196e-02,  8.4964e-02,  4.1016e-01,  ...,  5.5097e-01,\n",
      "            3.7700e-01, -3.5420e-01],\n",
      "          [-5.3969e-01,  6.2145e-01,  5.0889e-02,  ..., -2.6712e-01,\n",
      "           -8.3049e-02, -1.3708e-02]],\n",
      "\n",
      "         [[ 1.1039e-01,  4.0035e-01, -2.4869e-01,  ...,  7.3575e-02,\n",
      "            4.4561e-01,  4.1273e-01],\n",
      "          [ 1.4312e-01,  4.9439e-01, -9.6265e-01,  ...,  6.8769e-01,\n",
      "           -5.3754e-01,  1.2568e+00],\n",
      "          [-1.9775e-01,  1.1294e-01,  8.3830e-01,  ..., -2.4291e-01,\n",
      "            2.4713e-01, -2.6747e-01],\n",
      "          ...,\n",
      "          [ 6.3706e-02,  1.1580e+00,  1.0034e+00,  ...,  4.1821e-01,\n",
      "           -1.4938e-01,  9.4744e-01],\n",
      "          [ 1.8813e-01,  2.8180e-01,  2.1273e-01,  ..., -6.6803e-01,\n",
      "            4.1968e-01,  1.7549e-01],\n",
      "          [ 1.2625e-01,  1.4220e-01, -1.2813e-01,  ...,  2.6589e-01,\n",
      "           -2.3029e-01,  3.9236e-01]],\n",
      "\n",
      "         [[ 1.6418e-01, -4.4074e-01,  2.9196e-01,  ...,  1.0620e-01,\n",
      "           -1.7811e-01,  1.7888e-01],\n",
      "          [-4.9751e-01, -7.1569e-01,  4.5428e-01,  ...,  1.0266e-01,\n",
      "            7.7963e-02, -2.1581e-01],\n",
      "          [ 3.6052e-01,  4.8856e-01,  4.5027e-01,  ...,  8.4551e-01,\n",
      "           -4.2982e-02,  2.3292e-01],\n",
      "          ...,\n",
      "          [-2.4292e-01,  5.2447e-01, -4.0999e-01,  ..., -3.0114e-01,\n",
      "           -2.9036e-02, -1.1618e-01],\n",
      "          [ 4.4630e-02, -1.5325e-01,  1.2221e-01,  ..., -6.5439e-01,\n",
      "           -2.9207e-01,  2.8570e-01],\n",
      "          [-1.1876e-01, -1.6648e-01, -4.2195e-01,  ..., -4.7649e-01,\n",
      "            3.2228e-01, -4.9867e-01]]],\n",
      "\n",
      "\n",
      "        [[[ 1.0743e-01, -1.1480e-01, -4.1320e-01,  ..., -2.6592e-01,\n",
      "           -6.3402e-01, -2.6521e-01],\n",
      "          [ 6.1186e-01,  3.8760e-01,  1.1904e-01,  ..., -3.2075e-01,\n",
      "            2.7064e-01,  1.3481e-01],\n",
      "          [-9.1018e-02,  4.8970e-01,  7.8323e-01,  ...,  5.5779e-01,\n",
      "            2.1005e-01,  9.7098e-01],\n",
      "          ...,\n",
      "          [-1.1618e-01, -1.8990e-01,  3.2869e-01,  ..., -1.9784e-01,\n",
      "           -1.1565e+00, -1.9065e-01],\n",
      "          [ 3.4472e-01, -8.8667e-02, -1.0126e-01,  ...,  5.9143e-01,\n",
      "           -5.9497e-01,  3.6226e-01],\n",
      "          [-8.4669e-01,  6.0977e-02, -4.2806e-01,  ...,  8.1933e-01,\n",
      "           -1.5951e-01, -1.8113e-01]],\n",
      "\n",
      "         [[-2.7120e-01, -1.5771e-01, -1.0036e-01,  ...,  4.7951e-02,\n",
      "            1.8468e-01,  2.1293e-01],\n",
      "          [-2.2857e-01, -8.3795e-02, -4.8614e-01,  ...,  6.2199e-02,\n",
      "           -3.6872e-01, -3.5350e-01],\n",
      "          [ 3.2622e-02, -1.4058e-01, -1.7333e-01,  ...,  7.8144e-01,\n",
      "            1.7975e-01,  1.2236e-02],\n",
      "          ...,\n",
      "          [-2.4245e-01, -9.4761e-01, -8.7528e-01,  ..., -9.6401e-02,\n",
      "           -7.0600e-01, -3.2655e-01],\n",
      "          [ 5.4506e-02,  4.0252e-01, -2.4635e-01,  ...,  1.5568e-01,\n",
      "            7.9571e-02,  5.5931e-01],\n",
      "          [-2.1834e-01,  4.4654e-01, -6.6230e-01,  ...,  1.7983e-01,\n",
      "           -1.9457e-01, -2.1084e-01]],\n",
      "\n",
      "         [[-2.8974e-01,  2.1778e-03, -4.2481e-01,  ...,  6.0801e-01,\n",
      "           -3.9548e-01,  4.6130e-01],\n",
      "          [-3.3090e-01,  4.9431e-01,  3.5304e-01,  ..., -1.2126e-01,\n",
      "           -2.3776e-01,  3.9388e-01],\n",
      "          [ 2.7957e-01,  1.1030e+00, -3.1115e-01,  ...,  6.3191e-01,\n",
      "           -5.0434e-01,  2.4514e-01],\n",
      "          ...,\n",
      "          [-5.4235e-01,  2.7015e-01,  8.8812e-03,  ..., -7.9205e-02,\n",
      "            3.7733e-01,  8.6923e-01],\n",
      "          [-5.2433e-01, -3.6582e-01, -3.6679e-01,  ..., -5.8251e-01,\n",
      "           -1.1302e-01, -2.0061e-01],\n",
      "          [-1.3662e-01,  1.8744e-03,  2.0285e-01,  ...,  1.9709e-01,\n",
      "           -8.4799e-02, -5.4190e-02]],\n",
      "\n",
      "         ...,\n",
      "\n",
      "         [[-1.2286e-01, -1.9123e-02,  2.3317e-01,  ..., -2.2602e-01,\n",
      "           -1.5753e-01,  2.3147e-01],\n",
      "          [ 3.7327e-01,  9.6970e-02,  6.8989e-02,  ..., -5.6135e-01,\n",
      "           -3.5798e-01,  2.6986e-01],\n",
      "          [-3.1359e-01, -3.0142e-01, -6.3691e-01,  ..., -3.4384e-01,\n",
      "            2.2168e-01, -5.0344e-01],\n",
      "          ...,\n",
      "          [-4.8991e-01,  1.5472e-01, -4.9358e-01,  ..., -1.8312e-01,\n",
      "           -3.1657e-01,  3.7851e-01],\n",
      "          [ 9.8202e-03, -9.8274e-02,  9.4940e-01,  ...,  2.3231e-01,\n",
      "           -2.2591e-02, -1.9899e-01],\n",
      "          [ 7.6443e-01,  4.7731e-01, -6.4015e-01,  ...,  2.1049e-01,\n",
      "            5.0714e-01,  1.0238e-01]],\n",
      "\n",
      "         [[ 1.5522e-01, -8.2825e-01, -3.0648e-01,  ..., -4.5469e-01,\n",
      "           -1.2472e-01, -1.7238e-01],\n",
      "          [-4.9558e-01,  7.6548e-02,  4.3335e-03,  ...,  1.4755e-01,\n",
      "           -1.1568e+00, -7.6010e-01],\n",
      "          [-1.7717e-01, -2.8765e-01, -9.2346e-02,  ..., -1.3634e-01,\n",
      "            4.6891e-01,  1.2831e-01],\n",
      "          ...,\n",
      "          [-4.9520e-03,  4.9579e-03, -1.5497e+00,  ...,  4.3902e-01,\n",
      "           -2.2687e-02, -6.4177e-01],\n",
      "          [-4.1146e-01, -4.7509e-01,  4.3796e-01,  ...,  4.2026e-02,\n",
      "           -1.4373e-01, -1.2056e-01],\n",
      "          [-5.2686e-01,  1.2507e-02, -8.4408e-02,  ..., -1.5531e-01,\n",
      "            4.2211e-01, -5.2101e-02]],\n",
      "\n",
      "         [[ 3.9941e-01,  2.3459e-01, -2.8265e-01,  ..., -2.8403e-01,\n",
      "           -3.8002e-01,  5.6392e-02],\n",
      "          [ 2.6497e-02, -7.4554e-01,  3.7134e-01,  ...,  2.0859e-01,\n",
      "            9.3062e-01, -9.5766e-02],\n",
      "          [ 1.5640e-01, -2.2850e-01,  1.7409e-02,  ..., -2.2675e-02,\n",
      "           -6.0977e-01,  3.1324e-02],\n",
      "          ...,\n",
      "          [ 5.5022e-02, -2.6800e-01, -1.6699e-01,  ...,  9.2546e-02,\n",
      "            3.8063e-01,  3.6940e-01],\n",
      "          [ 1.3996e-01, -4.1779e-01, -1.2907e-01,  ..., -5.5970e-01,\n",
      "            5.0204e-01, -1.8136e-01],\n",
      "          [-1.8803e-01, -6.0970e-01, -2.1059e-01,  ...,  3.0529e-01,\n",
      "            4.0097e-01,  2.4313e-01]]],\n",
      "\n",
      "\n",
      "        [[[-2.5894e-01, -5.2359e-01, -2.8052e-01,  ..., -4.6556e-01,\n",
      "           -1.0185e-01,  2.5332e-01],\n",
      "          [-5.1325e-02, -7.4426e-02, -5.6720e-01,  ...,  2.9784e-01,\n",
      "            3.0559e-01, -7.4130e-01],\n",
      "          [-5.3983e-01, -2.3991e-01, -5.9946e-02,  ...,  4.5645e-01,\n",
      "           -9.3405e-01, -1.8757e-01],\n",
      "          ...,\n",
      "          [-8.1895e-02, -7.5053e-01,  8.2338e-01,  ...,  3.8483e-01,\n",
      "           -4.8066e-01,  3.4733e-01],\n",
      "          [ 1.4346e-01,  1.3970e-01, -3.6598e-01,  ...,  4.6978e-01,\n",
      "           -4.6521e-01,  2.7295e-01],\n",
      "          [ 2.4442e-02,  2.7900e-01, -2.5440e-01,  ..., -3.9652e-01,\n",
      "           -3.8228e-01, -2.0705e-01]],\n",
      "\n",
      "         [[ 2.9692e-01,  1.6353e-01, -1.1086e-01,  ...,  2.1819e-02,\n",
      "            2.0084e-01,  4.5257e-01],\n",
      "          [-4.3708e-01,  9.8631e-02, -5.6991e-01,  ...,  1.1136e-01,\n",
      "           -1.1274e-01,  2.5777e-02],\n",
      "          [-4.3017e-01, -3.2700e-01,  4.7449e-01,  ..., -1.4712e+00,\n",
      "           -6.8710e-01,  8.9342e-02],\n",
      "          ...,\n",
      "          [-4.2666e-01,  5.9724e-01,  4.6490e-01,  ..., -3.5156e-01,\n",
      "            2.8715e-02,  7.7851e-01],\n",
      "          [ 1.6031e-01,  6.5288e-02,  2.0672e-02,  ...,  3.2389e-01,\n",
      "           -3.8279e-01, -3.7212e-02],\n",
      "          [-1.3840e-01,  1.5462e-01,  2.0083e-01,  ..., -8.8563e-01,\n",
      "           -8.9421e-01,  2.3730e-01]],\n",
      "\n",
      "         [[-1.2817e-01, -3.1091e-01,  1.2544e-01,  ...,  2.9665e-01,\n",
      "           -1.5251e-01,  4.0652e-01],\n",
      "          [-3.1476e-01,  3.1883e-02, -6.5082e-01,  ..., -6.2994e-02,\n",
      "           -1.6823e-01, -3.4686e-01],\n",
      "          [-4.1563e-01, -6.2263e-01, -3.0444e-01,  ...,  2.6298e-01,\n",
      "            1.4497e-01,  6.8976e-01],\n",
      "          ...,\n",
      "          [ 9.1645e-01,  5.9679e-02, -2.7025e-01,  ..., -5.7467e-01,\n",
      "           -4.1051e-01, -3.4242e-05],\n",
      "          [-2.4774e-01, -4.9945e-01,  4.8696e-02,  ...,  1.0791e-01,\n",
      "            7.9120e-02,  3.8422e-01],\n",
      "          [ 1.9667e-01, -2.3985e-01, -5.8537e-01,  ...,  6.9496e-01,\n",
      "            2.3089e-01,  6.5328e-01]],\n",
      "\n",
      "         ...,\n",
      "\n",
      "         [[-2.4271e-02, -3.6812e-01,  5.9789e-01,  ...,  2.2869e-01,\n",
      "            1.2750e-01,  1.3340e-01],\n",
      "          [ 7.0110e-01, -8.3451e-01,  7.4114e-01,  ...,  1.1876e+00,\n",
      "           -3.5025e-01,  7.2682e-02],\n",
      "          [-9.4796e-02,  8.8771e-02,  6.0168e-01,  ..., -4.8473e-01,\n",
      "           -9.6469e-02,  7.1230e-01],\n",
      "          ...,\n",
      "          [-1.4653e-01,  7.5014e-01,  2.1467e-01,  ..., -1.8799e-01,\n",
      "           -8.9770e-01, -5.4487e-01],\n",
      "          [ 1.4546e-01, -3.2248e-01, -4.6359e-02,  ..., -8.1146e-01,\n",
      "           -9.8710e-01, -7.7081e-01],\n",
      "          [-9.6379e-02, -2.0804e-01, -8.6526e-01,  ...,  5.7032e-01,\n",
      "            4.1161e-01, -3.7502e-01]],\n",
      "\n",
      "         [[ 4.0153e-01,  4.0746e-01,  4.5670e-01,  ...,  5.3686e-01,\n",
      "            1.9673e-01, -8.0229e-01],\n",
      "          [-4.4765e-01,  8.6486e-02,  3.2981e-01,  ...,  5.8783e-01,\n",
      "           -3.9316e-01,  6.9379e-01],\n",
      "          [ 2.6121e-01, -5.6656e-01,  3.5689e-01,  ...,  5.2785e-01,\n",
      "           -5.9339e-01,  5.3874e-01],\n",
      "          ...,\n",
      "          [-5.4260e-02, -1.8914e-01, -1.3455e+00,  ..., -1.3562e-01,\n",
      "            4.3836e-01,  1.8802e-01],\n",
      "          [-2.1757e-01,  3.7461e-01,  1.1062e-01,  ...,  3.5272e-01,\n",
      "            4.8477e-01,  5.2213e-01],\n",
      "          [-2.9569e-01,  6.6872e-01,  3.7209e-01,  ..., -8.7649e-01,\n",
      "            1.9032e-01,  1.4596e-01]],\n",
      "\n",
      "         [[ 3.3567e-01,  2.4219e-01,  1.6627e-01,  ..., -1.6667e-01,\n",
      "            1.0955e-01,  2.4011e-01],\n",
      "          [-7.7280e-02, -3.1058e-01,  4.7081e-01,  ..., -5.5042e-01,\n",
      "           -4.9143e-01,  5.1840e-01],\n",
      "          [-7.1987e-01,  8.4378e-01,  1.1113e-02,  ..., -2.2913e-01,\n",
      "           -3.0401e-01,  2.2029e-01],\n",
      "          ...,\n",
      "          [ 5.9478e-01,  1.6242e-01, -5.7461e-02,  ...,  4.2651e-01,\n",
      "            1.2920e-01,  2.7221e-01],\n",
      "          [ 1.8013e-01,  2.0467e-02,  8.9514e-01,  ...,  4.1520e-02,\n",
      "           -1.9004e-01, -6.3702e-02],\n",
      "          [-3.0537e-01,  3.5275e-01, -4.4327e-01,  ..., -2.5149e-01,\n",
      "            5.7307e-02, -4.1339e-02]]]], grad_fn=<MkldnnConvolutionBackward>)\n"
     ]
    }
   ],
   "source": [
    "print(input)\n",
    "print(output)"
   ]
  },
  {
   "cell_type": "code",
   "execution_count": 8,
   "id": "689e3c6b",
   "metadata": {},
   "outputs": [
    {
     "name": "stdout",
     "output_type": "stream",
     "text": [
      "torch.Size([20, 16, 50, 100])\n",
      "torch.Size([20, 33, 26, 100])\n"
     ]
    }
   ],
   "source": [
    "print(input.shape)\n",
    "print(output.shape)"
   ]
  },
  {
   "cell_type": "markdown",
   "id": "ea719d53",
   "metadata": {},
   "source": [
    "### nn.functional 패키지\n",
    "\n",
    "- 가중치를 직접 선언하여 인자로 넣어줘야함\n",
    "\n",
    "- 예시)\n",
    "  - Convolution functions\n",
    "\n",
    "  - Pooling functions\n",
    "  \n",
    "  - Non-linear activation functions\n",
    "\n",
    "  - Normalization functions\n",
    "\n",
    "  - Linear functions\n",
    "\n",
    "  - Dropout functions\n",
    "  \n",
    "  - Sparse functions\n",
    "  \n",
    "  - Distance functions\n",
    "\n",
    "  - Loss functions\n",
    "  - ..\n",
    "\n",
    "- https://pytorch.org/docs/stable/nn.functional.html"
   ]
  },
  {
   "cell_type": "code",
   "execution_count": 10,
   "id": "78f938b1",
   "metadata": {},
   "outputs": [],
   "source": [
    "import torch\n",
    "import torch.nn.functional as F"
   ]
  },
  {
   "cell_type": "markdown",
   "id": "94f11a1f",
   "metadata": {},
   "source": [
    "- Convolution Layer 예시 (2)"
   ]
  },
  {
   "cell_type": "code",
   "execution_count": 11,
   "id": "e751270b",
   "metadata": {},
   "outputs": [],
   "source": [
    "filters = torch.randn(8, 4, 3, 3)"
   ]
  },
  {
   "cell_type": "code",
   "execution_count": 12,
   "id": "de551bdc",
   "metadata": {},
   "outputs": [
    {
     "data": {
      "text/plain": [
       "torch.Size([1, 8, 5, 5])"
      ]
     },
     "execution_count": 12,
     "metadata": {},
     "output_type": "execute_result"
    }
   ],
   "source": [
    "inputs = torch.randn(1, 4, 5, 5)\n",
    "cov = F.conv2d(inputs, filters, padding = 1)\n",
    "cov.shape"
   ]
  },
  {
   "cell_type": "markdown",
   "id": "b0bb256a",
   "metadata": {},
   "source": [
    "## Torchvision\n",
    "\n",
    "- `transforms`: 전처리할 때 사용하는 메소드\n",
    "\n",
    "- `transforms`에서 제공하는 클래스 이외에  \n",
    "  일반적으로 클래스를 따로 만들어 전처리 단계를 진행\n",
    "  \n",
    "  - 아래의 코드에서 다양한 전처리 기술 확인  \n",
    "    https://pytorch.org/docs/stable/torchvision/transforms.html"
   ]
  },
  {
   "cell_type": "code",
   "execution_count": 13,
   "id": "2b7d3bf8",
   "metadata": {},
   "outputs": [],
   "source": [
    "import torch\n",
    "import torchvision\n",
    "import torchvision.transforms as transforms"
   ]
  },
  {
   "cell_type": "markdown",
   "id": "2cd3e8b5",
   "metadata": {},
   "source": [
    "- 예시)\n",
    "  - `DataLoader`의 인자로 들어갈 `transform`을 미리 정의할 수 있음\n",
    "\n",
    "  - `Compose`를 통해 리스트 안에 순서대로 전처리 진행\n",
    "\n",
    "  - 대표적인 예로, `ToTensor`()를 하는 이유는  \n",
    "   <u>torchvision이 PIL Image형태로만 입력을 받기 때문에</u> 데이터 처리를 위해서 Tensor형으로 변환해야함"
   ]
  },
  {
   "cell_type": "code",
   "execution_count": 14,
   "id": "282115cd",
   "metadata": {},
   "outputs": [],
   "source": [
    "transform = transforms.Compose([\n",
    "    transforms.ToTensor(),\n",
    "    transforms.Normalize(mean = (0.5,), std=(0.5,))\n",
    "])"
   ]
  },
  {
   "cell_type": "markdown",
   "id": "c7a7f373",
   "metadata": {},
   "source": [
    "## utils.data\n",
    "\n",
    "- `Dataset`에는 다양한 데이터셋이 존재  \n",
    "  - MNIST, CIFAR10, ...\n",
    "\n",
    "- `DataLoader`, `Dataset`을 통해  \n",
    "  `batch_size`, `train`여부, `transform`등을 인자로 넣어 데이터를 어떻게 load할 것인지 정해줄 수 있음"
   ]
  },
  {
   "cell_type": "code",
   "execution_count": 15,
   "id": "b62957a1",
   "metadata": {},
   "outputs": [],
   "source": [
    "import torch\n",
    "from torch.utils.data import DataLoader, Dataset\n",
    "import torchvision\n",
    "import torchvision.transforms as transforms"
   ]
  },
  {
   "cell_type": "code",
   "execution_count": 16,
   "id": "82e9c22b",
   "metadata": {},
   "outputs": [
    {
     "name": "stdout",
     "output_type": "stream",
     "text": [
      "Downloading http://yann.lecun.com/exdb/mnist/train-images-idx3-ubyte.gz\n",
      "Downloading http://yann.lecun.com/exdb/mnist/train-images-idx3-ubyte.gz to ./data/MNIST/raw/train-images-idx3-ubyte.gz\n"
     ]
    },
    {
     "data": {
      "application/vnd.jupyter.widget-view+json": {
       "model_id": "825c642f47cd41a18fef4d9719f66935",
       "version_major": 2,
       "version_minor": 0
      },
      "text/plain": [
       "  0%|          | 0/9912422 [00:00<?, ?it/s]"
      ]
     },
     "metadata": {},
     "output_type": "display_data"
    },
    {
     "name": "stdout",
     "output_type": "stream",
     "text": [
      "Extracting ./data/MNIST/raw/train-images-idx3-ubyte.gz to ./data/MNIST/raw\n",
      "\n",
      "Downloading http://yann.lecun.com/exdb/mnist/train-labels-idx1-ubyte.gz\n",
      "Downloading http://yann.lecun.com/exdb/mnist/train-labels-idx1-ubyte.gz to ./data/MNIST/raw/train-labels-idx1-ubyte.gz\n"
     ]
    },
    {
     "data": {
      "application/vnd.jupyter.widget-view+json": {
       "model_id": "b9d99cec83354315b8061f1e7943000e",
       "version_major": 2,
       "version_minor": 0
      },
      "text/plain": [
       "  0%|          | 0/28881 [00:00<?, ?it/s]"
      ]
     },
     "metadata": {},
     "output_type": "display_data"
    },
    {
     "name": "stdout",
     "output_type": "stream",
     "text": [
      "Extracting ./data/MNIST/raw/train-labels-idx1-ubyte.gz to ./data/MNIST/raw\n",
      "\n",
      "Downloading http://yann.lecun.com/exdb/mnist/t10k-images-idx3-ubyte.gz\n",
      "Downloading http://yann.lecun.com/exdb/mnist/t10k-images-idx3-ubyte.gz to ./data/MNIST/raw/t10k-images-idx3-ubyte.gz\n"
     ]
    },
    {
     "data": {
      "application/vnd.jupyter.widget-view+json": {
       "model_id": "6bc920a3a9414ade8e1f5da5edd3898a",
       "version_major": 2,
       "version_minor": 0
      },
      "text/plain": [
       "  0%|          | 0/1648877 [00:00<?, ?it/s]"
      ]
     },
     "metadata": {},
     "output_type": "display_data"
    },
    {
     "name": "stdout",
     "output_type": "stream",
     "text": [
      "Extracting ./data/MNIST/raw/t10k-images-idx3-ubyte.gz to ./data/MNIST/raw\n",
      "\n",
      "Downloading http://yann.lecun.com/exdb/mnist/t10k-labels-idx1-ubyte.gz\n",
      "Downloading http://yann.lecun.com/exdb/mnist/t10k-labels-idx1-ubyte.gz to ./data/MNIST/raw/t10k-labels-idx1-ubyte.gz\n"
     ]
    },
    {
     "data": {
      "application/vnd.jupyter.widget-view+json": {
       "model_id": "4b0ae6f02b664f23bb8a92feaed96178",
       "version_major": 2,
       "version_minor": 0
      },
      "text/plain": [
       "  0%|          | 0/4542 [00:00<?, ?it/s]"
      ]
     },
     "metadata": {},
     "output_type": "display_data"
    },
    {
     "name": "stdout",
     "output_type": "stream",
     "text": [
      "Extracting ./data/MNIST/raw/t10k-labels-idx1-ubyte.gz to ./data/MNIST/raw\n",
      "\n"
     ]
    },
    {
     "name": "stderr",
     "output_type": "stream",
     "text": [
      "/home/bgw2001/anaconda3/envs/py3.8/lib/python3.8/site-packages/torchvision/datasets/mnist.py:498: UserWarning: The given NumPy array is not writeable, and PyTorch does not support non-writeable tensors. This means you can write to the underlying (supposedly non-writeable) NumPy array using the tensor. You may want to copy the array to protect its data or make it writeable before converting it to a tensor. This type of warning will be suppressed for the rest of this program. (Triggered internally at  /pytorch/torch/csrc/utils/tensor_numpy.cpp:180.)\n",
      "  return torch.from_numpy(parsed.astype(m[2], copy=False)).view(*s)\n"
     ]
    }
   ],
   "source": [
    "trainset = torchvision.datasets.MNIST(root = \"./data\",\n",
    "                                     train = True,\n",
    "                                     download = True,\n",
    "                                     transform = transform)\n",
    "\n",
    "testset = torchvision.datasets.MNIST(root = \"./data\",\n",
    "                                     train = False,\n",
    "                                     download = True,\n",
    "                                     transform = transform)"
   ]
  },
  {
   "cell_type": "code",
   "execution_count": 17,
   "id": "7d6db780",
   "metadata": {},
   "outputs": [],
   "source": [
    "train_loader = DataLoader(trainset, batch_size = 8, shuffle = True, num_workers = 2)\n",
    "test_loader = DataLoader(testset, batch_size = 8, shuffle = False, num_workers = 2)"
   ]
  },
  {
   "cell_type": "markdown",
   "id": "f75d2d85",
   "metadata": {},
   "source": [
    "- batch_size 만큼 데이터를 하나씩 가져옴"
   ]
  },
  {
   "cell_type": "code",
   "execution_count": 22,
   "id": "b96fc88e",
   "metadata": {},
   "outputs": [
    {
     "data": {
      "text/plain": [
       "(torch.Size([8, 1, 28, 28]), torch.Size([8]))"
      ]
     },
     "execution_count": 22,
     "metadata": {},
     "output_type": "execute_result"
    }
   ],
   "source": [
    "dataiter = iter(train_loader)\n",
    "images, labels = dataiter.next()\n",
    "images.shape, labels.shape"
   ]
  },
  {
   "cell_type": "markdown",
   "id": "a74bb828",
   "metadata": {},
   "source": [
    "- 8 -> 배치 사이즈\n",
    "- 1 -> channel\n",
    "- 28 -> width\n",
    "- 28 -> height"
   ]
  },
  {
   "cell_type": "markdown",
   "id": "cdcdc80a",
   "metadata": {},
   "source": [
    "<u>**(중요) torch에서는 channel(채널)이 앞에 옴**</u>\n",
    "\n",
    "- `channel first`\n",
    "\n",
    "- tensorflow, keras 등에서는 channel이 뒤에 옴(`channel last`)"
   ]
  },
  {
   "cell_type": "markdown",
   "id": "3fc43a7e",
   "metadata": {},
   "source": [
    "## 데이터 확인"
   ]
  },
  {
   "cell_type": "code",
   "execution_count": 23,
   "id": "31199446",
   "metadata": {},
   "outputs": [],
   "source": [
    "import matplotlib.pyplot as plt\n",
    "\n",
    "plt.style.use('seaborn-white')\n"
   ]
  },
  {
   "cell_type": "code",
   "execution_count": 25,
   "id": "8f403137",
   "metadata": {},
   "outputs": [
    {
     "name": "stdout",
     "output_type": "stream",
     "text": [
      "torch.Size([1, 28, 28])\n"
     ]
    },
    {
     "data": {
      "text/plain": [
       "torch.Size([28, 28])"
      ]
     },
     "execution_count": 25,
     "metadata": {},
     "output_type": "execute_result"
    }
   ],
   "source": [
    "print(images[0].shape)\n",
    "torch_image = torch.squeeze(images[0])\n",
    "torch_image.shape"
   ]
  },
  {
   "cell_type": "code",
   "execution_count": 26,
   "id": "07d45b5c",
   "metadata": {},
   "outputs": [
    {
     "data": {
      "text/plain": [
       "(28, 28)"
      ]
     },
     "execution_count": 26,
     "metadata": {},
     "output_type": "execute_result"
    }
   ],
   "source": [
    "image = torch_image.numpy()\n",
    "image.shape"
   ]
  },
  {
   "cell_type": "code",
   "execution_count": 28,
   "id": "76600cdb",
   "metadata": {},
   "outputs": [
    {
     "data": {
      "text/plain": [
       "array(5)"
      ]
     },
     "execution_count": 28,
     "metadata": {},
     "output_type": "execute_result"
    }
   ],
   "source": [
    "label = labels[0].numpy()\n",
    "label"
   ]
  },
  {
   "cell_type": "code",
   "execution_count": 29,
   "id": "67533900",
   "metadata": {},
   "outputs": [
    {
     "data": {
      "image/png": "[encoded data removed]",
      "text/plain": [
       "<Figure size 432x288 with 1 Axes>"
      ]
     },
     "metadata": {},
     "output_type": "display_data"
    }
   ],
   "source": [
    "plt.title(label)\n",
    "plt.imshow(image, cmap = 'gray')\n",
    "plt.show()"
   ]
  },
  {
   "cell_type": "markdown",
   "id": "e3e633f0",
   "metadata": {},
   "source": [
    "### 각 Layer 설명"
   ]
  },
  {
   "cell_type": "code",
   "execution_count": 30,
   "id": "64916d49",
   "metadata": {},
   "outputs": [],
   "source": [
    "import torch\n",
    "import torch.nn as nn\n",
    "import torch.nn.functional as F\n",
    "import torch.optim as optim"
   ]
  },
  {
   "cell_type": "markdown",
   "id": "e5c88532",
   "metadata": {},
   "source": [
    "### nn.Conv2d\n",
    "- in_channels: channel의 갯수\n",
    "- out_channels: 출력 채널의 갯수\n",
    "- kernel_size: 커널(필터) 사이즈\n",
    "- 텐서플로우, 케라스와 다르게 레이어의 input인자에도 값을 집어 넣어줘야함"
   ]
  },
  {
   "cell_type": "code",
   "execution_count": 31,
   "id": "0e49624e",
   "metadata": {},
   "outputs": [
    {
     "data": {
      "text/plain": [
       "Conv2d(1, 20, kernel_size=(5, 5), stride=(1, 1))"
      ]
     },
     "execution_count": 31,
     "metadata": {},
     "output_type": "execute_result"
    }
   ],
   "source": [
    "nn.Conv2d(in_channels=1, out_channels=20, kernel_size = 5, stride = 1)"
   ]
  },
  {
   "cell_type": "code",
   "execution_count": 32,
   "id": "f4d2da44",
   "metadata": {},
   "outputs": [
    {
     "data": {
      "text/plain": [
       "Conv2d(1, 20, kernel_size=(5, 5), stride=(1, 1))"
      ]
     },
     "execution_count": 32,
     "metadata": {},
     "output_type": "execute_result"
    }
   ],
   "source": [
    "layer = nn.Conv2d(1, 20, 5, 1).to(torch.device('cpu'))\n",
    "layer"
   ]
  },
  {
   "cell_type": "markdown",
   "id": "7cc2b9c5",
   "metadata": {},
   "source": [
    "- weight 값 확인"
   ]
  },
  {
   "cell_type": "code",
   "execution_count": 33,
   "id": "34875e33",
   "metadata": {},
   "outputs": [
    {
     "data": {
      "text/plain": [
       "torch.Size([20, 1, 5, 5])"
      ]
     },
     "execution_count": 33,
     "metadata": {},
     "output_type": "execute_result"
    }
   ],
   "source": [
    "weight = layer.weight\n",
    "weight.shape"
   ]
  },
  {
   "cell_type": "markdown",
   "id": "d5edc453",
   "metadata": {},
   "source": [
    "- `weight`는 `detach()`를 통해 꺼내줘야 `numpy()`변환이 가능"
   ]
  },
  {
   "cell_type": "code",
   "execution_count": 34,
   "id": "ac1866c1",
   "metadata": {},
   "outputs": [
    {
     "data": {
      "text/plain": [
       "(20, 1, 5, 5)"
      ]
     },
     "execution_count": 34,
     "metadata": {},
     "output_type": "execute_result"
    }
   ],
   "source": [
    "weight = weight.detach().numpy()\n",
    "weight.shape"
   ]
  },
  {
   "cell_type": "code",
   "execution_count": 37,
   "id": "15f54a25",
   "metadata": {},
   "outputs": [
    {
     "data": {
      "image/png": "[encoded data removed]",
      "text/plain": [
       "<Figure size 432x288 with 2 Axes>"
      ]
     },
     "metadata": {},
     "output_type": "display_data"
    }
   ],
   "source": [
    "plt.imshow(weight[0,0,:,:], 'jet')\n",
    "plt.colorbar()\n",
    "plt.show()"
   ]
  },
  {
   "cell_type": "code",
   "execution_count": 38,
   "id": "1ae1e544",
   "metadata": {},
   "outputs": [
    {
     "name": "stdout",
     "output_type": "stream",
     "text": [
      "torch.Size([8, 1, 28, 28])\n"
     ]
    }
   ],
   "source": [
    "print(images.shape)"
   ]
  },
  {
   "cell_type": "code",
   "execution_count": 39,
   "id": "a22b8cf4",
   "metadata": {},
   "outputs": [
    {
     "data": {
      "text/plain": [
       "(1, 20, 24, 24)"
      ]
     },
     "execution_count": 39,
     "metadata": {},
     "output_type": "execute_result"
    }
   ],
   "source": [
    "input_image = torch.unsqueeze(images[0], dim = 0)\n",
    "output_data = layer(input_image)\n",
    "\n",
    "output = output_data.data\n",
    "output_arr = output.numpy()\n",
    "output_arr.shape"
   ]
  },
  {
   "cell_type": "code",
   "execution_count": 41,
   "id": "b883802a",
   "metadata": {},
   "outputs": [
    {
     "data": {
      "image/png": "[encoded data removed]",
      "text/plain": [
       "<Figure size 1080x2160 with 3 Axes>"
      ]
     },
     "metadata": {},
     "output_type": "display_data"
    }
   ],
   "source": [
    "plt.figure(figsize = (15, 30))\n",
    "\n",
    "plt.subplot(1,3,1)\n",
    "plt.title(\"input\")\n",
    "plt.imshow(image, 'gray')\n",
    "\n",
    "plt.subplot(1,3,2)\n",
    "plt.title(\"weight\")\n",
    "plt.imshow(weight[0,0,:,:], 'gray')\n",
    "\n",
    "plt.subplot(1,3,3)\n",
    "plt.title(\"output\")\n",
    "plt.imshow(output_arr[0,0,:,:], 'gray')\n",
    "plt.show()"
   ]
  },
  {
   "cell_type": "markdown",
   "id": "09df8956",
   "metadata": {},
   "source": [
    "### Pooling\n",
    "- `F.max_pool2d` \n",
    "  - `stride`\n",
    "\n",
    "  - `kernel_size`\n",
    "\n",
    "- `torch.nn.MaxPool2d` 도 많이 사용"
   ]
  },
  {
   "cell_type": "code",
   "execution_count": 42,
   "id": "7b118ce5",
   "metadata": {},
   "outputs": [
    {
     "data": {
      "text/plain": [
       "(28, 28)"
      ]
     },
     "execution_count": 42,
     "metadata": {},
     "output_type": "execute_result"
    }
   ],
   "source": [
    "image.shape"
   ]
  },
  {
   "cell_type": "code",
   "execution_count": 43,
   "id": "7fceee98",
   "metadata": {},
   "outputs": [
    {
     "name": "stderr",
     "output_type": "stream",
     "text": [
      "/home/bgw2001/anaconda3/envs/py3.8/lib/python3.8/site-packages/torch/nn/functional.py:718: UserWarning: Named tensors and all their associated APIs are an experimental feature and subject to change. Please do not use them for anything important until they are released as stable. (Triggered internally at  /pytorch/c10/core/TensorImpl.h:1156.)\n",
      "  return torch.max_pool2d(input, kernel_size, stride, padding, dilation, ceil_mode)\n"
     ]
    },
    {
     "data": {
      "text/plain": [
       "torch.Size([1, 20, 12, 12])"
      ]
     },
     "execution_count": 43,
     "metadata": {},
     "output_type": "execute_result"
    }
   ],
   "source": [
    "pool = F.max_pool2d(output, 2, 2)\n",
    "pool.shape"
   ]
  },
  {
   "cell_type": "markdown",
   "id": "49e04ae5",
   "metadata": {},
   "source": [
    "- MaxPool Layer는 weight가 없기 때문에 바로 `numpy()`변환 가능"
   ]
  },
  {
   "cell_type": "code",
   "execution_count": 44,
   "id": "fc1b7752",
   "metadata": {},
   "outputs": [
    {
     "data": {
      "text/plain": [
       "(1, 20, 12, 12)"
      ]
     },
     "execution_count": 44,
     "metadata": {},
     "output_type": "execute_result"
    }
   ],
   "source": [
    "pool_arr = pool.numpy()\n",
    "pool_arr.shape"
   ]
  },
  {
   "cell_type": "code",
   "execution_count": 51,
   "id": "75e93300",
   "metadata": {},
   "outputs": [
    {
     "data": {
      "image/png": "[encoded data removed]",
      "text/plain": [
       "<Figure size 720x1080 with 2 Axes>"
      ]
     },
     "metadata": {},
     "output_type": "display_data"
    }
   ],
   "source": [
    "plt.figure(figsize = (10,15))\n",
    "plt.subplot(121)\n",
    "plt.title(\"Input\")\n",
    "plt.imshow(image, 'gray')\n",
    "\n",
    "plt.subplot(122)\n",
    "plt.title(\"output\")\n",
    "plt.imshow(pool_arr[0,0,:,:], 'gray')\n",
    "\n",
    "plt.show()"
   ]
  },
  {
   "cell_type": "markdown",
   "id": "a17060e6",
   "metadata": {},
   "source": [
    "### Linear\n",
    "- 1d만 가능 .view()를 통해 1D로 펴쳐줘야함"
   ]
  },
  {
   "cell_type": "code",
   "execution_count": 52,
   "id": "4db64763",
   "metadata": {},
   "outputs": [
    {
     "data": {
      "text/plain": [
       "torch.Size([28, 28])"
      ]
     },
     "execution_count": 52,
     "metadata": {},
     "output_type": "execute_result"
    }
   ],
   "source": [
    "image = torch.from_numpy(image)\n",
    "image.shape"
   ]
  },
  {
   "cell_type": "code",
   "execution_count": 53,
   "id": "b436a294",
   "metadata": {},
   "outputs": [
    {
     "data": {
      "text/plain": [
       "torch.Size([1, 784])"
      ]
     },
     "execution_count": 53,
     "metadata": {},
     "output_type": "execute_result"
    }
   ],
   "source": [
    "flatten = image.view(1, 28*28)\n",
    "flatten.shape"
   ]
  },
  {
   "cell_type": "code",
   "execution_count": 54,
   "id": "e8555ccc",
   "metadata": {},
   "outputs": [
    {
     "data": {
      "text/plain": [
       "torch.Size([1, 10])"
      ]
     },
     "execution_count": 54,
     "metadata": {},
     "output_type": "execute_result"
    }
   ],
   "source": [
    "lin = nn.Linear(784, 10)(flatten)\n",
    "lin.shape"
   ]
  },
  {
   "cell_type": "code",
   "execution_count": 55,
   "id": "ac571762",
   "metadata": {},
   "outputs": [
    {
     "data": {
      "text/plain": [
       "tensor([[ 0.3453,  1.8904, -1.2485, -0.3254, -0.4224,  0.1445, -0.9001, -0.1537,\n",
       "          0.4736, -0.0104]], grad_fn=<AddmmBackward>)"
      ]
     },
     "execution_count": 55,
     "metadata": {},
     "output_type": "execute_result"
    }
   ],
   "source": [
    "lin"
   ]
  },
  {
   "cell_type": "code",
   "execution_count": 63,
   "id": "5c8cae56",
   "metadata": {},
   "outputs": [
    {
     "data": {
      "image/png": "[encoded data removed]",
      "text/plain": [
       "<Figure size 432x288 with 2 Axes>"
      ]
     },
     "metadata": {},
     "output_type": "display_data"
    }
   ],
   "source": [
    "plt.imshow(lin.detach().numpy(), 'jet')\n",
    "plt.colorbar()\n",
    "plt.show()"
   ]
  },
  {
   "cell_type": "markdown",
   "id": "c775247d",
   "metadata": {},
   "source": [
    "### softmax"
   ]
  },
  {
   "cell_type": "code",
   "execution_count": 64,
   "id": "943ec5a5",
   "metadata": {},
   "outputs": [],
   "source": [
    "with torch.no_grad():\n",
    "    flatten = image.view(1, 28 * 28)\n",
    "    lin = nn.Linear(784, 10)(flatten)\n",
    "    softmax = F.softmax(lin, dim = 1)"
   ]
  },
  {
   "cell_type": "code",
   "execution_count": 65,
   "id": "e924159f",
   "metadata": {},
   "outputs": [
    {
     "data": {
      "text/plain": [
       "tensor([[0.2843, 0.0636, 0.0854, 0.0797, 0.0641, 0.0996, 0.0671, 0.0693, 0.0361,\n",
       "         0.1508]])"
      ]
     },
     "execution_count": 65,
     "metadata": {},
     "output_type": "execute_result"
    }
   ],
   "source": [
    "softmax"
   ]
  },
  {
   "cell_type": "code",
   "execution_count": 67,
   "id": "df630007",
   "metadata": {},
   "outputs": [
    {
     "data": {
      "text/plain": [
       "1.0"
      ]
     },
     "execution_count": 67,
     "metadata": {},
     "output_type": "execute_result"
    }
   ],
   "source": [
    "import numpy as np\n",
    "\n",
    "np.sum(softmax.numpy())"
   ]
  },
  {
   "cell_type": "markdown",
   "id": "a4708d01",
   "metadata": {},
   "source": [
    "### F.relu\n",
    "- Relu 함수를 적영하는 레이어\n",
    "- nn.ReLU로도 사용 가능"
   ]
  },
  {
   "cell_type": "code",
   "execution_count": 73,
   "id": "f46f04a9",
   "metadata": {},
   "outputs": [
    {
     "data": {
      "text/plain": [
       "torch.Size([4, 3, 28, 28])"
      ]
     },
     "execution_count": 73,
     "metadata": {},
     "output_type": "execute_result"
    }
   ],
   "source": [
    "inputs = torch.randn(4, 3, 28, 28).to(torch.device('cuda'))\n",
    "inputs.shape"
   ]
  },
  {
   "cell_type": "code",
   "execution_count": 74,
   "id": "58e393b4",
   "metadata": {},
   "outputs": [
    {
     "data": {
      "text/plain": [
       "torch.Size([4, 20, 24, 24])"
      ]
     },
     "execution_count": 74,
     "metadata": {},
     "output_type": "execute_result"
    }
   ],
   "source": [
    "layer = nn.Conv2d(3, 20, 5, 1).to(torch.device('cuda'))\n",
    "output = F.relu(layer(inputs))\n",
    "output.shape"
   ]
  },
  {
   "cell_type": "markdown",
   "id": "66d99340",
   "metadata": {},
   "source": [
    "## Optimizer\n",
    "\n",
    "- `import torch.optim as optim`\n",
    "\n",
    "- `model`의 파라미터를 업데이트\n",
    "\n",
    "- 예시)\n",
    "  ```python\n",
    "  optimizer = torch.optim.Adam(model.parameters(), lr=1e-4, weight_decay=1e-5)\n",
    "  optimizer = optim.SGD(model.parameters(), lr=0.001)\n",
    "  ```\n",
    "\n",
    "- `.zero_grad()`로 초기화\n",
    "- `.step()`으로 업데이트\n"
   ]
  },
  {
   "cell_type": "code",
   "execution_count": null,
   "id": "9761c824",
   "metadata": {},
   "outputs": [],
   "source": []
  }
 ],
 "metadata": {
  "kernelspec": {
   "display_name": "Python 3 (ipykernel)",
   "language": "python",
   "name": "python3"
  },
  "language_info": {
   "codemirror_mode": {
    "name": "ipython",
    "version": 3
   },
   "file_extension": ".py",
   "mimetype": "text/x-python",
   "name": "python",
   "nbconvert_exporter": "python",
   "pygments_lexer": "ipython3",
   "version": "3.8.11"
  }
 },
 "nbformat": 4,
 "nbformat_minor": 5
}
